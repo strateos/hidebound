{
 "cells": [
  {
   "cell_type": "code",
   "execution_count": 1,
   "metadata": {
    "collapsed": false,
    "run_control": {
     "frozen": false,
     "read_only": false
    }
   },
   "outputs": [
    {
     "name": "stdout",
     "output_type": "stream",
     "text": [
      "/Users/alex/Documents/projects/stitch/python\n",
      "/Users/alex/Documents/projects/nerve/python\n"
     ]
    }
   ],
   "source": [
    "%cd ~/Documents/projects/stitch/python/\n",
    "from stitch.core.stitch_frame import StitchFrame\n",
    "\n",
    "%cd ~/Documents/projects/nerve/python/\n",
    "from nerve.spec.aesthetics import *\n",
    "\n",
    "import yaml\n",
    "from plotly import graph_objs"
   ]
  },
  {
   "cell_type": "code",
   "execution_count": 14,
   "metadata": {
    "collapsed": false,
    "run_control": {
     "frozen": false,
     "read_only": false
    },
    "scrolled": false
   },
   "outputs": [
    {
     "data": {
      "text/plain": [
       "[('l0', [[60, 0.8, 0.5], [60, 0.6, 0.5], [60, 0.4, 0.5]]),\n",
       " ('l1', [[180, 0.8, 0.5], [180, 0.6, 0.5], [180, 0.4, 0.5]]),\n",
       " ('l2', [[300, 0.8, 0.5], [300, 0.6, 0.5], [300, 0.4, 0.5]]),\n",
       " ('l3', [[0, 0.8, 0.5], [0, 0.6, 0.5], [0, 0.4, 0.5]]),\n",
       " ('l4', [[120, 0.8, 0.5], [120, 0.6, 0.5], [120, 0.4, 0.5]]),\n",
       " ('l5', [[180, 0.8, 0.5], [180, 0.6, 0.5], [180, 0.4, 0.5]])]"
      ]
     },
     "execution_count": 14,
     "metadata": {},
     "output_type": "execute_result"
    }
   ],
   "source": [
    "config = '/Users/alex/Documents/projects/nerve/python/nerve/resources/aesthetic-model.yml'\n",
    "with open(config, 'r') as f:\n",
    "    config = yaml.load(f)\n",
    "\n",
    "fig = config['figure']\n",
    "del fig['layer']\n",
    "app = Appearance(fig['appearance'])\n",
    "app.palette.items()\n",
    "fig = Figure(fig)\n",
    "fig.appearance.palette.items()"
   ]
  },
  {
   "cell_type": "code",
   "execution_count": 5,
   "metadata": {
    "collapsed": false,
    "run_control": {
     "frozen": false,
     "read_only": false
    }
   },
   "outputs": [],
   "source": [
    "import pandas as pd\n",
    "from pandas import DataFrame, Series\n",
    "import numpy as np"
   ]
  },
  {
   "cell_type": "code",
   "execution_count": 6,
   "metadata": {
    "collapsed": false,
    "run_control": {
     "frozen": false,
     "read_only": false
    }
   },
   "outputs": [],
   "source": [
    "def get_graph_objs(print_=True):\n",
    "    x = dir(graph_objs)\n",
    "    x = filter(lambda x: re.search('^[A-Z]', x), x)\n",
    "    names = sorted(list(x))\n",
    "    x = [getattr(graph_objs, x) for x in names]\n",
    "    x = Series(x)\n",
    "    x = x.apply(lambda x: x.__doc__)\n",
    "    x = x.apply(lambda x: re.split('\\n\\n', x)).tolist()\n",
    "    x = DataFrame(x)\n",
    "    mask = x[1].apply(pd.isnull)\n",
    "    a = x[mask][0].apply(lambda x: ' '.join(x.split('\\n')[1:-1]))\n",
    "    mask = x[mask]\n",
    "    x.loc[mask.index, 1] = a\n",
    "\n",
    "    x[0] = names\n",
    "    x = x[[0,1]]\n",
    "    x[1] = x[1].apply(lambda x: re.sub('\\n', '', x))\n",
    "    x[1] = x[1].apply(lambda x: re.sub(',$', '', x))\n",
    "    x[1] = x[1].apply(lambda x: re.sub(']$', '', x))\n",
    "    x[1] = x[1].apply(lambda x: x + ']')\n",
    "    mask = x[1].apply(lambda x: re.search('dict', x)).astype(bool)\n",
    "    x = x[~mask]\n",
    "    x[1] = x[1].apply(eval)\n",
    "    x.sort_values(0, inplace=True)\n",
    "    x.columns=['name', 'attr']\n",
    "    x.fillna('[]', inplace=True)\n",
    "    x.attr = x.attr.apply(str).apply(eval).apply(sorted)\n",
    "    \n",
    "    lut = set(list(chain(*x.attr.tolist())))\n",
    "    lut.add('0')\n",
    "    lut = sorted(lut)\n",
    "    \n",
    "    ilut = dict(enumerate(lut))\n",
    "    lut = {v:k for k,v in ilut.items()}\n",
    "    def func(words):\n",
    "        output = np.zeros(347)\n",
    "        for word in words:\n",
    "            output[lut[word]] = lut[word]\n",
    "        return output\n",
    "    \n",
    "    x['vector'] = x.attr.apply(func)\n",
    "            \n",
    "    if print_:\n",
    "        for i, row in x.iterrows():\n",
    "            print(row[0] + ':')\n",
    "            for item in sorted(row[1]):\n",
    "                print('\\t', item)\n",
    "    return x, lut, ilut\n",
    "            \n",
    "data, lut, ilut = get_graph_objs(False)\n",
    "\n",
    "v = data.vector.apply(lambda x: [ilut[x] for x in x])\n",
    "v = StitchFrame(v).flatten(dtype=list, prefix=False).to_dataframe()[:46].T\n",
    "v.columns = data.name\n",
    "v.index = v.index.to_series().apply(lambda x: ilut[x])\n",
    "v = v.ix[1:]\n",
    "v = v.applymap(lambda x: np.nan if x == '0' else x)\n",
    "v['count'] = v.count(axis=1)\n",
    "v.to_csv('/Users/alex/Desktop/plotly-graph-objs.csv')"
   ]
  },
  {
   "cell_type": "code",
   "execution_count": 43,
   "metadata": {
    "collapsed": false,
    "run_control": {
     "frozen": false,
     "read_only": false
    }
   },
   "outputs": [],
   "source": [
    "mrg_temp = '/Users/alex/Documents/projects/3scan-histology-report/data/data.json'\n",
    "mrg_temp = json.load(open(mrg_temp, 'r'))\n",
    "mrg_temp = StitchFrame().from_nested_dict(mrg_temp).to_dataframe()"
   ]
  },
  {
   "cell_type": "code",
   "execution_count": 9,
   "metadata": {
    "collapsed": true
   },
   "outputs": [],
   "source": [
    "master = '/Users/alex/Documents/projects/3scan-histology-report/data/data.json'\n",
    "master = json.load(open(master, 'r'))\n",
    "master = StitchFrame().from_nested_dict(master).to_dataframe()"
   ]
  },
  {
   "cell_type": "code",
   "execution_count": 37,
   "metadata": {
    "collapsed": false
   },
   "outputs": [],
   "source": [
    "x = mrg_temp.loc[10, 'v000'][0]\n",
    "x = StitchFrame().from_nested_dict(x).to_dataframe()"
   ]
  },
  {
   "cell_type": "code",
   "execution_count": 39,
   "metadata": {
    "collapsed": false
   },
   "outputs": [],
   "source": [
    "y = master.loc[10, 'v000'][0]\n",
    "y = StitchFrame().from_nested_dict(y).to_dataframe()"
   ]
  },
  {
   "cell_type": "code",
   "execution_count": 41,
   "metadata": {
    "collapsed": false
   },
   "outputs": [
    {
     "data": {
      "text/plain": [
       "array([True], dtype=object)"
      ]
     },
     "execution_count": 41,
     "metadata": {},
     "output_type": "execute_result"
    }
   ],
   "source": [
    "(x.k000 == y.k000).unique()\n",
    "(x.v000 == y.v000).unique()"
   ]
  },
  {
   "cell_type": "code",
   "execution_count": 45,
   "metadata": {
    "collapsed": true
   },
   "outputs": [],
   "source": [
    "from pandas import DataFrame"
   ]
  },
  {
   "cell_type": "code",
   "execution_count": 69,
   "metadata": {
    "collapsed": true
   },
   "outputs": [],
   "source": [
    "master = '/Users/alex/Documents/projects/3scan-histology-report'\n",
    "x = StitchFrame().from_walk(master)"
   ]
  },
  {
   "cell_type": "code",
   "execution_count": 70,
   "metadata": {
    "collapsed": false
   },
   "outputs": [],
   "source": [
    "master = '/Users/alex/Documents/projects/3scan-histology-report'\n",
    "y = StitchFrame().from_walk(master)"
   ]
  },
  {
   "cell_type": "code",
   "execution_count": 71,
   "metadata": {
    "collapsed": false
   },
   "outputs": [],
   "source": [
    "a = x.to_dataframe()\n",
    "b = y.to_dataframe()"
   ]
  },
  {
   "cell_type": "code",
   "execution_count": 73,
   "metadata": {
    "collapsed": false
   },
   "outputs": [
    {
     "data": {
      "text/plain": [
       "array([True], dtype=object)"
      ]
     },
     "execution_count": 73,
     "metadata": {},
     "output_type": "execute_result"
    }
   ],
   "source": []
  },
  {
   "cell_type": "code",
   "execution_count": null,
   "metadata": {
    "collapsed": true
   },
   "outputs": [],
   "source": []
  }
 ],
 "metadata": {
  "kernelspec": {
   "display_name": "Python 3",
   "language": "python",
   "name": "python3"
  },
  "language_info": {
   "codemirror_mode": {
    "name": "ipython",
    "version": 3
   },
   "file_extension": ".py",
   "mimetype": "text/x-python",
   "name": "python",
   "nbconvert_exporter": "python",
   "pygments_lexer": "ipython3",
   "version": "3.4.5"
  },
  "widgets": {
   "state": {},
   "version": "1.1.2"
  }
 },
 "nbformat": 4,
 "nbformat_minor": 1
}
