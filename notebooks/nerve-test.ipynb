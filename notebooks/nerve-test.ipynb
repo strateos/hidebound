{
 "cells": [
  {
   "cell_type": "code",
   "execution_count": 1,
   "metadata": {
    "collapsed": false,
    "run_control": {
     "frozen": false,
     "read_only": false
    }
   },
   "outputs": [
    {
     "name": "stdout",
     "output_type": "stream",
     "text": [
      "/Users/alex/Documents/projects/stitch/python\n",
      "/Users/alex/Documents/projects/nerve/python\n",
      "/Users/alex/Documents/projects/nerve\n"
     ]
    }
   ],
   "source": [
    "import re\n",
    "import shutil\n",
    "import pandas as pd\n",
    "from pandas import DataFrame, Series\n",
    "import github3\n",
    "from github3 import login\n",
    "from git import Repo, GitCommandError\n",
    "import yaml\n",
    "from subprocess import Popen, PIPE, STDOUT, SubprocessError, check_output\n",
    "from configparser import ConfigParser\n",
    "from github3.repos.branch import Branch\n",
    "from github3.null import NullObject\n",
    "from schematics.models import Model, BaseType\n",
    "from schematics.types import StringType, IntType, BooleanType\n",
    "from schematics.types.compound import ListType, DictType\n",
    "from schematics.exceptions import ValidationError\n",
    "%cd ~/Documents/projects/stitch/python/\n",
    "from stitch.core.stitch_frame import StitchFrame\n",
    "%cd ~/Documents/projects/nerve/python/\n",
    "from nerve.core.model import Nerve\n",
    "from nerve.core.client import Client\n",
    "from nerve.core.utils import *\n",
    "from nerve.core.git import Git\n",
    "from nerve.core.git_lfs import GitLFS\n",
    "from nerve.core.metadata import Metadata\n",
    "from nerve.core.utils import execute_subprocess, get_status\n",
    "from nerve.spec.specifications import *\n",
    "from nerve.spec.validators import *\n",
    "from nerve.spec.traits import *\n",
    "from nerve.spec import traits\n",
    "from nerve.test.test_suite import *\n",
    "%cd ~/Documents/projects/nerve"
   ]
  },
  {
   "cell_type": "code",
   "execution_count": 2,
   "metadata": {
    "collapsed": false,
    "run_control": {
     "frozen": false,
     "read_only": false
    },
    "scrolled": false
   },
   "outputs": [],
   "source": [
    "config_path = '/Users/alex/Documents/projects/nerve/python/nerve/resources/nerverc.yml'\n",
    "nerve = Nerve(config_path)\n",
    "proj = os.path.join(nerve['project-root'], nerve['project']['project-name'])\n",
    "info = nerve._get_info(None, None, {})\n",
    "cc = info.client_conf"
   ]
  },
  {
   "cell_type": "code",
   "execution_count": 5,
   "metadata": {
    "collapsed": false
   },
   "outputs": [
    {
     "data": {
      "text/plain": [
       "True"
      ]
     },
     "execution_count": 5,
     "metadata": {},
     "output_type": "execute_result"
    }
   ],
   "source": [
    "nerve.delete(True, True)"
   ]
  },
  {
   "cell_type": "code",
   "execution_count": 15,
   "metadata": {
    "collapsed": false,
    "run_control": {
     "frozen": false,
     "read_only": false
    }
   },
   "outputs": [
    {
     "data": {
      "text/plain": [
       "True"
      ]
     },
     "execution_count": 15,
     "metadata": {},
     "output_type": "execute_result"
    }
   ],
   "source": [
    "nerve.delete(False, True)"
   ]
  },
  {
   "cell_type": "code",
   "execution_count": 6,
   "metadata": {
    "collapsed": false,
    "run_control": {
     "frozen": false,
     "read_only": false
    }
   },
   "outputs": [
    {
     "data": {
      "text/plain": [
       "True"
      ]
     },
     "execution_count": 6,
     "metadata": {},
     "output_type": "execute_result"
    }
   ],
   "source": [
    "nerve.create(notes='some note about a thing')"
   ]
  },
  {
   "cell_type": "code",
   "execution_count": 7,
   "metadata": {
    "collapsed": false,
    "run_control": {
     "frozen": false,
     "read_only": false
    }
   },
   "outputs": [
    {
     "data": {
      "text/plain": [
       "True"
      ]
     },
     "execution_count": 7,
     "metadata": {},
     "output_type": "execute_result"
    }
   ],
   "source": [
    "nerve.clone()"
   ]
  },
  {
   "cell_type": "code",
   "execution_count": 8,
   "metadata": {
    "collapsed": false
   },
   "outputs": [
    {
     "name": "stdout",
     "output_type": "stream",
     "text": [
      ".\n",
      "├── geo001\n",
      "├── maya001\n",
      "│   ├── ntr001_maya001_kdny_v001.mb\n",
      "│   └── ntr001_maya001_vasc_v001.mb\n",
      "├── proj001_meta.yml\n",
      "└── vol001\n",
      "\n",
      "3 directories, 3 files\n"
     ]
    }
   ],
   "source": [
    "%%bash\n",
    "cd /tmp/ntr001\n",
    "echo vasc v001 > maya001/ntr001_maya001_vasc_v001.mb\n",
    "echo kidney v001 > maya001/ntr001_maya001_kdny_v001.mb\n",
    "tree"
   ]
  },
  {
   "cell_type": "code",
   "execution_count": 29,
   "metadata": {
    "collapsed": false
   },
   "outputs": [],
   "source": [
    "nerve.publish(notes='create vol001_v001; if you can read this, it probably worked', verbosity=2)"
   ]
  }
 ],
 "metadata": {
  "kernelspec": {
   "display_name": "Python 3",
   "language": "python",
   "name": "python3"
  },
  "language_info": {
   "codemirror_mode": {
    "name": "ipython",
    "version": 3
   },
   "file_extension": ".py",
   "mimetype": "text/x-python",
   "name": "python",
   "nbconvert_exporter": "python",
   "pygments_lexer": "ipython3",
   "version": "3.4.5"
  },
  "widgets": {
   "state": {},
   "version": "1.1.2"
  }
 },
 "nbformat": 4,
 "nbformat_minor": 1
}
