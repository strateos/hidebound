{
 "cells": [
  {
   "cell_type": "code",
   "execution_count": 1,
   "metadata": {
    "collapsed": false,
    "run_control": {
     "frozen": false,
     "read_only": false
    }
   },
   "outputs": [
    {
     "name": "stdout",
     "output_type": "stream",
     "text": [
      "/Users/alex/Documents/projects/stitch/python\n",
      "/Users/alex/Documents/projects/nerve/python\n",
      "/Users/alex/Documents/projects/nerve\n"
     ]
    }
   ],
   "source": [
    "import re\n",
    "import shutil\n",
    "import pandas as pd\n",
    "from pandas import DataFrame, Series\n",
    "import github3\n",
    "from github3 import login\n",
    "from git import Repo, GitCommandError\n",
    "import yaml\n",
    "from subprocess import Popen, PIPE, STDOUT, SubprocessError, check_output\n",
    "from configparser import ConfigParser\n",
    "from github3.repos.branch import Branch\n",
    "from github3.null import NullObject\n",
    "from schematics.models import Model, BaseType\n",
    "from schematics.types import StringType, IntType, BooleanType\n",
    "from schematics.types.compound import ListType, DictType\n",
    "from schematics.exceptions import ValidationError\n",
    "%cd ~/Documents/projects/stitch/python/\n",
    "from stitch.core.stitch_frame import StitchFrame\n",
    "%cd ~/Documents/projects/nerve/python/\n",
    "from nerve.core.model import Nerve\n",
    "from nerve.core.client import Client\n",
    "from nerve.core.utils import *\n",
    "from nerve.core.git import Git\n",
    "from nerve.core.git_lfs import GitLFS\n",
    "from nerve.core.metadata import Metadata\n",
    "from nerve.core.utils import execute_subprocess, get_status\n",
    "from nerve.spec.specifications import *\n",
    "from nerve.spec.validators import *\n",
    "from nerve.spec.traits import *\n",
    "from nerve.spec import traits\n",
    "from nerve.test.test_suite import *\n",
    "%cd ~/Documents/projects/nerve"
   ]
  },
  {
   "cell_type": "code",
   "execution_count": 2,
   "metadata": {
    "collapsed": false,
    "run_control": {
     "frozen": false,
     "read_only": false
    },
    "scrolled": false
   },
   "outputs": [],
   "source": [
    "def stat(nerve):\n",
    "    stat = nerve.status(status_asset_types=['deliverable', 'nondeliverable'])\n",
    "    data = DataFrame(list(stat)).applymap(lambda x: x.data)\n",
    "    data = StitchFrame(data).flatten(prefix=False).to_dataframe().T\n",
    "    return data\n",
    "\n",
    "config_path = '/Users/alex/Documents/projects/nerve/python/nerve/resources/nerverc.yml'\n",
    "nerve = Nerve(config_path)\n",
    "proj = os.path.join(nerve['project-root'], nerve['project']['project-name'])\n",
    "info = nerve._get_info(None, None, {})\n",
    "cc = info.client_conf"
   ]
  },
  {
   "cell_type": "code",
   "execution_count": 3,
   "metadata": {
    "collapsed": false
   },
   "outputs": [
    {
     "data": {
      "text/plain": [
       "True"
      ]
     },
     "execution_count": 3,
     "metadata": {},
     "output_type": "execute_result"
    }
   ],
   "source": [
    "nerve.delete(True, True)"
   ]
  },
  {
   "cell_type": "code",
   "execution_count": 3,
   "metadata": {
    "collapsed": false
   },
   "outputs": [
    {
     "data": {
      "text/plain": [
       "True"
      ]
     },
     "execution_count": 3,
     "metadata": {},
     "output_type": "execute_result"
    }
   ],
   "source": [
    "nerve.delete(False, True)"
   ]
  },
  {
   "cell_type": "code",
   "execution_count": 3,
   "metadata": {
    "collapsed": false,
    "run_control": {
     "frozen": false,
     "read_only": false
    }
   },
   "outputs": [
    {
     "data": {
      "text/plain": [
       "True"
      ]
     },
     "execution_count": 3,
     "metadata": {},
     "output_type": "execute_result"
    }
   ],
   "source": [
    "nerve.delete(True, False)"
   ]
  },
  {
   "cell_type": "code",
   "execution_count": 4,
   "metadata": {
    "collapsed": false,
    "run_control": {
     "frozen": false,
     "read_only": false
    }
   },
   "outputs": [
    {
     "data": {
      "text/plain": [
       "True"
      ]
     },
     "execution_count": 4,
     "metadata": {},
     "output_type": "execute_result"
    }
   ],
   "source": [
    "nerve.create(notes='some note about a thing')"
   ]
  },
  {
   "cell_type": "code",
   "execution_count": 4,
   "metadata": {
    "collapsed": false,
    "run_control": {
     "frozen": false,
     "read_only": false
    },
    "scrolled": false
   },
   "outputs": [
    {
     "data": {
      "text/plain": [
       "True"
      ]
     },
     "execution_count": 4,
     "metadata": {},
     "output_type": "execute_result"
    }
   ],
   "source": [
    "nerve.clone()"
   ]
  },
  {
   "cell_type": "code",
   "execution_count": 5,
   "metadata": {
    "collapsed": false
   },
   "outputs": [
    {
     "name": "stdout",
     "output_type": "stream",
     "text": [
      ".\n",
      "├── geo001\n",
      "├── maya001\n",
      "│   ├── ntr001_maya001_kdny_v001.mb\n",
      "│   └── ntr001_maya001_vasc_v001.mb\n",
      "├── proj001_meta.yml\n",
      "└── vol001\n",
      "\n",
      "3 directories, 3 files\n"
     ]
    }
   ],
   "source": [
    "%%bash\n",
    "cd /tmp/ntr001\n",
    "echo vasc v001 > maya001/ntr001_maya001_vasc_v001.mb\n",
    "echo kidney v001 > maya001/ntr001_maya001_kdny_v001.mb\n",
    "tree"
   ]
  },
  {
   "cell_type": "code",
   "execution_count": 6,
   "metadata": {
    "collapsed": false
   },
   "outputs": [
    {
     "data": {
      "text/html": [
       "<div>\n",
       "<table border=\"1\" class=\"dataframe\">\n",
       "  <thead>\n",
       "    <tr style=\"text-align: right;\">\n",
       "      <th></th>\n",
       "      <th>0</th>\n",
       "      <th>1</th>\n",
       "    </tr>\n",
       "  </thead>\n",
       "  <tbody>\n",
       "    <tr>\n",
       "      <th>asset-id</th>\n",
       "      <td>2044dbce-2bd1-4f8f-87ff-42...</td>\n",
       "      <td>7c5dfbb0-d6e3-437a-a9fb-bf...</td>\n",
       "    </tr>\n",
       "    <tr>\n",
       "      <th>asset-name</th>\n",
       "      <td>ntr001_maya001_kdny_v001</td>\n",
       "      <td>ntr001_maya001_vasc_v001</td>\n",
       "    </tr>\n",
       "    <tr>\n",
       "      <th>asset-type</th>\n",
       "      <td>nondeliverable</td>\n",
       "      <td>nondeliverable</td>\n",
       "    </tr>\n",
       "    <tr>\n",
       "      <th>data</th>\n",
       "      <td>None</td>\n",
       "      <td>None</td>\n",
       "    </tr>\n",
       "    <tr>\n",
       "      <th>notes</th>\n",
       "      <td></td>\n",
       "      <td></td>\n",
       "    </tr>\n",
       "    <tr>\n",
       "      <th>project-id</th>\n",
       "      <td>None</td>\n",
       "      <td>None</td>\n",
       "    </tr>\n",
       "    <tr>\n",
       "      <th>project-name</th>\n",
       "      <td>ntr001</td>\n",
       "      <td>ntr001</td>\n",
       "    </tr>\n",
       "    <tr>\n",
       "      <th>specification</th>\n",
       "      <td>maya001</td>\n",
       "      <td>maya001</td>\n",
       "    </tr>\n",
       "    <tr>\n",
       "      <th>url</th>\n",
       "      <td>None</td>\n",
       "      <td>None</td>\n",
       "    </tr>\n",
       "  </tbody>\n",
       "</table>\n",
       "</div>"
      ],
      "text/plain": [
       "                                           0                              1\n",
       "asset-id       2044dbce-2bd1-4f8f-87ff-42...  7c5dfbb0-d6e3-437a-a9fb-bf...\n",
       "asset-name          ntr001_maya001_kdny_v001       ntr001_maya001_vasc_v001\n",
       "asset-type                    nondeliverable                 nondeliverable\n",
       "data                                    None                           None\n",
       "notes                                                                      \n",
       "project-id                              None                           None\n",
       "project-name                          ntr001                         ntr001\n",
       "specification                        maya001                        maya001\n",
       "url                                     None                           None"
      ]
     },
     "execution_count": 6,
     "metadata": {},
     "output_type": "execute_result"
    }
   ],
   "source": [
    "stat(nerve)"
   ]
  },
  {
   "cell_type": "code",
   "execution_count": 7,
   "metadata": {
    "collapsed": true
   },
   "outputs": [],
   "source": [
    "self = nerve\n",
    "nondeliverables = self.status(name=info.name,\n",
    "    status_asset_types=['nondeliverable'], **info.config)\n",
    "nondeliverables = list(nondeliverables)\n",
    "for non in nondeliverables:\n",
    "    non.get_traits()\n",
    "    non.write(validate=False)"
   ]
  },
  {
   "cell_type": "code",
   "execution_count": 3,
   "metadata": {
    "collapsed": true
   },
   "outputs": [],
   "source": [
    "# publish nondeliverables\n",
    "lfs = GitLFS(info.path, environment=info.env)\n",
    "local = Git(info.path, branch=info.branch, environment=info.env)"
   ]
  },
  {
   "cell_type": "code",
   "execution_count": 3,
   "metadata": {
    "collapsed": true
   },
   "outputs": [],
   "source": [
    "# push non-deliverables to user-branch\n",
    "local.add([x.metapath for x in nondeliverables])\n",
    "local.add([x.datapath for x in nondeliverables])\n",
    "names = [x['asset-name'] for x in nondeliverables]\n",
    "local.commit('NON-DELIVERABLES: ' + ', '.join(names))"
   ]
  },
  {
   "cell_type": "code",
   "execution_count": 4,
   "metadata": {
    "collapsed": false
   },
   "outputs": [
    {
     "data": {
      "text/plain": [
       "[]"
      ]
     },
     "execution_count": 4,
     "metadata": {},
     "output_type": "execute_result"
    }
   ],
   "source": [
    "url = info.lfs_url\n",
    "branch = info.branch\n",
    "cmd = 'git lfs push {remote} {branch}'.format(remote=url, branch=branch)\n",
    "execute_subprocess(cmd, proj, environment=info.env)"
   ]
  },
  {
   "cell_type": "code",
   "execution_count": 4,
   "metadata": {
    "collapsed": true
   },
   "outputs": [],
   "source": [
    "lfs.push(info.lfs_url, info.branch)\n",
    "# lfs.remove_prepush()\n",
    "# local.push(info.branch)"
   ]
  },
  {
   "cell_type": "code",
   "execution_count": 5,
   "metadata": {
    "collapsed": false
   },
   "outputs": [],
   "source": [
    "nerve._publish_nondeliverables(info)\n",
    "nerve._update_local(info)"
   ]
  },
  {
   "cell_type": "code",
   "execution_count": 29,
   "metadata": {
    "collapsed": false
   },
   "outputs": [],
   "source": [
    "nerve.publish(notes='create vol001_v001; if you can read this, it probably worked', verbosity=2)"
   ]
  }
 ],
 "metadata": {
  "kernelspec": {
   "display_name": "Python 3",
   "language": "python",
   "name": "python3"
  },
  "language_info": {
   "codemirror_mode": {
    "name": "ipython",
    "version": 3
   },
   "file_extension": ".py",
   "mimetype": "text/x-python",
   "name": "python",
   "nbconvert_exporter": "python",
   "pygments_lexer": "ipython3",
   "version": "3.4.5"
  },
  "widgets": {
   "state": {},
   "version": "1.1.2"
  }
 },
 "nbformat": 4,
 "nbformat_minor": 1
}
