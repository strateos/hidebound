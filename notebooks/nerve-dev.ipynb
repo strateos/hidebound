{
 "cells": [
  {
   "cell_type": "code",
   "execution_count": 1,
   "metadata": {
    "collapsed": false
   },
   "outputs": [
    {
     "name": "stdout",
     "output_type": "stream",
     "text": [
      "/Users/alex/Documents/projects/nerve/python\n"
     ]
    }
   ],
   "source": [
    "import re\n",
    "import shutil\n",
    "from github3 import login\n",
    "from git import Repo\n",
    "import yaml\n",
    "from subprocess import Popen, PIPE, STDOUT, SubprocessError, check_output\n",
    "from configparser import ConfigParser\n",
    "%cd ~/Documents/projects/nerve/python/\n",
    "from nerve.core.model import Nerve"
   ]
  },
  {
   "cell_type": "code",
   "execution_count": 2,
   "metadata": {
    "collapsed": false
   },
   "outputs": [],
   "source": [
    "config_path = '/Users/alex/Documents/projects/nerve/python/nerve/resources/nerverc.yml'\n",
    "nerve = Nerve(config_path)\n",
    "name = 'test-nerve-repo'\n",
    "\n",
    "client = nerve._client\n",
    "username = nerve._config['username']\n",
    "repo = client.repository(username, name)\n",
    "repo.delete()\n",
    "\n",
    "proj = os.path.join(nerve._config['project_dir'], name)\n",
    "shutil.rmtree(proj)"
   ]
  },
  {
   "cell_type": "code",
   "execution_count": 3,
   "metadata": {
    "collapsed": false
   },
   "outputs": [],
   "source": [
    "nerve.create(name)"
   ]
  },
  {
   "cell_type": "code",
   "execution_count": null,
   "metadata": {
    "collapsed": true
   },
   "outputs": [],
   "source": []
  }
 ],
 "metadata": {
  "kernelspec": {
   "display_name": "Python 3",
   "language": "python",
   "name": "python3"
  },
  "language_info": {
   "codemirror_mode": {
    "name": "ipython",
    "version": 3
   },
   "file_extension": ".py",
   "mimetype": "text/x-python",
   "name": "python",
   "nbconvert_exporter": "python",
   "pygments_lexer": "ipython3",
   "version": "3.4.5"
  }
 },
 "nbformat": 4,
 "nbformat_minor": 1
}
