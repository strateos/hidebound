{
 "cells": [
  {
   "cell_type": "code",
   "execution_count": 1,
   "metadata": {
    "collapsed": false
   },
   "outputs": [
    {
     "name": "stdout",
     "output_type": "stream",
     "text": [
      "/Users/alex/Documents/projects/nerve/python\n"
     ]
    }
   ],
   "source": [
    "import re\n",
    "import shutil\n",
    "from github3 import login\n",
    "from git import Repo\n",
    "import yaml\n",
    "from subprocess import Popen, PIPE, STDOUT, SubprocessError, check_output\n",
    "from configparser import ConfigParser\n",
    "%cd ~/Documents/projects/nerve/python/\n",
    "from nerve.core.model import Nerve\n",
    "from nerve.core.git_lfs import GitLFS\n",
    "from nerve.core.utils import execute_subprocess"
   ]
  },
  {
   "cell_type": "code",
   "execution_count": 2,
   "metadata": {
    "collapsed": false
   },
   "outputs": [],
   "source": [
    "config_path = '/Users/alex/Documents/projects/nerve/python/nerve/resources/nerverc.yml'\n",
    "nerve = Nerve(config_path)\n",
    "name = 'nerve-test-repo'\n",
    "proj = os.path.join(nerve._config['project-root'], name)\n",
    "\n",
    "# token = nerve._config['token']\n",
    "# username = nerve._config['username']\n",
    "\n",
    "# client = nerve._client\n",
    "# orgname = nerve._config['organization']\n",
    "# org = client.organization(orgname)\n",
    "\n",
    "# repo = client.repository(orgname, name)\n",
    "# repo.delete()\n",
    "# shutil.rmtree(proj)"
   ]
  },
  {
   "cell_type": "code",
   "execution_count": 3,
   "metadata": {
    "collapsed": false
   },
   "outputs": [],
   "source": [
    "# nerve.create(name)\n",
    "# nerve.clone(name)"
   ]
  },
  {
   "cell_type": "code",
   "execution_count": 6,
   "metadata": {
    "collapsed": false
   },
   "outputs": [
    {
     "ename": "SubprocessError",
     "evalue": "Command: \"git lfs status --banana\" returned \"Error: unknown flag: --banana\"",
     "output_type": "error",
     "traceback": [
      "\u001b[0;31m---------------------------------------------------------------------------\u001b[0m",
      "\u001b[0;31mSubprocessError\u001b[0m                           Traceback (most recent call last)",
      "\u001b[0;32m<ipython-input-6-40930137a3d0>\u001b[0m in \u001b[0;36m<module>\u001b[0;34m()\u001b[0m\n\u001b[1;32m      1\u001b[0m \u001b[0mlfs\u001b[0m \u001b[0;34m=\u001b[0m \u001b[0mGitLFS\u001b[0m\u001b[0;34m(\u001b[0m\u001b[0mproj\u001b[0m\u001b[0;34m)\u001b[0m\u001b[0;34m\u001b[0m\u001b[0m\n\u001b[1;32m      2\u001b[0m \u001b[0mlist\u001b[0m\u001b[0;34m(\u001b[0m\u001b[0mlfs\u001b[0m\u001b[0;34m.\u001b[0m\u001b[0mstatus\u001b[0m\u001b[0;34m)\u001b[0m\u001b[0;34m\u001b[0m\u001b[0m\n\u001b[0;32m----> 3\u001b[0;31m \u001b[0mlist\u001b[0m\u001b[0;34m(\u001b[0m\u001b[0mexecute_subprocess\u001b[0m\u001b[0;34m(\u001b[0m\u001b[0;34m'git lfs status --banana'\u001b[0m\u001b[0;34m)\u001b[0m\u001b[0;34m)\u001b[0m\u001b[0;34m\u001b[0m\u001b[0m\n\u001b[0m",
      "\u001b[0;32m/Users/alex/Documents/projects/nerve/python/nerve/core/utils.py\u001b[0m in \u001b[0;36mexecute_subprocess\u001b[0;34m(command, error_re)\u001b[0m\n\u001b[1;32m     16\u001b[0m             \u001b[0mmessage\u001b[0m \u001b[0;34m=\u001b[0m \u001b[0;34m'Command: \"'\u001b[0m \u001b[0;34m+\u001b[0m \u001b[0mcommand\u001b[0m\u001b[0;34m\u001b[0m\u001b[0m\n\u001b[1;32m     17\u001b[0m             \u001b[0mmessage\u001b[0m \u001b[0;34m+=\u001b[0m \u001b[0;34m'\" returned \"'\u001b[0m \u001b[0;34m+\u001b[0m \u001b[0merror\u001b[0m\u001b[0;34m.\u001b[0m\u001b[0mgroup\u001b[0m\u001b[0;34m(\u001b[0m\u001b[0;36m0\u001b[0m\u001b[0;34m)\u001b[0m \u001b[0;34m+\u001b[0m \u001b[0;34m'\"'\u001b[0m\u001b[0;34m\u001b[0m\u001b[0m\n\u001b[0;32m---> 18\u001b[0;31m             \u001b[0;32mraise\u001b[0m \u001b[0mSubprocessError\u001b[0m\u001b[0;34m(\u001b[0m\u001b[0mmessage\u001b[0m\u001b[0;34m)\u001b[0m\u001b[0;34m\u001b[0m\u001b[0m\n\u001b[0m\u001b[1;32m     19\u001b[0m \u001b[0;34m\u001b[0m\u001b[0m\n\u001b[1;32m     20\u001b[0m     \u001b[0;32mfor\u001b[0m \u001b[0mline\u001b[0m \u001b[0;32min\u001b[0m \u001b[0moutput\u001b[0m\u001b[0;34m:\u001b[0m\u001b[0;34m\u001b[0m\u001b[0m\n",
      "\u001b[0;31mSubprocessError\u001b[0m: Command: \"git lfs status --banana\" returned \"Error: unknown flag: --banana\""
     ]
    }
   ],
   "source": [
    "lfs = GitLFS(proj)\n",
    "list(lfs.status)"
   ]
  },
  {
   "cell_type": "code",
   "execution_count": 72,
   "metadata": {
    "collapsed": false
   },
   "outputs": [
    {
     "name": "stdout",
     "output_type": "stream",
     "text": [
      "vol001/nerve-test-repo_vol_v003.png\n",
      "=======================================================\n",
      "lhs: None\n",
      "rhs: 100644 | e69de29bb2d1d6434b8b29ae775ad8c2e48c5391\n",
      "file added in rhs\n"
     ]
    }
   ],
   "source": [
    "repo = Repo(proj)\n",
    "d = repo.index.diff('HEAD', R=True)\n",
    "print(list(d.iter_change_type('A'))[0])\n",
    "# for diff in d:\n",
    "#     print(diff)\n",
    "#     print('change_type:', diff.change_type)\n",
    "#     print()\n",
    "# #     for item in filter(lambda x: re.search('^[a-z]', x), dir(diff)):\n",
    "# #         print('\\t', item, getattr(diff, item))"
   ]
  },
  {
   "cell_type": "code",
   "execution_count": 195,
   "metadata": {
    "collapsed": false
   },
   "outputs": [],
   "source": [
    "from json import dumps\n",
    "\n",
    "# fixed in develop branch of gihub3\n",
    "def add_repository(self, repository, permission=''):\n",
    "    \"\"\"Add ``repository`` to this team.\n",
    "    :param str repository: (required), form: 'user/repo'\n",
    "    :param str permission: (optional), ('pull', 'push', 'admin')\n",
    "    :returns: bool\n",
    "    \"\"\"\n",
    "    data = {'permission': permission}\n",
    "    url = self._build_url('repos', repository, base_url=self._api)\n",
    "    return self._boolean(self._put(url, data=dumps(data)), 204, 404)\n",
    "\n",
    "org = client.organization('nerve-test-organization')\n",
    "\n",
    "r = list(org.repositories())[0]\n",
    "teams = ['biz', 'dev']\n",
    "for team in filter(lambda x: x.name in teams, org.teams()):\n",
    "    add_repository(team, r.full_name, permission='pull')"
   ]
  },
  {
   "cell_type": "code",
   "execution_count": 12,
   "metadata": {
    "collapsed": true
   },
   "outputs": [],
   "source": [
    "from github3.null import NullObject"
   ]
  },
  {
   "cell_type": "code",
   "execution_count": 14,
   "metadata": {
    "collapsed": false
   },
   "outputs": [
    {
     "data": {
      "text/plain": [
       "github3.repos.branch.Branch"
      ]
     },
     "execution_count": 14,
     "metadata": {},
     "output_type": "execute_result"
    }
   ],
   "source": [
    "x = repo.branch('dev')\n",
    "x.__class__\n",
    "# isinstance(x, NullObject)"
   ]
  },
  {
   "cell_type": "code",
   "execution_count": 215,
   "metadata": {
    "collapsed": false
   },
   "outputs": [],
   "source": [
    "# name = 'nerve-test-repo'\n",
    "# owner = nerve._config['username']\n",
    "# x = org.repositories(owner, name)\n",
    "# client.repository(client.name, name)"
   ]
  },
  {
   "cell_type": "code",
   "execution_count": 254,
   "metadata": {
    "collapsed": false
   },
   "outputs": [
    {
     "data": {
      "text/plain": [
       "<Repository [nerve-test-organization/nerve-test-repo]>"
      ]
     },
     "execution_count": 254,
     "metadata": {},
     "output_type": "execute_result"
    }
   ],
   "source": [
    "orgname = 'nerve-test-organization'\n",
    "org = login(orgname, token=nerve._config['token'])\n",
    "repo = org.repository(orgname, 'nerve-test-repo')\n",
    "repo.ssh_url"
   ]
  }
 ],
 "metadata": {
  "kernelspec": {
   "display_name": "Python 3",
   "language": "python",
   "name": "python3"
  },
  "language_info": {
   "codemirror_mode": {
    "name": "ipython",
    "version": 3
   },
   "file_extension": ".py",
   "mimetype": "text/x-python",
   "name": "python",
   "nbconvert_exporter": "python",
   "pygments_lexer": "ipython3",
   "version": "3.4.5"
  }
 },
 "nbformat": 4,
 "nbformat_minor": 1
}
