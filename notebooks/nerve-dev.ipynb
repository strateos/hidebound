{
 "cells": [
  {
   "cell_type": "code",
   "execution_count": 1,
   "metadata": {
    "collapsed": false,
    "run_control": {
     "frozen": false,
     "read_only": false
    }
   },
   "outputs": [
    {
     "name": "stdout",
     "output_type": "stream",
     "text": [
      "/Users/alex/Documents/projects/stitch/python\n",
      "/Users/alex/Documents/projects/nerve/python\n",
      "/private/tmp/ntr002\n"
     ]
    }
   ],
   "source": [
    "import re\n",
    "import shutil\n",
    "import pandas as pd\n",
    "from pandas import DataFrame, Series\n",
    "import github3\n",
    "from github3 import login\n",
    "from git import Repo, GitCommandError\n",
    "import yaml\n",
    "from subprocess import Popen, PIPE, STDOUT, SubprocessError, check_output\n",
    "from configparser import ConfigParser\n",
    "from github3.repos.branch import Branch\n",
    "from github3.null import NullObject\n",
    "from schematics.models import Model, BaseType\n",
    "from schematics.types import StringType, IntType, BooleanType\n",
    "from schematics.types.compound import ListType, DictType\n",
    "from schematics.exceptions import ValidationError\n",
    "%cd ~/Documents/projects/stitch/python/\n",
    "from stitch.core.stitch_frame import StitchFrame\n",
    "%cd ~/Documents/projects/nerve/python/\n",
    "from nerve.core.model import Nerve\n",
    "from nerve.core.client import Client\n",
    "from nerve.core.utils import *\n",
    "from nerve.core.git import Git\n",
    "from nerve.core.git_lfs import GitLFS\n",
    "from nerve.core.metadata import Metadata\n",
    "from nerve.core.utils import execute_subprocess, get_status\n",
    "from nerve.core.api import *\n",
    "from nerve.spec.specifications import *\n",
    "from nerve.spec.validators import *\n",
    "from nerve.spec.traits import *\n",
    "from nerve.spec import traits\n",
    "from nerve.test.test_suite import *\n",
    "%cd /tmp/ntr002"
   ]
  },
  {
   "cell_type": "code",
   "execution_count": 2,
   "metadata": {
    "collapsed": false,
    "run_control": {
     "frozen": false,
     "read_only": false
    }
   },
   "outputs": [],
   "source": [
    "admin = NerveAdmin()\n",
    "info = admin._nerve._get_info(None, None, {})"
   ]
  },
  {
   "cell_type": "code",
   "execution_count": 3,
   "metadata": {
    "collapsed": false,
    "run_control": {
     "frozen": false,
     "read_only": false
    }
   },
   "outputs": [
    {
     "data": {
      "text/plain": [
       "True"
      ]
     },
     "execution_count": 3,
     "metadata": {},
     "output_type": "execute_result"
    }
   ],
   "source": [
    "admin.delete(True, True)"
   ]
  },
  {
   "cell_type": "code",
   "execution_count": 4,
   "metadata": {
    "collapsed": false,
    "run_control": {
     "frozen": false,
     "read_only": false
    }
   },
   "outputs": [
    {
     "data": {
      "text/plain": [
       "True"
      ]
     },
     "execution_count": 4,
     "metadata": {},
     "output_type": "execute_result"
    }
   ],
   "source": [
    "admin.create('ntr002', 'some note from the admin about the project')\n",
    "admin.clone('ntr002')"
   ]
  },
  {
   "cell_type": "code",
   "execution_count": 3,
   "metadata": {
    "collapsed": false,
    "run_control": {
     "frozen": false,
     "read_only": false
    }
   },
   "outputs": [
    {
     "name": "stdout",
     "output_type": "stream",
     "text": [
      ".\n",
      "├── geo001\n",
      "├── maya001\n",
      "│   ├── ntr002_maya001_kdny_v001.mb\n",
      "│   └── ntr002_maya001_vasc_v001.mb\n",
      "├── ntr002_proj001_meta.yml\n",
      "└── vol001\n",
      "    └── ntr002_vol001_desc_v001_-_-_-\n",
      "        ├── ntr002_vol001_desc_v001_-_-_0000.png\n",
      "        ├── ntr002_vol001_desc_v001_-_-_0001.png\n",
      "        └── ntr002_vol001_desc_v001_-_-_0002.png\n",
      "\n",
      "4 directories, 6 files\n"
     ]
    }
   ],
   "source": [
    "%%bash\n",
    "cd /tmp/ntr002/\n",
    "mkdir vol001/ntr002_vol001_desc_v001_-_-_-\n",
    "echo v001 sdjfkh 0000 > vol001/ntr002_vol001_desc_v001_-_-_-/ntr002_vol001_desc_v001_-_-_0000.png\n",
    "echo v001 jyelkh 0001 > vol001/ntr002_vol001_desc_v001_-_-_-/ntr002_vol001_desc_v001_-_-_0001.png\n",
    "echo v001 lwekfj 0002 > vol001/ntr002_vol001_desc_v001_-_-_-/ntr002_vol001_desc_v001_-_-_0002.png\n",
    "echo vasc v001 > maya001/ntr002_maya001_vasc_v001.mb\n",
    "echo kidney v001 > maya001/ntr002_maya001_kdny_v001.mb\n",
    "tree"
   ]
  },
  {
   "cell_type": "code",
   "execution_count": 3,
   "metadata": {
    "collapsed": false
   },
   "outputs": [
    {
     "name": "stdout",
     "output_type": "stream",
     "text": [
      ".\n",
      "├── geo001\n",
      "├── maya001\n",
      "│   ├── ntr002_maya001_kdny_v001.mb\n",
      "│   ├── ntr002_maya001_kdny_v001_meta.yml\n",
      "│   ├── ntr002_maya001_kdny_v002.mb\n",
      "│   ├── ntr002_maya001_vasc_v001.mb\n",
      "│   ├── ntr002_maya001_vasc_v001_meta.yml\n",
      "│   └── ntr002_maya001_vasc_v002.mb\n",
      "├── ntr002_proj001_meta.yml\n",
      "└── vol001\n",
      "    ├── ntr002_vol001_desc_v001_-_-_-\n",
      "    │   ├── ntr002_vol001_desc_v001_-_-_0000.png\n",
      "    │   ├── ntr002_vol001_desc_v001_-_-_0001.png\n",
      "    │   └── ntr002_vol001_desc_v001_-_-_0002.png\n",
      "    ├── ntr002_vol001_desc_v001_-_-_-_meta.yml\n",
      "    └── ntr002_vol001_desc_v002_-_-_-\n",
      "        ├── ntr002_vol001_desc_v002_-_-_0000.png\n",
      "        ├── ntr002_vol001_desc_v002_-_-_0001.png\n",
      "        └── ntr002_vol001_desc_v002_-_-_0002.png\n",
      "\n",
      "5 directories, 14 files\n"
     ]
    }
   ],
   "source": [
    "%%bash\n",
    "cd /tmp/ntr002/\n",
    "mkdir vol001/ntr002_vol001_desc_v002_-_-_-\n",
    "echo v002 sdjfkh 0000 > vol001/ntr002_vol001_desc_v002_-_-_-/ntr002_vol001_desc_v002_-_-_0000.png\n",
    "echo v002 jyelkh 0001 > vol001/ntr002_vol001_desc_v002_-_-_-/ntr002_vol001_desc_v002_-_-_0001.png\n",
    "echo v002 lwekfj 0002 > vol001/ntr002_vol001_desc_v002_-_-_-/ntr002_vol001_desc_v002_-_-_0002.png\n",
    "echo vasc v002 > maya001/ntr002_maya001_vasc_v002.mb\n",
    "echo kidney v002 > maya001/ntr002_maya001_kdny_v002.mb\n",
    "tree"
   ]
  },
  {
   "cell_type": "code",
   "execution_count": 4,
   "metadata": {
    "collapsed": false,
    "run_control": {
     "frozen": false,
     "read_only": false
    },
    "scrolled": false
   },
   "outputs": [
    {
     "data": {
      "text/html": [
       "<div>\n",
       "<table border=\"1\" class=\"dataframe\">\n",
       "  <thead>\n",
       "    <tr style=\"text-align: right;\">\n",
       "      <th></th>\n",
       "      <th>0</th>\n",
       "      <th>1</th>\n",
       "      <th>2</th>\n",
       "    </tr>\n",
       "  </thead>\n",
       "  <tbody>\n",
       "    <tr>\n",
       "      <th>asset-id</th>\n",
       "      <td>51ca8504-eb13-4dc6-81e8-1e...</td>\n",
       "      <td>d8f2d967-f939-46f0-b568-d9...</td>\n",
       "      <td>3eb3f9ce-1413-44ff-a5ee-3c...</td>\n",
       "    </tr>\n",
       "    <tr>\n",
       "      <th>asset-name</th>\n",
       "      <td>ntr002_maya001_kdny_v001</td>\n",
       "      <td>ntr002_maya001_vasc_v001</td>\n",
       "      <td>ntr002_vol001_desc_v001_-_-_-</td>\n",
       "    </tr>\n",
       "    <tr>\n",
       "      <th>asset-type</th>\n",
       "      <td>nondeliverable</td>\n",
       "      <td>nondeliverable</td>\n",
       "      <td>deliverable</td>\n",
       "    </tr>\n",
       "    <tr>\n",
       "      <th>data</th>\n",
       "      <td>None</td>\n",
       "      <td>None</td>\n",
       "      <td>None</td>\n",
       "    </tr>\n",
       "    <tr>\n",
       "      <th>dependencies</th>\n",
       "      <td>NaN</td>\n",
       "      <td>NaN</td>\n",
       "      <td>[]</td>\n",
       "    </tr>\n",
       "    <tr>\n",
       "      <th>descriptor</th>\n",
       "      <td>NaN</td>\n",
       "      <td>NaN</td>\n",
       "      <td>desc</td>\n",
       "    </tr>\n",
       "    <tr>\n",
       "      <th>notes</th>\n",
       "      <td></td>\n",
       "      <td></td>\n",
       "      <td></td>\n",
       "    </tr>\n",
       "    <tr>\n",
       "      <th>project-id</th>\n",
       "      <td>73755765</td>\n",
       "      <td>73755765</td>\n",
       "      <td>73755765</td>\n",
       "    </tr>\n",
       "    <tr>\n",
       "      <th>project-name</th>\n",
       "      <td>ntr002</td>\n",
       "      <td>ntr002</td>\n",
       "      <td>ntr002</td>\n",
       "    </tr>\n",
       "    <tr>\n",
       "      <th>project-url</th>\n",
       "      <td>git@github.com:nerve-test-...</td>\n",
       "      <td>git@github.com:nerve-test-...</td>\n",
       "      <td>git@github.com:nerve-test-...</td>\n",
       "    </tr>\n",
       "    <tr>\n",
       "      <th>specification</th>\n",
       "      <td>maya001</td>\n",
       "      <td>maya001</td>\n",
       "      <td>vol001</td>\n",
       "    </tr>\n",
       "    <tr>\n",
       "      <th>version</th>\n",
       "      <td>NaN</td>\n",
       "      <td>NaN</td>\n",
       "      <td>1</td>\n",
       "    </tr>\n",
       "  </tbody>\n",
       "</table>\n",
       "</div>"
      ],
      "text/plain": [
       "                                           0                              1                              2\n",
       "asset-id       51ca8504-eb13-4dc6-81e8-1e...  d8f2d967-f939-46f0-b568-d9...  3eb3f9ce-1413-44ff-a5ee-3c...\n",
       "asset-name          ntr002_maya001_kdny_v001       ntr002_maya001_vasc_v001  ntr002_vol001_desc_v001_-_-_-\n",
       "asset-type                    nondeliverable                 nondeliverable                    deliverable\n",
       "data                                    None                           None                           None\n",
       "dependencies                             NaN                            NaN                             []\n",
       "descriptor                               NaN                            NaN                           desc\n",
       "notes                                                                                                     \n",
       "project-id                          73755765                       73755765                       73755765\n",
       "project-name                          ntr002                         ntr002                         ntr002\n",
       "project-url    git@github.com:nerve-test-...  git@github.com:nerve-test-...  git@github.com:nerve-test-...\n",
       "specification                        maya001                        maya001                         vol001\n",
       "version                                  NaN                            NaN                              1"
      ]
     },
     "execution_count": 4,
     "metadata": {},
     "output_type": "execute_result"
    }
   ],
   "source": [
    "os.chdir('/tmp/ntr002')\n",
    "stat = list(admin.status())\n",
    "data = None\n",
    "if len(stat) > 0:\n",
    "    data = DataFrame(list(stat)).applymap(lambda x: x.data)\n",
    "    data = StitchFrame(data).flatten(prefix=False).to_dataframe().T\n",
    "data"
   ]
  },
  {
   "cell_type": "code",
   "execution_count": 5,
   "metadata": {
    "collapsed": false,
    "run_control": {
     "frozen": false,
     "read_only": false
    }
   },
   "outputs": [
    {
     "data": {
      "text/plain": [
       "True"
      ]
     },
     "execution_count": 5,
     "metadata": {},
     "output_type": "execute_result"
    }
   ],
   "source": [
    "admin.publish('some note from the alex', verbosity=2)"
   ]
  },
  {
   "cell_type": "code",
   "execution_count": 4,
   "metadata": {
    "collapsed": false,
    "run_control": {
     "frozen": false,
     "read_only": false
    }
   },
   "outputs": [
    {
     "data": {
      "text/plain": [
       "<Pull Request [#1]>"
      ]
     },
     "execution_count": 4,
     "metadata": {},
     "output_type": "execute_result"
    }
   ],
   "source": [
    "client = Client(info.client_conf)\n",
    "branch = info.branch\n",
    "title = 'test title made in jupyter'\n",
    "base = 'dev'\n",
    "# head = client._repo.branch(info.branch).commit.sha\n",
    "head = info.branch\n",
    "body = 'sldjhfk'\n",
    "request = client._repo.create_pull(title, base, head, body=body)\n",
    "request\n",
    "# client.create_pull_request(title, info.branch, 'dev')"
   ]
  },
  {
   "cell_type": "code",
   "execution_count": 8,
   "metadata": {
    "collapsed": false
   },
   "outputs": [
    {
     "ename": "UnprocessableEntity",
     "evalue": "422 Validation Failed",
     "output_type": "error",
     "traceback": [
      "\u001b[0;31m---------------------------------------------------------------------------\u001b[0m",
      "\u001b[0;31mUnprocessableEntity\u001b[0m                       Traceback (most recent call last)",
      "\u001b[0;32m<ipython-input-8-a4486b01c8e9>\u001b[0m in \u001b[0;36m<module>\u001b[0;34m()\u001b[0m\n\u001b[1;32m      2\u001b[0m \u001b[0mtitle\u001b[0m \u001b[0;34m=\u001b[0m \u001b[0;34m'commit from jupyter'\u001b[0m\u001b[0;34m\u001b[0m\u001b[0m\n\u001b[1;32m      3\u001b[0m \u001b[0mbody\u001b[0m \u001b[0;34m=\u001b[0m \u001b[0;34m'some body text'\u001b[0m\u001b[0;34m\u001b[0m\u001b[0m\n\u001b[0;32m----> 4\u001b[0;31m \u001b[0mnum\u001b[0m \u001b[0;34m=\u001b[0m \u001b[0mclient\u001b[0m\u001b[0;34m.\u001b[0m\u001b[0mcreate_pull_request\u001b[0m\u001b[0;34m(\u001b[0m\u001b[0mtitle\u001b[0m\u001b[0;34m,\u001b[0m \u001b[0minfo\u001b[0m\u001b[0;34m.\u001b[0m\u001b[0mbranch\u001b[0m\u001b[0;34m,\u001b[0m \u001b[0;34m'dev'\u001b[0m\u001b[0;34m,\u001b[0m \u001b[0mbody\u001b[0m\u001b[0;34m=\u001b[0m\u001b[0mbody\u001b[0m\u001b[0;34m)\u001b[0m\u001b[0;34m\u001b[0m\u001b[0m\n\u001b[0m\u001b[1;32m      5\u001b[0m \u001b[0;31m# client.merge_pull_request(num, 'Publish authorized')\u001b[0m\u001b[0;34m\u001b[0m\u001b[0;34m\u001b[0m\u001b[0m\n",
      "\u001b[0;32m/Users/alex/Documents/projects/nerve/python/nerve/core/client.py\u001b[0m in \u001b[0;36mcreate_pull_request\u001b[0;34m(self, title, base, branch, body)\u001b[0m\n\u001b[1;32m    181\u001b[0m             \u001b[0mint\u001b[0m\u001b[0;34m:\u001b[0m \u001b[0mpull\u001b[0m \u001b[0mrequest\u001b[0m \u001b[0mnumber\u001b[0m\u001b[0;34m\u001b[0m\u001b[0m\n\u001b[1;32m    182\u001b[0m         '''\n\u001b[0;32m--> 183\u001b[0;31m         \u001b[0mrequest\u001b[0m \u001b[0;34m=\u001b[0m \u001b[0mself\u001b[0m\u001b[0;34m.\u001b[0m\u001b[0m_repo\u001b[0m\u001b[0;34m.\u001b[0m\u001b[0mcreate_pull\u001b[0m\u001b[0;34m(\u001b[0m\u001b[0mtitle\u001b[0m\u001b[0;34m,\u001b[0m \u001b[0mbase\u001b[0m\u001b[0;34m,\u001b[0m \u001b[0mbranch\u001b[0m\u001b[0;34m,\u001b[0m \u001b[0mbody\u001b[0m\u001b[0;34m=\u001b[0m\u001b[0mbody\u001b[0m\u001b[0;34m)\u001b[0m\u001b[0;34m\u001b[0m\u001b[0m\n\u001b[0m\u001b[1;32m    184\u001b[0m         \u001b[0;32mreturn\u001b[0m \u001b[0mrequest\u001b[0m\u001b[0;34m.\u001b[0m\u001b[0mnumber\u001b[0m\u001b[0;34m\u001b[0m\u001b[0m\n\u001b[1;32m    185\u001b[0m \u001b[0;34m\u001b[0m\u001b[0m\n",
      "\u001b[0;32m/Applications/anaconda/envs/nerve-dev/lib/python3.4/site-packages/github3/decorators.py\u001b[0m in \u001b[0;36mauth_wrapper\u001b[0;34m(self, *args, **kwargs)\u001b[0m\n\u001b[1;32m     31\u001b[0m     \u001b[0;32mdef\u001b[0m \u001b[0mauth_wrapper\u001b[0m\u001b[0;34m(\u001b[0m\u001b[0mself\u001b[0m\u001b[0;34m,\u001b[0m \u001b[0;34m*\u001b[0m\u001b[0margs\u001b[0m\u001b[0;34m,\u001b[0m \u001b[0;34m**\u001b[0m\u001b[0mkwargs\u001b[0m\u001b[0;34m)\u001b[0m\u001b[0;34m:\u001b[0m\u001b[0;34m\u001b[0m\u001b[0m\n\u001b[1;32m     32\u001b[0m         \u001b[0;32mif\u001b[0m \u001b[0mhasattr\u001b[0m\u001b[0;34m(\u001b[0m\u001b[0mself\u001b[0m\u001b[0;34m,\u001b[0m \u001b[0;34m'session'\u001b[0m\u001b[0;34m)\u001b[0m \u001b[0;32mand\u001b[0m \u001b[0mself\u001b[0m\u001b[0;34m.\u001b[0m\u001b[0msession\u001b[0m\u001b[0;34m.\u001b[0m\u001b[0mhas_auth\u001b[0m\u001b[0;34m(\u001b[0m\u001b[0;34m)\u001b[0m\u001b[0;34m:\u001b[0m\u001b[0;34m\u001b[0m\u001b[0m\n\u001b[0;32m---> 33\u001b[0;31m             \u001b[0;32mreturn\u001b[0m \u001b[0mfunc\u001b[0m\u001b[0;34m(\u001b[0m\u001b[0mself\u001b[0m\u001b[0;34m,\u001b[0m \u001b[0;34m*\u001b[0m\u001b[0margs\u001b[0m\u001b[0;34m,\u001b[0m \u001b[0;34m**\u001b[0m\u001b[0mkwargs\u001b[0m\u001b[0;34m)\u001b[0m\u001b[0;34m\u001b[0m\u001b[0m\n\u001b[0m\u001b[1;32m     34\u001b[0m         \u001b[0;32melse\u001b[0m\u001b[0;34m:\u001b[0m\u001b[0;34m\u001b[0m\u001b[0m\n\u001b[1;32m     35\u001b[0m             \u001b[0;32mfrom\u001b[0m \u001b[0;34m.\u001b[0m\u001b[0mexceptions\u001b[0m \u001b[0;32mimport\u001b[0m \u001b[0merror_for\u001b[0m\u001b[0;34m\u001b[0m\u001b[0m\n",
      "\u001b[0;32m/Applications/anaconda/envs/nerve-dev/lib/python3.4/site-packages/github3/repos/repo.py\u001b[0m in \u001b[0;36mcreate_pull\u001b[0;34m(self, title, base, head, body)\u001b[0m\n\u001b[1;32m    892\u001b[0m         data = {'title': title, 'body': body, 'base': base,\n\u001b[1;32m    893\u001b[0m                 'head': head}\n\u001b[0;32m--> 894\u001b[0;31m         \u001b[0;32mreturn\u001b[0m \u001b[0mself\u001b[0m\u001b[0;34m.\u001b[0m\u001b[0m_create_pull\u001b[0m\u001b[0;34m(\u001b[0m\u001b[0mdata\u001b[0m\u001b[0;34m)\u001b[0m\u001b[0;34m\u001b[0m\u001b[0m\n\u001b[0m\u001b[1;32m    895\u001b[0m \u001b[0;34m\u001b[0m\u001b[0m\n\u001b[1;32m    896\u001b[0m     \u001b[0;34m@\u001b[0m\u001b[0mrequires_auth\u001b[0m\u001b[0;34m\u001b[0m\u001b[0m\n",
      "\u001b[0;32m/Applications/anaconda/envs/nerve-dev/lib/python3.4/site-packages/github3/repos/repo.py\u001b[0m in \u001b[0;36m_create_pull\u001b[0;34m(self, data)\u001b[0m\n\u001b[1;32m    315\u001b[0m         \u001b[0;32mif\u001b[0m \u001b[0mdata\u001b[0m\u001b[0;34m:\u001b[0m\u001b[0;34m\u001b[0m\u001b[0m\n\u001b[1;32m    316\u001b[0m             \u001b[0murl\u001b[0m \u001b[0;34m=\u001b[0m \u001b[0mself\u001b[0m\u001b[0;34m.\u001b[0m\u001b[0m_build_url\u001b[0m\u001b[0;34m(\u001b[0m\u001b[0;34m'pulls'\u001b[0m\u001b[0;34m,\u001b[0m \u001b[0mbase_url\u001b[0m\u001b[0;34m=\u001b[0m\u001b[0mself\u001b[0m\u001b[0;34m.\u001b[0m\u001b[0m_api\u001b[0m\u001b[0;34m)\u001b[0m\u001b[0;34m\u001b[0m\u001b[0m\n\u001b[0;32m--> 317\u001b[0;31m             \u001b[0mjson\u001b[0m \u001b[0;34m=\u001b[0m \u001b[0mself\u001b[0m\u001b[0;34m.\u001b[0m\u001b[0m_json\u001b[0m\u001b[0;34m(\u001b[0m\u001b[0mself\u001b[0m\u001b[0;34m.\u001b[0m\u001b[0m_post\u001b[0m\u001b[0;34m(\u001b[0m\u001b[0murl\u001b[0m\u001b[0;34m,\u001b[0m \u001b[0mdata\u001b[0m\u001b[0;34m=\u001b[0m\u001b[0mdata\u001b[0m\u001b[0;34m)\u001b[0m\u001b[0;34m,\u001b[0m \u001b[0;36m201\u001b[0m\u001b[0;34m)\u001b[0m\u001b[0;34m\u001b[0m\u001b[0m\n\u001b[0m\u001b[1;32m    318\u001b[0m         \u001b[0;32mreturn\u001b[0m \u001b[0mself\u001b[0m\u001b[0;34m.\u001b[0m\u001b[0m_instance_or_null\u001b[0m\u001b[0;34m(\u001b[0m\u001b[0mPullRequest\u001b[0m\u001b[0;34m,\u001b[0m \u001b[0mjson\u001b[0m\u001b[0;34m)\u001b[0m\u001b[0;34m\u001b[0m\u001b[0m\n\u001b[1;32m    319\u001b[0m \u001b[0;34m\u001b[0m\u001b[0m\n",
      "\u001b[0;32m/Applications/anaconda/envs/nerve-dev/lib/python3.4/site-packages/github3/models.py\u001b[0m in \u001b[0;36m_json\u001b[0;34m(self, response, status_code, include_cache_info)\u001b[0m\n\u001b[1;32m    152\u001b[0m     \u001b[0;32mdef\u001b[0m \u001b[0m_json\u001b[0m\u001b[0;34m(\u001b[0m\u001b[0mself\u001b[0m\u001b[0;34m,\u001b[0m \u001b[0mresponse\u001b[0m\u001b[0;34m,\u001b[0m \u001b[0mstatus_code\u001b[0m\u001b[0;34m,\u001b[0m \u001b[0minclude_cache_info\u001b[0m\u001b[0;34m=\u001b[0m\u001b[0;32mTrue\u001b[0m\u001b[0;34m)\u001b[0m\u001b[0;34m:\u001b[0m\u001b[0;34m\u001b[0m\u001b[0m\n\u001b[1;32m    153\u001b[0m         \u001b[0mret\u001b[0m \u001b[0;34m=\u001b[0m \u001b[0;32mNone\u001b[0m\u001b[0;34m\u001b[0m\u001b[0m\n\u001b[0;32m--> 154\u001b[0;31m         \u001b[0;32mif\u001b[0m \u001b[0mself\u001b[0m\u001b[0;34m.\u001b[0m\u001b[0m_boolean\u001b[0m\u001b[0;34m(\u001b[0m\u001b[0mresponse\u001b[0m\u001b[0;34m,\u001b[0m \u001b[0mstatus_code\u001b[0m\u001b[0;34m,\u001b[0m \u001b[0;36m404\u001b[0m\u001b[0;34m)\u001b[0m \u001b[0;32mand\u001b[0m \u001b[0mresponse\u001b[0m\u001b[0;34m.\u001b[0m\u001b[0mcontent\u001b[0m\u001b[0;34m:\u001b[0m\u001b[0;34m\u001b[0m\u001b[0m\n\u001b[0m\u001b[1;32m    155\u001b[0m             __logs__.info('Attempting to get JSON information from a Response '\n\u001b[1;32m    156\u001b[0m                           \u001b[0;34m'with status code %d expecting %d'\u001b[0m\u001b[0;34m,\u001b[0m\u001b[0;34m\u001b[0m\u001b[0m\n",
      "\u001b[0;32m/Applications/anaconda/envs/nerve-dev/lib/python3.4/site-packages/github3/models.py\u001b[0m in \u001b[0;36m_boolean\u001b[0;34m(self, response, true_code, false_code)\u001b[0m\n\u001b[1;32m    174\u001b[0m                 \u001b[0;32mreturn\u001b[0m \u001b[0;32mTrue\u001b[0m\u001b[0;34m\u001b[0m\u001b[0m\n\u001b[1;32m    175\u001b[0m             \u001b[0;32mif\u001b[0m \u001b[0mstatus_code\u001b[0m \u001b[0;34m!=\u001b[0m \u001b[0mfalse_code\u001b[0m \u001b[0;32mand\u001b[0m \u001b[0mstatus_code\u001b[0m \u001b[0;34m>=\u001b[0m \u001b[0;36m400\u001b[0m\u001b[0;34m:\u001b[0m\u001b[0;34m\u001b[0m\u001b[0m\n\u001b[0;32m--> 176\u001b[0;31m                 \u001b[0;32mraise\u001b[0m \u001b[0mexceptions\u001b[0m\u001b[0;34m.\u001b[0m\u001b[0merror_for\u001b[0m\u001b[0;34m(\u001b[0m\u001b[0mresponse\u001b[0m\u001b[0;34m)\u001b[0m\u001b[0;34m\u001b[0m\u001b[0m\n\u001b[0m\u001b[1;32m    177\u001b[0m         \u001b[0;32mreturn\u001b[0m \u001b[0;32mFalse\u001b[0m\u001b[0;34m\u001b[0m\u001b[0m\n\u001b[1;32m    178\u001b[0m \u001b[0;34m\u001b[0m\u001b[0m\n",
      "\u001b[0;31mUnprocessableEntity\u001b[0m: 422 Validation Failed"
     ]
    }
   ],
   "source": [
    "client = Client(info.client_conf)\n",
    "title = 'commit from jupyter'\n",
    "body = 'some body text'\n",
    "num = client.create_pull_request(title, info.branch, 'dev', body=body)\n",
    "client._repo.create_pull(title, 'dev', info.branch, body=body)\n",
    "# client.merge_pull_request(num, 'Publish authorized')"
   ]
  },
  {
   "cell_type": "code",
   "execution_count": 7,
   "metadata": {
    "collapsed": false
   },
   "outputs": [
    {
     "data": {
      "text/plain": [
       "('c07ca3b00ec28cb29f2ed644f0c9dedb9be7c0d9',\n",
       " 'c07ca3b00ec28cb29f2ed644f0c9dedb9be7c0d9')"
      ]
     },
     "execution_count": 7,
     "metadata": {},
     "output_type": "execute_result"
    }
   ],
   "source": [
    "client = Client(info.client_conf)\n",
    "local = Repo('/tmp/ntr002/')\n",
    "local_sha = local.head.object.hexsha\n",
    "remote_sha = client._repo.branch('alex').commit.sha\n",
    "# assert(local_sha == remote_sha)\n",
    "local_sha, remote_sha"
   ]
  },
  {
   "cell_type": "code",
   "execution_count": null,
   "metadata": {
    "collapsed": true
   },
   "outputs": [],
   "source": []
  }
 ],
 "metadata": {
  "kernelspec": {
   "display_name": "Python 3",
   "language": "python",
   "name": "python3"
  },
  "language_info": {
   "codemirror_mode": {
    "name": "ipython",
    "version": 3
   },
   "file_extension": ".py",
   "mimetype": "text/x-python",
   "name": "python",
   "nbconvert_exporter": "python",
   "pygments_lexer": "ipython3",
   "version": "3.4.5"
  },
  "widgets": {
   "state": {},
   "version": "1.1.2"
  }
 },
 "nbformat": 4,
 "nbformat_minor": 1
}
