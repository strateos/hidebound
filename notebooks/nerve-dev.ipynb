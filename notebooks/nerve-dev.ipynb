{
 "cells": [
  {
   "cell_type": "code",
   "execution_count": 1,
   "metadata": {
    "collapsed": false,
    "run_control": {
     "frozen": false,
     "read_only": false
    }
   },
   "outputs": [
    {
     "name": "stdout",
     "output_type": "stream",
     "text": [
      "/Users/alex/Documents/projects/stitch/python\n",
      "/Users/alex/Documents/projects/nerve/python\n",
      "/Users/alex/Documents/projects/nerve\n"
     ]
    }
   ],
   "source": [
    "import re\n",
    "import shutil\n",
    "import pandas as pd\n",
    "from pandas import DataFrame, Series\n",
    "import github3\n",
    "from github3 import login\n",
    "from git import Repo, GitCommandError\n",
    "import yaml\n",
    "from subprocess import Popen, PIPE, STDOUT, SubprocessError, check_output\n",
    "from configparser import ConfigParser\n",
    "from github3.repos.branch import Branch\n",
    "from github3.null import NullObject\n",
    "from schematics.models import Model, BaseType\n",
    "from schematics.types import StringType, IntType, BooleanType\n",
    "from schematics.types.compound import ListType, DictType\n",
    "from schematics.exceptions import ValidationError\n",
    "%cd ~/Documents/projects/stitch/python/\n",
    "from stitch.core.stitch_frame import StitchFrame\n",
    "%cd ~/Documents/projects/nerve/python/\n",
    "from nerve.core.model import Nerve\n",
    "from nerve.core.client import Client\n",
    "from nerve.core.utils import *\n",
    "from nerve.core.git import Git\n",
    "from nerve.core.git_lfs import GitLFS\n",
    "from nerve.core.utils import execute_subprocess, get_status\n",
    "from nerve.spec.specifications import *\n",
    "from nerve.spec.validators import *\n",
    "from nerve.spec.traits import *\n",
    "from nerve.spec import traits\n",
    "from nerve.test.test_project import *\n",
    "%cd ~/Documents/projects/nerve"
   ]
  },
  {
   "cell_type": "code",
   "execution_count": 2,
   "metadata": {
    "collapsed": false,
    "run_control": {
     "frozen": false,
     "read_only": false
    },
    "scrolled": false
   },
   "outputs": [],
   "source": [
    "# config_path = '/Users/alex/Documents/projects/nerve/python/nerve/resources/bad-nerverc.yml'\n",
    "config_path = '/Users/alex/Documents/projects/nerve/python/nerve/resources/nerverc.yml'\n",
    "# conf = yaml.load(open(config_path, 'r'))\n",
    "\n",
    "nerve = Nerve(config_path)\n",
    "name = 'nerve-test-repo-3'\n",
    "proj = os.path.join(nerve['project-root'], name)\n",
    "x = nerve.config\n",
    "del x['project']['gitignore']\n",
    "# x"
   ]
  },
  {
   "cell_type": "code",
   "execution_count": 3,
   "metadata": {
    "collapsed": false,
    "run_control": {
     "frozen": false,
     "read_only": false
    }
   },
   "outputs": [
    {
     "data": {
      "text/plain": [
       "True"
      ]
     },
     "execution_count": 3,
     "metadata": {},
     "output_type": "execute_result"
    }
   ],
   "source": [
    "nerve.delete(False, True)"
   ]
  },
  {
   "cell_type": "code",
   "execution_count": 8,
   "metadata": {
    "collapsed": false,
    "run_control": {
     "frozen": false,
     "read_only": false
    }
   },
   "outputs": [
    {
     "data": {
      "text/plain": [
       "True"
      ]
     },
     "execution_count": 8,
     "metadata": {},
     "output_type": "execute_result"
    }
   ],
   "source": [
    "nerve.create(notes='some note about a thing')"
   ]
  },
  {
   "cell_type": "code",
   "execution_count": 4,
   "metadata": {
    "collapsed": false,
    "run_control": {
     "frozen": false,
     "read_only": false
    }
   },
   "outputs": [
    {
     "data": {
      "text/plain": [
       "True"
      ]
     },
     "execution_count": 4,
     "metadata": {},
     "output_type": "execute_result"
    }
   ],
   "source": [
    "nerve.clone()"
   ]
  },
  {
   "cell_type": "code",
   "execution_count": 10,
   "metadata": {
    "collapsed": false,
    "run_control": {
     "frozen": false,
     "read_only": false
    }
   },
   "outputs": [
    {
     "name": "stdout",
     "output_type": "stream",
     "text": [
      ".\n",
      "├── geo001\n",
      "├── maya001\n",
      "│   ├── nerve-test-repo-3_maya001_kidney.mb\n",
      "│   └── nerve-test-repo-3_maya001_vasculature.mb\n",
      "├── proj001_meta.yml\n",
      "└── vol001\n",
      "    └── nerve-test-repo-3_vol001_desc_v001_-_-_-\n",
      "        ├── nerve-test-repo-3_vol001_desc_v001_-_-_0000.png\n",
      "        ├── nerve-test-repo-3_vol001_desc_v001_-_-_0001.png\n",
      "        └── nerve-test-repo-3_vol001_desc_v001_-_-_0002.png\n",
      "\n",
      "4 directories, 6 files\n"
     ]
    }
   ],
   "source": [
    "%%bash\n",
    "cd /tmp/nerve-test-repo-3/vol001/\n",
    "mkdir nerve-test-repo-3_vol001_desc_v001_-_-_-\n",
    "cd nerve-test-repo-3_vol001_desc_v001_-_-_-\n",
    "echo v001 0000 > nerve-test-repo-3_vol001_desc_v001_-_-_0000.png\n",
    "echo v001 0001 > nerve-test-repo-3_vol001_desc_v001_-_-_0001.png\n",
    "echo v001 0002 > nerve-test-repo-3_vol001_desc_v001_-_-_0002.png\n",
    "cd ../../maya001\n",
    "echo vasc vasc v001 > nerve-test-repo-3_maya001_vasculature.mb\n",
    "echo vasc kidney v001 > nerve-test-repo-3_maya001_kidney.mb\n",
    "cd ../\n",
    "tree"
   ]
  },
  {
   "cell_type": "code",
   "execution_count": 11,
   "metadata": {
    "collapsed": false,
    "run_control": {
     "frozen": false,
     "read_only": false
    },
    "scrolled": false
   },
   "outputs": [
    {
     "data": {
      "text/html": [
       "<div>\n",
       "<table border=\"1\" class=\"dataframe\">\n",
       "  <thead>\n",
       "    <tr style=\"text-align: right;\">\n",
       "      <th></th>\n",
       "      <th>0</th>\n",
       "      <th>1</th>\n",
       "      <th>2</th>\n",
       "    </tr>\n",
       "  </thead>\n",
       "  <tbody>\n",
       "    <tr>\n",
       "      <th>asset-id</th>\n",
       "      <td>bb29d0b6-3356-4348-b399-d8...</td>\n",
       "      <td>af730169-30cb-4df7-b999-e2...</td>\n",
       "      <td>05665a05-f7d1-4b4d-9085-62...</td>\n",
       "    </tr>\n",
       "    <tr>\n",
       "      <th>asset-name</th>\n",
       "      <td>nerve-test-repo-3_maya001_...</td>\n",
       "      <td>nerve-test-repo-3_maya001_...</td>\n",
       "      <td>nerve-test-repo-3_vol001_d...</td>\n",
       "    </tr>\n",
       "    <tr>\n",
       "      <th>asset-type</th>\n",
       "      <td>nondeliverable</td>\n",
       "      <td>nondeliverable</td>\n",
       "      <td>deliverable</td>\n",
       "    </tr>\n",
       "    <tr>\n",
       "      <th>data</th>\n",
       "      <td>None</td>\n",
       "      <td>None</td>\n",
       "      <td>None</td>\n",
       "    </tr>\n",
       "    <tr>\n",
       "      <th>dependencies</th>\n",
       "      <td>NaN</td>\n",
       "      <td>NaN</td>\n",
       "      <td>[]</td>\n",
       "    </tr>\n",
       "    <tr>\n",
       "      <th>descriptor</th>\n",
       "      <td>NaN</td>\n",
       "      <td>NaN</td>\n",
       "      <td>desc</td>\n",
       "    </tr>\n",
       "    <tr>\n",
       "      <th>notes</th>\n",
       "      <td></td>\n",
       "      <td></td>\n",
       "      <td></td>\n",
       "    </tr>\n",
       "    <tr>\n",
       "      <th>project-id</th>\n",
       "      <td>None</td>\n",
       "      <td>None</td>\n",
       "      <td>None</td>\n",
       "    </tr>\n",
       "    <tr>\n",
       "      <th>project-name</th>\n",
       "      <td>nerve-test-repo-3</td>\n",
       "      <td>nerve-test-repo-3</td>\n",
       "      <td>nerve-test-repo-3</td>\n",
       "    </tr>\n",
       "    <tr>\n",
       "      <th>specification</th>\n",
       "      <td>maya001</td>\n",
       "      <td>maya001</td>\n",
       "      <td>vol001</td>\n",
       "    </tr>\n",
       "    <tr>\n",
       "      <th>url</th>\n",
       "      <td>None</td>\n",
       "      <td>None</td>\n",
       "      <td>None</td>\n",
       "    </tr>\n",
       "    <tr>\n",
       "      <th>version</th>\n",
       "      <td>NaN</td>\n",
       "      <td>NaN</td>\n",
       "      <td>1</td>\n",
       "    </tr>\n",
       "  </tbody>\n",
       "</table>\n",
       "</div>"
      ],
      "text/plain": [
       "                                           0                              1                              2\n",
       "asset-id       bb29d0b6-3356-4348-b399-d8...  af730169-30cb-4df7-b999-e2...  05665a05-f7d1-4b4d-9085-62...\n",
       "asset-name     nerve-test-repo-3_maya001_...  nerve-test-repo-3_maya001_...  nerve-test-repo-3_vol001_d...\n",
       "asset-type                    nondeliverable                 nondeliverable                    deliverable\n",
       "data                                    None                           None                           None\n",
       "dependencies                             NaN                            NaN                             []\n",
       "descriptor                               NaN                            NaN                           desc\n",
       "notes                                                                                                     \n",
       "project-id                              None                           None                           None\n",
       "project-name               nerve-test-repo-3              nerve-test-repo-3              nerve-test-repo-3\n",
       "specification                        maya001                        maya001                         vol001\n",
       "url                                     None                           None                           None\n",
       "version                                  NaN                            NaN                              1"
      ]
     },
     "execution_count": 11,
     "metadata": {},
     "output_type": "execute_result"
    }
   ],
   "source": [
    "stat = nerve.status(\n",
    "    status_asset_types=['deliverable', 'nondeliverable'],\n",
    "#     status_states=['added'],\n",
    "    verbosity=2\n",
    ")\n",
    "d = DataFrame(list(stat)).applymap(lambda x: x.data)\n",
    "st = StitchFrame(d).flatten(prefix=False)\n",
    "st.to_dataframe().T"
   ]
  },
  {
   "cell_type": "code",
   "execution_count": 12,
   "metadata": {
    "collapsed": false,
    "run_control": {
     "frozen": false,
     "read_only": false
    }
   },
   "outputs": [
    {
     "ename": "SubprocessError",
     "evalue": "Command: \"git push origin alex\" returned \"error: failed to push some refs to 'git@github.com:nerve-test-organization/nerve-test-repo-3.git'\"",
     "output_type": "error",
     "traceback": [
      "\u001b[0;31m---------------------------------------------------------------------------\u001b[0m",
      "\u001b[0;31mSubprocessError\u001b[0m                           Traceback (most recent call last)",
      "\u001b[0;32m<ipython-input-12-ddebfa09a67d>\u001b[0m in \u001b[0;36m<module>\u001b[0;34m()\u001b[0m\n\u001b[0;32m----> 1\u001b[0;31m \u001b[0mx\u001b[0m \u001b[0;34m=\u001b[0m \u001b[0mnerve\u001b[0m\u001b[0;34m.\u001b[0m\u001b[0mpublish\u001b[0m\u001b[0;34m(\u001b[0m\u001b[0mnotes\u001b[0m\u001b[0;34m=\u001b[0m\u001b[0;34m'create vol001_v001; if you can read this, it probably worked'\u001b[0m\u001b[0;34m,\u001b[0m \u001b[0mverbosity\u001b[0m\u001b[0;34m=\u001b[0m\u001b[0;36m2\u001b[0m\u001b[0;34m)\u001b[0m\u001b[0;34m\u001b[0m\u001b[0m\n\u001b[0m",
      "\u001b[0;32m/Users/alex/Documents/projects/nerve/python/nerve/core/model.py\u001b[0m in \u001b[0;36mpublish\u001b[0;34m(self, name, notes, **config)\u001b[0m\n\u001b[1;32m    351\u001b[0m             \u001b[0mnames\u001b[0m \u001b[0;34m=\u001b[0m \u001b[0;34m[\u001b[0m\u001b[0mx\u001b[0m\u001b[0;34m[\u001b[0m\u001b[0;34m'asset-name'\u001b[0m\u001b[0;34m]\u001b[0m \u001b[0;32mfor\u001b[0m \u001b[0mx\u001b[0m \u001b[0;32min\u001b[0m \u001b[0mnondeliverables\u001b[0m\u001b[0;34m]\u001b[0m\u001b[0;34m\u001b[0m\u001b[0m\n\u001b[1;32m    352\u001b[0m             \u001b[0mlocal\u001b[0m\u001b[0;34m.\u001b[0m\u001b[0mcommit\u001b[0m\u001b[0;34m(\u001b[0m\u001b[0;34m'NON-DELIVERABLES: '\u001b[0m \u001b[0;34m+\u001b[0m \u001b[0;34m', '\u001b[0m\u001b[0;34m.\u001b[0m\u001b[0mjoin\u001b[0m\u001b[0;34m(\u001b[0m\u001b[0mnames\u001b[0m\u001b[0;34m)\u001b[0m\u001b[0;34m)\u001b[0m\u001b[0;34m\u001b[0m\u001b[0m\n\u001b[0;32m--> 353\u001b[0;31m             \u001b[0mlocal\u001b[0m\u001b[0;34m.\u001b[0m\u001b[0mpush\u001b[0m\u001b[0;34m(\u001b[0m\u001b[0mbranch\u001b[0m\u001b[0;34m)\u001b[0m\u001b[0;34m\u001b[0m\u001b[0m\n\u001b[0m\u001b[1;32m    354\u001b[0m         \u001b[0;31m# ----------------------------------------------------------------------\u001b[0m\u001b[0;34m\u001b[0m\u001b[0;34m\u001b[0m\u001b[0m\n\u001b[1;32m    355\u001b[0m \u001b[0;34m\u001b[0m\u001b[0m\n",
      "\u001b[0;32m/Users/alex/Documents/projects/nerve/python/nerve/core/git.py\u001b[0m in \u001b[0;36mpush\u001b[0;34m(self, branch, remote)\u001b[0m\n\u001b[1;32m    135\u001b[0m         \u001b[0;31m# self._repo.remote(remote).push(branch)\u001b[0m\u001b[0;34m\u001b[0m\u001b[0;34m\u001b[0m\u001b[0m\n\u001b[1;32m    136\u001b[0m         \u001b[0mcmd\u001b[0m \u001b[0;34m=\u001b[0m \u001b[0;34m'git push {remote} {branch}'\u001b[0m\u001b[0;34m.\u001b[0m\u001b[0mformat\u001b[0m\u001b[0;34m(\u001b[0m\u001b[0mremote\u001b[0m\u001b[0;34m=\u001b[0m\u001b[0mremote\u001b[0m\u001b[0;34m,\u001b[0m \u001b[0mbranch\u001b[0m\u001b[0;34m=\u001b[0m\u001b[0mbranch\u001b[0m\u001b[0;34m)\u001b[0m\u001b[0;34m\u001b[0m\u001b[0m\n\u001b[0;32m--> 137\u001b[0;31m         \u001b[0mexecute_subprocess\u001b[0m\u001b[0;34m(\u001b[0m\u001b[0mcmd\u001b[0m\u001b[0;34m)\u001b[0m\u001b[0;34m\u001b[0m\u001b[0m\n\u001b[0m\u001b[1;32m    138\u001b[0m \u001b[0;34m\u001b[0m\u001b[0m\n\u001b[1;32m    139\u001b[0m     \u001b[0;32mdef\u001b[0m \u001b[0mpull\u001b[0m\u001b[0;34m(\u001b[0m\u001b[0mself\u001b[0m\u001b[0;34m,\u001b[0m \u001b[0msrc\u001b[0m\u001b[0;34m,\u001b[0m \u001b[0mdest\u001b[0m\u001b[0;34m,\u001b[0m \u001b[0mremote\u001b[0m\u001b[0;34m=\u001b[0m\u001b[0;34m'origin'\u001b[0m\u001b[0;34m)\u001b[0m\u001b[0;34m:\u001b[0m\u001b[0;34m\u001b[0m\u001b[0m\n",
      "\u001b[0;32m/Users/alex/Documents/projects/nerve/python/nerve/core/utils.py\u001b[0m in \u001b[0;36mexecute_subprocess\u001b[0;34m(command, error_re)\u001b[0m\n\u001b[1;32m     38\u001b[0m             \u001b[0mmessage\u001b[0m \u001b[0;34m=\u001b[0m \u001b[0;34m'Command: \"'\u001b[0m \u001b[0;34m+\u001b[0m \u001b[0mcommand\u001b[0m\u001b[0;34m\u001b[0m\u001b[0m\n\u001b[1;32m     39\u001b[0m             \u001b[0mmessage\u001b[0m \u001b[0;34m+=\u001b[0m \u001b[0;34m'\" returned \"'\u001b[0m \u001b[0;34m+\u001b[0m \u001b[0merror\u001b[0m\u001b[0;34m.\u001b[0m\u001b[0mgroup\u001b[0m\u001b[0;34m(\u001b[0m\u001b[0;36m0\u001b[0m\u001b[0;34m)\u001b[0m \u001b[0;34m+\u001b[0m \u001b[0;34m'\"'\u001b[0m\u001b[0;34m\u001b[0m\u001b[0m\n\u001b[0;32m---> 40\u001b[0;31m             \u001b[0;32mraise\u001b[0m \u001b[0mSubprocessError\u001b[0m\u001b[0;34m(\u001b[0m\u001b[0mmessage\u001b[0m\u001b[0;34m)\u001b[0m\u001b[0;34m\u001b[0m\u001b[0m\n\u001b[0m\u001b[1;32m     41\u001b[0m \u001b[0;34m\u001b[0m\u001b[0m\n\u001b[1;32m     42\u001b[0m     \u001b[0;32mreturn\u001b[0m \u001b[0moutput\u001b[0m\u001b[0;34m\u001b[0m\u001b[0m\n",
      "\u001b[0;31mSubprocessError\u001b[0m: Command: \"git push origin alex\" returned \"error: failed to push some refs to 'git@github.com:nerve-test-organization/nerve-test-repo-3.git'\""
     ]
    }
   ],
   "source": [
    "nerve.publish(notes='create vol001_v001; if you can read this, it probably worked', verbosity=2)"
   ]
  },
  {
   "cell_type": "code",
   "execution_count": 18,
   "metadata": {
    "collapsed": false
   },
   "outputs": [],
   "source": [
    "command = 'git push {remote} {branch}'.format(remote='origin', branch='alex')\n",
    "output = Popen(command, shell=True, stdout=PIPE, stderr=PIPE)\n",
    "stderr = output.stderr.read().decode('utf-8')\n",
    "output = output.stdout.readlines()\n",
    "output = [x.decode('utf-8').strip('\\n') for x in output]"
   ]
  },
  {
   "cell_type": "code",
   "execution_count": 6,
   "metadata": {
    "collapsed": false,
    "run_control": {
     "frozen": false,
     "read_only": false
    }
   },
   "outputs": [],
   "source": [
    "test_whole_project_cycle()"
   ]
  },
  {
   "cell_type": "code",
   "execution_count": 22,
   "metadata": {
    "collapsed": false
   },
   "outputs": [
    {
     "data": {
      "text/plain": [
       "(1,\n",
       " b'[alex 2e9b407] testmagoo\\n 2 files changed, 6 insertions(+)\\n create mode 100644 maya001/nerve-test-repo-3_maya001_kidney2.mb\\n create mode 100644 maya001/nerve-test-repo-3_maya001_vasculature2.mb\\n\\rGit LFS: (0 of 2 files) 0 B / 22 B                                             \\n',\n",
       " b\"LFS: Git credentials for http://localhost:8080 not found.\\nLFS: Git credentials for http://localhost:8080 not found.\\nerror: failed to push some refs to 'git@github.com:nerve-test-organization/nerve-test-repo-3.git'\\n\")"
      ]
     },
     "execution_count": 22,
     "metadata": {},
     "output_type": "execute_result"
    }
   ],
   "source": [
    "from subprocess import TimeoutExpired, CalledProcessError\n",
    "\n",
    "def execute_subprocess(command, error_re='[eE]rror:.*'):\n",
    "    '''\n",
    "    Executes a given command as a subprocess and scrubs the output for errors\n",
    "\n",
    "    Args:\n",
    "        command (str): shell command to be run\n",
    "        error_re (str, optional): regex used for capturing errors\n",
    "\n",
    "    Returns:\n",
    "        list: lines of output\n",
    "\n",
    "    Raises:\n",
    "        SubprocessError: stdout error as message\n",
    "    '''\n",
    "    timeout=100\n",
    "    with Popen(command, shell=True, stdout=PIPE, stderr=PIPE) as process:\n",
    "        try:\n",
    "            stdout, stderr = process.communicate(input, timeout=timeout)\n",
    "        except TimeoutExpired:\n",
    "            process.kill()\n",
    "            stdout, stderr = process.communicate()\n",
    "            raise TimeoutExpired(process.args, timeout, output=stdout,\n",
    "                                 stderr=stderr)\n",
    "        except:\n",
    "            process.kill()\n",
    "            process.wait()\n",
    "            raise\n",
    "        retcode = process.poll()\n",
    "#         if check and retcode:\n",
    "#             raise CalledProcessError(retcode, process.args,\n",
    "#                                      output=stdout, stderr=stderr)\n",
    "    \n",
    "    return retcode, stdout, stderr\n",
    "\n",
    "#     stderr = output.stderr.read().decode('utf-8')\n",
    "#     output = output.stdout.readlines()\n",
    "#     output = [x.decode('utf-8').strip('\\n') for x in output]\n",
    "\n",
    "#     err = '\\n'.join(output)\n",
    "#     for e in [err, stderr]:\n",
    "#         error = re.search(error_re, e)\n",
    "#         if error:\n",
    "#             message = 'Command: \"' + command\n",
    "#             message += '\" returned \"' + error.group(0) + '\"'\n",
    "#             raise SubprocessError(message)\n",
    "\n",
    "#     return output\n",
    "\n",
    "execute_subprocess('GIT_TRACE=1; git add --all; git commit -m \"testmagoo\"; git push origin alex')"
   ]
  },
  {
   "cell_type": "code",
   "execution_count": 5,
   "metadata": {
    "collapsed": false
   },
   "outputs": [
    {
     "ename": "FileNotFoundError",
     "evalue": "[Errno 2] No such file or directory: 'git push origin alex'",
     "output_type": "error",
     "traceback": [
      "\u001b[0;31m---------------------------------------------------------------------------\u001b[0m",
      "\u001b[0;31mFileNotFoundError\u001b[0m                         Traceback (most recent call last)",
      "\u001b[0;32m<ipython-input-5-27688d93288f>\u001b[0m in \u001b[0;36m<module>\u001b[0;34m()\u001b[0m\n\u001b[1;32m      4\u001b[0m )\n\u001b[1;32m      5\u001b[0m \u001b[0mrepo\u001b[0m\u001b[0;34m.\u001b[0m\u001b[0mcommit\u001b[0m\u001b[0;34m(\u001b[0m\u001b[0;34m'aekdfgjhsadgfjh'\u001b[0m\u001b[0;34m)\u001b[0m\u001b[0;34m\u001b[0m\u001b[0m\n\u001b[0;32m----> 6\u001b[0;31m \u001b[0mrepo\u001b[0m\u001b[0;34m.\u001b[0m\u001b[0mpush\u001b[0m\u001b[0;34m(\u001b[0m\u001b[0;34m'alex'\u001b[0m\u001b[0;34m)\u001b[0m\u001b[0;34m\u001b[0m\u001b[0m\n\u001b[0m",
      "\u001b[0;32m/Users/alex/Documents/projects/nerve/python/nerve/core/git.py\u001b[0m in \u001b[0;36mpush\u001b[0;34m(self, branch, remote)\u001b[0m\n\u001b[1;32m    135\u001b[0m         \u001b[0;31m# self._repo.remote(remote).push(branch)\u001b[0m\u001b[0;34m\u001b[0m\u001b[0;34m\u001b[0m\u001b[0m\n\u001b[1;32m    136\u001b[0m         \u001b[0mcmd\u001b[0m \u001b[0;34m=\u001b[0m \u001b[0;34m'git push {remote} {branch}'\u001b[0m\u001b[0;34m.\u001b[0m\u001b[0mformat\u001b[0m\u001b[0;34m(\u001b[0m\u001b[0mremote\u001b[0m\u001b[0;34m=\u001b[0m\u001b[0mremote\u001b[0m\u001b[0;34m,\u001b[0m \u001b[0mbranch\u001b[0m\u001b[0;34m=\u001b[0m\u001b[0mbranch\u001b[0m\u001b[0;34m)\u001b[0m\u001b[0;34m\u001b[0m\u001b[0m\n\u001b[0;32m--> 137\u001b[0;31m         \u001b[0mexecute_subprocess\u001b[0m\u001b[0;34m(\u001b[0m\u001b[0mcmd\u001b[0m\u001b[0;34m)\u001b[0m\u001b[0;34m\u001b[0m\u001b[0m\n\u001b[0m\u001b[1;32m    138\u001b[0m \u001b[0;34m\u001b[0m\u001b[0m\n\u001b[1;32m    139\u001b[0m     \u001b[0;32mdef\u001b[0m \u001b[0mpull\u001b[0m\u001b[0;34m(\u001b[0m\u001b[0mself\u001b[0m\u001b[0;34m,\u001b[0m \u001b[0msrc\u001b[0m\u001b[0;34m,\u001b[0m \u001b[0mdest\u001b[0m\u001b[0;34m,\u001b[0m \u001b[0mremote\u001b[0m\u001b[0;34m=\u001b[0m\u001b[0;34m'origin'\u001b[0m\u001b[0;34m)\u001b[0m\u001b[0;34m:\u001b[0m\u001b[0;34m\u001b[0m\u001b[0m\n",
      "\u001b[0;32m/Users/alex/Documents/projects/nerve/python/nerve/core/utils.py\u001b[0m in \u001b[0;36mexecute_subprocess\u001b[0;34m(command, error_re)\u001b[0m\n\u001b[1;32m     27\u001b[0m         \u001b[0mSubprocessError\u001b[0m\u001b[0;34m:\u001b[0m \u001b[0mstdout\u001b[0m \u001b[0merror\u001b[0m \u001b[0;32mas\u001b[0m \u001b[0mmessage\u001b[0m\u001b[0;34m\u001b[0m\u001b[0m\n\u001b[1;32m     28\u001b[0m     '''\n\u001b[0;32m---> 29\u001b[0;31m     \u001b[0moutput\u001b[0m \u001b[0;34m=\u001b[0m \u001b[0mPopen\u001b[0m\u001b[0;34m(\u001b[0m\u001b[0mcommand\u001b[0m\u001b[0;34m,\u001b[0m \u001b[0mshell\u001b[0m\u001b[0;34m=\u001b[0m\u001b[0;32mFalse\u001b[0m\u001b[0;34m,\u001b[0m \u001b[0mstdout\u001b[0m\u001b[0;34m=\u001b[0m\u001b[0mPIPE\u001b[0m\u001b[0;34m,\u001b[0m \u001b[0mstderr\u001b[0m\u001b[0;34m=\u001b[0m\u001b[0mPIPE\u001b[0m\u001b[0;34m)\u001b[0m\u001b[0;34m\u001b[0m\u001b[0m\n\u001b[0m\u001b[1;32m     30\u001b[0m     \u001b[0moutput\u001b[0m\u001b[0;34m.\u001b[0m\u001b[0mwait\u001b[0m\u001b[0;34m(\u001b[0m\u001b[0;34m)\u001b[0m\u001b[0;34m\u001b[0m\u001b[0m\n\u001b[1;32m     31\u001b[0m     \u001b[0mstderr\u001b[0m \u001b[0;34m=\u001b[0m \u001b[0moutput\u001b[0m\u001b[0;34m.\u001b[0m\u001b[0mstderr\u001b[0m\u001b[0;34m.\u001b[0m\u001b[0mread\u001b[0m\u001b[0;34m(\u001b[0m\u001b[0;34m)\u001b[0m\u001b[0;34m.\u001b[0m\u001b[0mdecode\u001b[0m\u001b[0;34m(\u001b[0m\u001b[0;34m'utf-8'\u001b[0m\u001b[0;34m)\u001b[0m\u001b[0;34m\u001b[0m\u001b[0m\n",
      "\u001b[0;32m/Applications/anaconda/envs/nerve-dev/lib/python3.4/subprocess.py\u001b[0m in \u001b[0;36m__init__\u001b[0;34m(self, args, bufsize, executable, stdin, stdout, stderr, preexec_fn, close_fds, shell, cwd, env, universal_newlines, startupinfo, creationflags, restore_signals, start_new_session, pass_fds)\u001b[0m\n\u001b[1;32m    854\u001b[0m                                 \u001b[0mc2pread\u001b[0m\u001b[0;34m,\u001b[0m \u001b[0mc2pwrite\u001b[0m\u001b[0;34m,\u001b[0m\u001b[0;34m\u001b[0m\u001b[0m\n\u001b[1;32m    855\u001b[0m                                 \u001b[0merrread\u001b[0m\u001b[0;34m,\u001b[0m \u001b[0merrwrite\u001b[0m\u001b[0;34m,\u001b[0m\u001b[0;34m\u001b[0m\u001b[0m\n\u001b[0;32m--> 856\u001b[0;31m                                 restore_signals, start_new_session)\n\u001b[0m\u001b[1;32m    857\u001b[0m         \u001b[0;32mexcept\u001b[0m\u001b[0;34m:\u001b[0m\u001b[0;34m\u001b[0m\u001b[0m\n\u001b[1;32m    858\u001b[0m             \u001b[0;31m# Cleanup if the child failed starting.\u001b[0m\u001b[0;34m\u001b[0m\u001b[0;34m\u001b[0m\u001b[0m\n",
      "\u001b[0;32m/Applications/anaconda/envs/nerve-dev/lib/python3.4/subprocess.py\u001b[0m in \u001b[0;36m_execute_child\u001b[0;34m(self, args, executable, preexec_fn, close_fds, pass_fds, cwd, env, startupinfo, creationflags, shell, p2cread, p2cwrite, c2pread, c2pwrite, errread, errwrite, restore_signals, start_new_session)\u001b[0m\n\u001b[1;32m   1458\u001b[0m                             \u001b[0;32melse\u001b[0m\u001b[0;34m:\u001b[0m\u001b[0;34m\u001b[0m\u001b[0m\n\u001b[1;32m   1459\u001b[0m                                 \u001b[0merr_msg\u001b[0m \u001b[0;34m+=\u001b[0m \u001b[0;34m': '\u001b[0m \u001b[0;34m+\u001b[0m \u001b[0mrepr\u001b[0m\u001b[0;34m(\u001b[0m\u001b[0morig_executable\u001b[0m\u001b[0;34m)\u001b[0m\u001b[0;34m\u001b[0m\u001b[0m\n\u001b[0;32m-> 1460\u001b[0;31m                     \u001b[0;32mraise\u001b[0m \u001b[0mchild_exception_type\u001b[0m\u001b[0;34m(\u001b[0m\u001b[0merrno_num\u001b[0m\u001b[0;34m,\u001b[0m \u001b[0merr_msg\u001b[0m\u001b[0;34m)\u001b[0m\u001b[0;34m\u001b[0m\u001b[0m\n\u001b[0m\u001b[1;32m   1461\u001b[0m                 \u001b[0;32mraise\u001b[0m \u001b[0mchild_exception_type\u001b[0m\u001b[0;34m(\u001b[0m\u001b[0merr_msg\u001b[0m\u001b[0;34m)\u001b[0m\u001b[0;34m\u001b[0m\u001b[0m\n\u001b[1;32m   1462\u001b[0m \u001b[0;34m\u001b[0m\u001b[0m\n",
      "\u001b[0;31mFileNotFoundError\u001b[0m: [Errno 2] No such file or directory: 'git push origin alex'"
     ]
    }
   ],
   "source": [
    "repo = Git(proj)\n",
    "repo.add(\n",
    "['maya001/nerve-test-repo-3_maya001_kidney.mb', 'maya001/nerve-test-repo-3_maya001_vasculature.mb']\n",
    ")\n",
    "repo.commit('aekdfgjhsadgfjh')\n",
    "repo.push('alex')"
   ]
  },
  {
   "cell_type": "code",
   "execution_count": 13,
   "metadata": {
    "collapsed": false,
    "run_control": {
     "frozen": false,
     "read_only": false
    }
   },
   "outputs": [],
   "source": [
    "def patch(name, nerve, user, username):\n",
    "    path = '/Volumes/data/nerve-test-projects/' + user\n",
    "    if not os.path.exists(path):\n",
    "        os.mkdir(path)\n",
    "    nerve._config['project-root'] = '/Volumes/data/nerve-test-projects/' + user\n",
    "    nerve._config['user-branch'] = user\n",
    "    nerve._config['username'] = username\n",
    "    nerve.clone(name)\n",
    "\n",
    "branches = [\n",
    "#     ('alex', 'theNewFlesh'),\n",
    "    ('nerve-test-user', 'nerve-test-user')\n",
    "]\n",
    "for user, username in branches:\n",
    "    patch(name, nerve, user, username)"
   ]
  },
  {
   "cell_type": "code",
   "execution_count": 9,
   "metadata": {
    "collapsed": true,
    "run_control": {
     "frozen": false,
     "read_only": false
    }
   },
   "outputs": [],
   "source": [
    "def create_command(branch, version, asset):\n",
    "    cmd = 'echo v{v} > {a}001/ntr_{a}_v{v}.txt; git add --all; git commit -m \"v{v}\";'\n",
    "#     cmd += ' git push origin {b}'\n",
    "    cmd = cmd.format(a=asset, b=branch, v=version)\n",
    "    return cmd\n",
    "\n",
    "def do(branch, versions, asset):\n",
    "    cmds = []    \n",
    "    cmds.append('git checkout {b}'.format(b=branch))\n",
    "    cmds.append('git pull origin dev:{b}'.format(b=branch))\n",
    "    for ver in versions:\n",
    "        cmds.append(create_command(branch, ver, asset))\n",
    "    cmds.append('git push origin {b}'.format(b=branch))\n",
    "    path = '/Users/alex/Documents/data/nerve-test-projects/' + branch + '/nerve-test-repo'\n",
    "#     os.chdir(path)\n",
    "    for cmd in cmds: \n",
    "        print(cmd)\n",
    "#         execute_subprocess(cmd)"
   ]
  },
  {
   "cell_type": "code",
   "execution_count": 10,
   "metadata": {
    "collapsed": false,
    "run_control": {
     "frozen": false,
     "read_only": false
    }
   },
   "outputs": [
    {
     "name": "stdout",
     "output_type": "stream",
     "text": [
      "git checkout nerve-test-user\n",
      "git pull origin dev:nerve-test-user\n",
      "echo v001 > vol001/ntr_vol_v001.txt; git add --all; git commit -m \"v001\";\n",
      "echo v002 > vol001/ntr_vol_v002.txt; git add --all; git commit -m \"v002\";\n",
      "git push origin nerve-test-user\n"
     ]
    }
   ],
   "source": [
    "do('nerve-test-user', ['001', '002'], 'vol')\n",
    "# do('nerve-test-user', ['001', '002'], 'geo')\n",
    "# do('alex', ['003', '004'], 'vol')\n",
    "# do('nerve-test-user', ['003', '004'], 'geo')"
   ]
  },
  {
   "cell_type": "code",
   "execution_count": 7,
   "metadata": {
    "collapsed": false,
    "run_control": {
     "frozen": false,
     "read_only": false
    }
   },
   "outputs": [
    {
     "name": "stdout",
     "output_type": "stream",
     "text": [
      "Switched to branch 'dev'\n",
      "Your branch is up-to-date with 'origin/dev'.\n",
      "Updating 6900604..390a4da\n",
      "Fast-forward (no commit created; -m option ignored)\n",
      " vol001/ntr_vol_v001.txt | 1 \u001b[32m+\u001b[m\n",
      " vol001/ntr_vol_v002.txt | 1 \u001b[32m+\u001b[m\n",
      " 2 files changed, 2 insertions(+)\n",
      " create mode 100644 vol001/ntr_vol_v001.txt\n",
      " create mode 100644 vol001/ntr_vol_v002.txt\n",
      "Total 0 (delta 0), reused 0 (delta 0)\n",
      "To git@github.com:nerve-test-organization/nerve-test-repo.git\n",
      "   6900604..390a4da  dev -> dev\n"
     ]
    }
   ],
   "source": [
    "!git checkout dev; git merge nerve-test-user -m 'blah'; git push origin dev; git checkout nerve-test-user"
   ]
  },
  {
   "cell_type": "code",
   "execution_count": 15,
   "metadata": {
    "collapsed": false,
    "run_control": {
     "frozen": false,
     "read_only": false
    }
   },
   "outputs": [
    {
     "name": "stdout",
     "output_type": "stream",
     "text": [
      "git checkout alex\n",
      "git pull origin dev:alex\n",
      "echo v001 > geo001/ntr_geo_v001.txt; git add --all; git commit -m \"v001\";\n",
      "echo v002 > geo001/ntr_geo_v002.txt; git add --all; git commit -m \"v002\";\n",
      "git push origin alex\n"
     ]
    }
   ],
   "source": [
    "do('alex', ['001', '002'], 'geo')"
   ]
  },
  {
   "cell_type": "code",
   "execution_count": 10,
   "metadata": {
    "collapsed": false,
    "run_control": {
     "frozen": false,
     "read_only": false
    }
   },
   "outputs": [
    {
     "name": "stdout",
     "output_type": "stream",
     "text": [
      "Switched to branch 'dev'\n",
      "Your branch is behind 'origin/dev' by 2 commits, and can be fast-forwarded.\n",
      "  (use \"git pull\" to update your local branch)\n",
      "Updating 6900604..39e8196\n",
      "Fast-forward (no commit created; -m option ignored)\n",
      " geo001/ntr_geo_v001.txt | 1 \u001b[32m+\u001b[m\n",
      " geo001/ntr_geo_v002.txt | 1 \u001b[32m+\u001b[m\n",
      " vol001/ntr_vol_v001.txt | 1 \u001b[32m+\u001b[m\n",
      " vol001/ntr_vol_v002.txt | 1 \u001b[32m+\u001b[m\n",
      " 4 files changed, 4 insertions(+)\n",
      " create mode 100644 geo001/ntr_geo_v001.txt\n",
      " create mode 100644 geo001/ntr_geo_v002.txt\n",
      " create mode 100644 vol001/ntr_vol_v001.txt\n",
      " create mode 100644 vol001/ntr_vol_v002.txt\n",
      "Total 0 (delta 0), reused 0 (delta 0)\n",
      "To git@github.com:nerve-test-organization/nerve-test-repo.git\n",
      "   390a4da..39e8196  dev -> dev\n",
      "Switched to branch 'alex'\n"
     ]
    }
   ],
   "source": [
    "!git checkout dev; git merge alex -m 'blah'; git push origin dev; git checkout alex"
   ]
  },
  {
   "cell_type": "code",
   "execution_count": 8,
   "metadata": {
    "collapsed": false,
    "run_control": {
     "frozen": false,
     "read_only": false
    }
   },
   "outputs": [
    {
     "name": "stdout",
     "output_type": "stream",
     "text": [
      "git checkout alex\n",
      "echo v003 > vol001/ntr_vol_v003.txt; git add --all; git commit -m \"v003\";\n",
      "echo v004 > vol001/ntr_vol_v004.txt; git add --all; git commit -m \"v004\";\n",
      "git push origin alex\n",
      "git checkout dev\n",
      "echo v003 > geo001/ntr_geo_v003.txt; git add --all; git commit -m \"v003\";\n",
      "echo v004 > geo001/ntr_geo_v004.txt; git add --all; git commit -m \"v004\";\n",
      "git push origin dev\n"
     ]
    }
   ],
   "source": [
    "do('alex', ['003', '004'], 'vol')\n",
    "do('dev', ['003', '004'], 'geo')"
   ]
  },
  {
   "cell_type": "code",
   "execution_count": 17,
   "metadata": {
    "collapsed": false,
    "run_control": {
     "frozen": false,
     "read_only": false
    }
   },
   "outputs": [],
   "source": [
    "username = 'theNewFlesh'\n",
    "name = 'nerve-test-repo'\n",
    "token = 'e17afcc8c42fe24536c14700c4931f0e7f252bb1'\n",
    "client = login(username, token=token)\n",
    "orgname = 'nerve-test-organization'\n",
    "org = client.organization(orgname)\n",
    "repo = client.repository(orgname, name)\n",
    "# {team.id: team.name for team in org.teams()}"
   ]
  },
  {
   "cell_type": "code",
   "execution_count": 22,
   "metadata": {
    "collapsed": false,
    "run_control": {
     "frozen": false,
     "read_only": false
    }
   },
   "outputs": [],
   "source": [
    "uri = 'git@github.com:nerve-test-organization/nerve-test-repo.git'\n",
    "path = '/Users/alex/Documents/data/nerve-test-projects/temp/nerve-test-repo'\n",
    "x = Repo.clone_from(uri, path, branch='dev')"
   ]
  },
  {
   "cell_type": "code",
   "execution_count": null,
   "metadata": {
    "collapsed": true,
    "run_control": {
     "frozen": false,
     "read_only": false
    }
   },
   "outputs": [],
   "source": []
  }
 ],
 "metadata": {
  "kernelspec": {
   "display_name": "Python 3",
   "language": "python",
   "name": "python3"
  },
  "language_info": {
   "codemirror_mode": {
    "name": "ipython",
    "version": 3
   },
   "file_extension": ".py",
   "mimetype": "text/x-python",
   "name": "python",
   "nbconvert_exporter": "python",
   "pygments_lexer": "ipython3",
   "version": "3.4.5"
  },
  "widgets": {
   "state": {},
   "version": "1.1.2"
  }
 },
 "nbformat": 4,
 "nbformat_minor": 1
}
