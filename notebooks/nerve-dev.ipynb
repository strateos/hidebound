{
 "cells": [
  {
   "cell_type": "code",
   "execution_count": 1,
   "metadata": {
    "collapsed": false,
    "run_control": {
     "frozen": false,
     "read_only": false
    }
   },
   "outputs": [
    {
     "name": "stdout",
     "output_type": "stream",
     "text": [
      "/Users/alex/Documents/projects/stitch/python\n",
      "/Users/alex/Documents/projects/nerve/python\n",
      "/private/tmp/ntr002\n"
     ]
    }
   ],
   "source": [
    "import re\n",
    "import shutil\n",
    "import pandas as pd\n",
    "from pandas import DataFrame, Series\n",
    "import github3\n",
    "from github3 import login\n",
    "from git import Repo, GitCommandError\n",
    "import yaml\n",
    "from subprocess import Popen, PIPE, STDOUT, SubprocessError, check_output\n",
    "from configparser import ConfigParser\n",
    "from github3.repos.branch import Branch\n",
    "from github3.null import NullObject\n",
    "from schematics.models import Model, BaseType\n",
    "from schematics.types import StringType, IntType, BooleanType\n",
    "from schematics.types.compound import ListType, DictType\n",
    "from schematics.exceptions import ValidationError\n",
    "%cd ~/Documents/projects/stitch/python/\n",
    "from stitch.core.stitch_frame import StitchFrame\n",
    "%cd ~/Documents/projects/nerve/python/\n",
    "from nerve.core.model import Nerve\n",
    "from nerve.core.client import Client\n",
    "from nerve.core.utils import *\n",
    "from nerve.core.git import Git\n",
    "from nerve.core.git_lfs import GitLFS\n",
    "from nerve.core.metadata import Metadata\n",
    "from nerve.core.utils import execute_subprocess, get_status\n",
    "from nerve.core.api import *\n",
    "from nerve.spec.specifications import *\n",
    "from nerve.spec.validators import *\n",
    "from nerve.spec.traits import *\n",
    "from nerve.spec.name import *\n",
    "from nerve.spec import traits\n",
    "from nerve.test.test_suite import *\n",
    "%cd /tmp/ntr002"
   ]
  },
  {
   "cell_type": "code",
   "execution_count": 3,
   "metadata": {
    "collapsed": false
   },
   "outputs": [
    {
     "data": {
      "text/plain": [
       "{'coordinates': None,\n",
       " 'descriptor': 'desc',\n",
       " 'frame': None,\n",
       " 'ftype': 'asset',\n",
       " 'fullpath': '/tmp/ntr003/vol001/ntr003_vol001_desc_v001',\n",
       " 'meta': None,\n",
       " 'project_name': 'ntr003',\n",
       " 'project_path': '/tmp/ntr003',\n",
       " 'project_root': '/tmp',\n",
       " 'raw': 'ntr003_vol001_desc_v001',\n",
       " 'render_pass': None,\n",
       " 'specification': 'vol001',\n",
       " 'version': 1}"
      ]
     },
     "execution_count": 3,
     "metadata": {},
     "output_type": "execute_result"
    }
   ],
   "source": [
    "# item = '/tmp/ntr002/vol001/ntr002_vol001_desc_v001_-_-_-/ntr002_vol001_desc_v001_rpass_000-000_0054.png'\n",
    "# item = '/tmp/ntr002/vol001/ntr002_vol001_desc_v001_-_-_-/ntr002_vol001_desc_v001_000-000_0054_rpass_meta.png'\n",
    "item = '/tmp/ntr003/vol001/ntr003_vol001_desc_v001/ntr003_vol001_desc_v001_0000.png'\n",
    "# item = 'ntr003_vol001_desc_v001_0000.png'\n",
    "item = 'ntr003_vol001_desc_v001'\n",
    "n = Name(item, '/tmp')\n",
    "n.to_dict()"
   ]
  },
  {
   "cell_type": "code",
   "execution_count": 9,
   "metadata": {
    "collapsed": false,
    "run_control": {
     "frozen": false,
     "read_only": false
    }
   },
   "outputs": [],
   "source": [
    "admin = NerveAdmin()\n",
    "info = admin._nerve._get_info('ntr002')"
   ]
  },
  {
   "cell_type": "code",
   "execution_count": 3,
   "metadata": {
    "collapsed": false,
    "run_control": {
     "frozen": false,
     "read_only": false
    }
   },
   "outputs": [
    {
     "data": {
      "text/plain": [
       "True"
      ]
     },
     "execution_count": 3,
     "metadata": {},
     "output_type": "execute_result"
    }
   ],
   "source": [
    "admin.delete('ntr002', True, True)"
   ]
  },
  {
   "cell_type": "code",
   "execution_count": 4,
   "metadata": {
    "collapsed": false,
    "run_control": {
     "frozen": false,
     "read_only": false
    }
   },
   "outputs": [
    {
     "data": {
      "text/plain": [
       "True"
      ]
     },
     "execution_count": 4,
     "metadata": {},
     "output_type": "execute_result"
    }
   ],
   "source": [
    "admin.create('ntr002', 'some note from the admin about the project')\n",
    "admin.clone('ntr002')"
   ]
  },
  {
   "cell_type": "code",
   "execution_count": 5,
   "metadata": {
    "collapsed": false,
    "run_control": {
     "frozen": false,
     "read_only": false
    }
   },
   "outputs": [
    {
     "name": "stdout",
     "output_type": "stream",
     "text": [
      ".\n",
      "├── geo001\n",
      "├── maya001\n",
      "│   ├── ntr002_maya001_kdny_v001.mb\n",
      "│   └── ntr002_maya001_vasc_v001.mb\n",
      "├── ntr002_proj001_meta.yml\n",
      "└── vol001\n",
      "    └── ntr002_vol001_desc_v001_-_-_-\n",
      "        ├── ntr002_vol001_desc_v001_-_-_0000.png\n",
      "        ├── ntr002_vol001_desc_v001_-_-_0001.png\n",
      "        └── ntr002_vol001_desc_v001_-_-_0002.png\n",
      "\n",
      "4 directories, 6 files\n"
     ]
    }
   ],
   "source": [
    "%%bash\n",
    "rm -rf /tmp/ntr002-new\n",
    "cp -R /tmp/ntr002/ /tmp/ntr002-old\n",
    "cd /tmp/ntr002/\n",
    "mkdir vol001/ntr002_vol001_desc_v001_-_-_-\n",
    "echo v001 sdjfkh 0000 > vol001/ntr002_vol001_desc_v001_-_-_-/ntr002_vol001_desc_v001_-_-_0000.png\n",
    "echo v001 jyelkh 0001 > vol001/ntr002_vol001_desc_v001_-_-_-/ntr002_vol001_desc_v001_-_-_0001.png\n",
    "echo v001 lwekfj 0002 > vol001/ntr002_vol001_desc_v001_-_-_-/ntr002_vol001_desc_v001_-_-_0002.png\n",
    "echo vasc v001 > maya001/ntr002_maya001_vasc_v001.mb\n",
    "echo kidney v001 > maya001/ntr002_maya001_kdny_v001.mb\n",
    "tree"
   ]
  },
  {
   "cell_type": "code",
   "execution_count": 4,
   "metadata": {
    "collapsed": false
   },
   "outputs": [],
   "source": [
    "%%bash\n",
    "cd /tmp/ntr002/\n",
    "mkdir vol001/ntr002_vol001_desc_v002_-_-_-\n",
    "echo v002 sdjfkh 0000 > vol001/ntr002_vol001_desc_v002_-_-_-/ntr002_vol001_desc_v002_-_-_0000.png\n",
    "echo v002 jyelkh 0001 > vol001/ntr002_vol001_desc_v002_-_-_-/ntr002_vol001_desc_v002_-_-_0001.png\n",
    "echo v002 lwekfj 0002 > vol001/ntr002_vol001_desc_v002_-_-_-/ntr002_vol001_desc_v002_-_-_0002.png\n",
    "echo vasc v002 > maya001/ntr002_maya001_vasc_v002.mb\n",
    "echo kidney v002 > maya001/ntr002_maya001_kdny_v002.mb\n",
    "tree"
   ]
  },
  {
   "cell_type": "code",
   "execution_count": 8,
   "metadata": {
    "collapsed": false,
    "run_control": {
     "frozen": false,
     "read_only": false
    },
    "scrolled": false
   },
   "outputs": [
    {
     "data": {
      "text/html": [
       "<div>\n",
       "<table border=\"1\" class=\"dataframe\">\n",
       "  <thead>\n",
       "    <tr style=\"text-align: right;\">\n",
       "      <th></th>\n",
       "      <th>0</th>\n",
       "      <th>1</th>\n",
       "      <th>2</th>\n",
       "    </tr>\n",
       "  </thead>\n",
       "  <tbody>\n",
       "    <tr>\n",
       "      <th>asset-id</th>\n",
       "      <td>d541833f-8e81-4759-bbdf-bd...</td>\n",
       "      <td>84df248a-393b-477b-b490-b3...</td>\n",
       "      <td>ec7268d2-ec76-48ee-8809-6a...</td>\n",
       "    </tr>\n",
       "    <tr>\n",
       "      <th>asset-name</th>\n",
       "      <td>ntr002_maya001_kdny_v001</td>\n",
       "      <td>ntr002_maya001_vasc_v001</td>\n",
       "      <td>ntr002_vol001_desc_v001_-_-_-</td>\n",
       "    </tr>\n",
       "    <tr>\n",
       "      <th>asset-type</th>\n",
       "      <td>nondeliverable</td>\n",
       "      <td>nondeliverable</td>\n",
       "      <td>deliverable</td>\n",
       "    </tr>\n",
       "    <tr>\n",
       "      <th>data</th>\n",
       "      <td>None</td>\n",
       "      <td>None</td>\n",
       "      <td>None</td>\n",
       "    </tr>\n",
       "    <tr>\n",
       "      <th>dependencies</th>\n",
       "      <td>NaN</td>\n",
       "      <td>NaN</td>\n",
       "      <td>[]</td>\n",
       "    </tr>\n",
       "    <tr>\n",
       "      <th>descriptor</th>\n",
       "      <td>NaN</td>\n",
       "      <td>NaN</td>\n",
       "      <td>desc</td>\n",
       "    </tr>\n",
       "    <tr>\n",
       "      <th>notes</th>\n",
       "      <td></td>\n",
       "      <td></td>\n",
       "      <td></td>\n",
       "    </tr>\n",
       "    <tr>\n",
       "      <th>project-id</th>\n",
       "      <td>73968798</td>\n",
       "      <td>73968798</td>\n",
       "      <td>73968798</td>\n",
       "    </tr>\n",
       "    <tr>\n",
       "      <th>project-name</th>\n",
       "      <td>ntr002</td>\n",
       "      <td>ntr002</td>\n",
       "      <td>ntr002</td>\n",
       "    </tr>\n",
       "    <tr>\n",
       "      <th>project-url</th>\n",
       "      <td>git@github.com:nerve-test-...</td>\n",
       "      <td>git@github.com:nerve-test-...</td>\n",
       "      <td>git@github.com:nerve-test-...</td>\n",
       "    </tr>\n",
       "    <tr>\n",
       "      <th>specification</th>\n",
       "      <td>maya001</td>\n",
       "      <td>maya001</td>\n",
       "      <td>vol001</td>\n",
       "    </tr>\n",
       "    <tr>\n",
       "      <th>version</th>\n",
       "      <td>NaN</td>\n",
       "      <td>NaN</td>\n",
       "      <td>1</td>\n",
       "    </tr>\n",
       "  </tbody>\n",
       "</table>\n",
       "</div>"
      ],
      "text/plain": [
       "                                           0                              1                              2\n",
       "asset-id       d541833f-8e81-4759-bbdf-bd...  84df248a-393b-477b-b490-b3...  ec7268d2-ec76-48ee-8809-6a...\n",
       "asset-name          ntr002_maya001_kdny_v001       ntr002_maya001_vasc_v001  ntr002_vol001_desc_v001_-_-_-\n",
       "asset-type                    nondeliverable                 nondeliverable                    deliverable\n",
       "data                                    None                           None                           None\n",
       "dependencies                             NaN                            NaN                             []\n",
       "descriptor                               NaN                            NaN                           desc\n",
       "notes                                                                                                     \n",
       "project-id                          73968798                       73968798                       73968798\n",
       "project-name                          ntr002                         ntr002                         ntr002\n",
       "project-url    git@github.com:nerve-test-...  git@github.com:nerve-test-...  git@github.com:nerve-test-...\n",
       "specification                        maya001                        maya001                         vol001\n",
       "version                                  NaN                            NaN                              1"
      ]
     },
     "execution_count": 8,
     "metadata": {},
     "output_type": "execute_result"
    }
   ],
   "source": [
    "os.chdir('/tmp/ntr002')\n",
    "stat = list(admin.status())\n",
    "data = None\n",
    "if len(stat) > 0:\n",
    "    data = DataFrame(list(stat)).applymap(lambda x: x.data)\n",
    "    data = StitchFrame(data).flatten(prefix=False).to_dataframe().T\n",
    "data"
   ]
  },
  {
   "cell_type": "code",
   "execution_count": 10,
   "metadata": {
    "collapsed": false
   },
   "outputs": [
    {
     "ename": "IndexError",
     "evalue": "list index out of range",
     "output_type": "error",
     "traceback": [
      "\u001b[0;31m---------------------------------------------------------------------------\u001b[0m",
      "\u001b[0;31mIndexError\u001b[0m                                Traceback (most recent call last)",
      "\u001b[0;32m<ipython-input-10-b60c34d3e53b>\u001b[0m in \u001b[0;36m<module>\u001b[0;34m()\u001b[0m\n\u001b[0;32m----> 1\u001b[0;31m \u001b[0mvalid\u001b[0m\u001b[0;34m,\u001b[0m \u001b[0minvalid\u001b[0m \u001b[0;34m=\u001b[0m \u001b[0madmin\u001b[0m\u001b[0;34m.\u001b[0m\u001b[0m_nerve\u001b[0m\u001b[0;34m.\u001b[0m\u001b[0m_get_deliverables\u001b[0m\u001b[0;34m(\u001b[0m\u001b[0minfo\u001b[0m\u001b[0;34m)\u001b[0m\u001b[0;34m\u001b[0m\u001b[0m\n\u001b[0m\u001b[1;32m      2\u001b[0m \u001b[0mvalid\u001b[0m\u001b[0;34m\u001b[0m\u001b[0m\n",
      "\u001b[0;32m/Users/alex/Documents/projects/nerve/python/nerve/core/model.py\u001b[0m in \u001b[0;36m_get_deliverables\u001b[0;34m(self, info)\u001b[0m\n\u001b[1;32m    489\u001b[0m         \u001b[0;32mfor\u001b[0m \u001b[0mdeliv\u001b[0m \u001b[0;32min\u001b[0m \u001b[0mdeliverables\u001b[0m\u001b[0;34m:\u001b[0m\u001b[0;34m\u001b[0m\u001b[0m\n\u001b[1;32m    490\u001b[0m             \u001b[0mdeliv\u001b[0m\u001b[0;34m.\u001b[0m\u001b[0mget_traits\u001b[0m\u001b[0;34m(\u001b[0m\u001b[0;34m)\u001b[0m\u001b[0;34m\u001b[0m\u001b[0m\n\u001b[0;32m--> 491\u001b[0;31m             \u001b[0mdeliv\u001b[0m\u001b[0;34m.\u001b[0m\u001b[0mwrite\u001b[0m\u001b[0;34m(\u001b[0m\u001b[0;34m)\u001b[0m\u001b[0;34m\u001b[0m\u001b[0m\n\u001b[0m\u001b[1;32m    492\u001b[0m             \u001b[0;32mtry\u001b[0m\u001b[0;34m:\u001b[0m\u001b[0;34m\u001b[0m\u001b[0m\n\u001b[1;32m    493\u001b[0m                 \u001b[0mdeliv\u001b[0m\u001b[0;34m.\u001b[0m\u001b[0mvalidate\u001b[0m\u001b[0;34m(\u001b[0m\u001b[0;34m)\u001b[0m\u001b[0;34m\u001b[0m\u001b[0m\n",
      "\u001b[0;32m/Users/alex/Documents/projects/nerve/python/nerve/core/metadata.py\u001b[0m in \u001b[0;36mwrite\u001b[0;34m(self, fullpath, validate)\u001b[0m\n\u001b[1;32m    168\u001b[0m \u001b[0;34m\u001b[0m\u001b[0m\n\u001b[1;32m    169\u001b[0m         \u001b[0;32mif\u001b[0m \u001b[0mvalidate\u001b[0m\u001b[0;34m:\u001b[0m\u001b[0;34m\u001b[0m\u001b[0m\n\u001b[0;32m--> 170\u001b[0;31m             \u001b[0mmeta\u001b[0m \u001b[0;34m=\u001b[0m \u001b[0mtraits\u001b[0m\u001b[0;34m.\u001b[0m\u001b[0mfetch_name_traits\u001b[0m\u001b[0;34m(\u001b[0m\u001b[0mfullpath\u001b[0m\u001b[0;34m)\u001b[0m\u001b[0;34m\u001b[0m\u001b[0m\n\u001b[0m\u001b[1;32m    171\u001b[0m             \u001b[0mMetaName\u001b[0m\u001b[0;34m(\u001b[0m\u001b[0mmeta\u001b[0m\u001b[0;34m)\u001b[0m\u001b[0;34m.\u001b[0m\u001b[0mvalidate\u001b[0m\u001b[0;34m(\u001b[0m\u001b[0;34m)\u001b[0m\u001b[0;34m\u001b[0m\u001b[0m\n\u001b[1;32m    172\u001b[0m \u001b[0;34m\u001b[0m\u001b[0m\n",
      "\u001b[0;32m/Users/alex/Documents/projects/nerve/python/nerve/spec/traits.py\u001b[0m in \u001b[0;36mfetch_name_traits\u001b[0;34m(fullpath, deliverable)\u001b[0m\n\u001b[1;32m     57\u001b[0m         )\n\u001b[1;32m     58\u001b[0m \u001b[0;34m\u001b[0m\u001b[0m\n\u001b[0;32m---> 59\u001b[0;31m         \u001b[0;32mif\u001b[0m \u001b[0mre\u001b[0m\u001b[0;34m.\u001b[0m\u001b[0msearch\u001b[0m\u001b[0;34m(\u001b[0m\u001b[0;34m'\\d\\d\\d-\\d\\d\\d(-\\d\\d\\d)?'\u001b[0m\u001b[0;34m,\u001b[0m \u001b[0mtraits\u001b[0m\u001b[0;34m[\u001b[0m\u001b[0;36m5\u001b[0m\u001b[0;34m]\u001b[0m\u001b[0;34m)\u001b[0m\u001b[0;34m:\u001b[0m\u001b[0;34m\u001b[0m\u001b[0m\n\u001b[0m\u001b[1;32m     60\u001b[0m             \u001b[0mvals\u001b[0m \u001b[0;34m=\u001b[0m \u001b[0mtraits\u001b[0m\u001b[0;34m[\u001b[0m\u001b[0;36m5\u001b[0m\u001b[0;34m]\u001b[0m\u001b[0;34m.\u001b[0m\u001b[0msplit\u001b[0m\u001b[0;34m(\u001b[0m\u001b[0;34m'-'\u001b[0m\u001b[0;34m)\u001b[0m\u001b[0;34m\u001b[0m\u001b[0m\n\u001b[1;32m     61\u001b[0m             \u001b[0mkeys\u001b[0m \u001b[0;34m=\u001b[0m \u001b[0mlist\u001b[0m\u001b[0;34m(\u001b[0m\u001b[0;34m'xyz'\u001b[0m\u001b[0;34m)\u001b[0m\u001b[0;34m[\u001b[0m\u001b[0;34m:\u001b[0m\u001b[0mlen\u001b[0m\u001b[0;34m(\u001b[0m\u001b[0mvals\u001b[0m\u001b[0;34m)\u001b[0m\u001b[0;34m]\u001b[0m\u001b[0;34m\u001b[0m\u001b[0m\n",
      "\u001b[0;31mIndexError\u001b[0m: list index out of range"
     ]
    }
   ],
   "source": [
    "valid, invalid = admin._nerve._get_deliverables(info)\n",
    "valid"
   ]
  },
  {
   "cell_type": "code",
   "execution_count": 8,
   "metadata": {
    "collapsed": false,
    "run_control": {
     "frozen": false,
     "read_only": false
    }
   },
   "outputs": [
    {
     "data": {
      "text/plain": [
       "True"
      ]
     },
     "execution_count": 8,
     "metadata": {},
     "output_type": "execute_result"
    }
   ],
   "source": [
    "admin.publish('some note from the alex', verbosity=2)"
   ]
  },
  {
   "cell_type": "code",
   "execution_count": 9,
   "metadata": {
    "collapsed": true
   },
   "outputs": [],
   "source": [
    "%%bash\n",
    "mv /tmp/ntr002 /tmp/ntr002-new\n",
    "mv /tmp/ntr002-old/ /tmp/ntr002"
   ]
  },
  {
   "cell_type": "code",
   "execution_count": 10,
   "metadata": {
    "collapsed": false
   },
   "outputs": [
    {
     "data": {
      "text/plain": [
       "True"
      ]
     },
     "execution_count": 10,
     "metadata": {},
     "output_type": "execute_result"
    }
   ],
   "source": [
    "admin = NerveAdmin()\n",
    "admin.request()"
   ]
  }
 ],
 "metadata": {
  "kernelspec": {
   "display_name": "Python 3",
   "language": "python",
   "name": "python3"
  },
  "language_info": {
   "codemirror_mode": {
    "name": "ipython",
    "version": 3
   },
   "file_extension": ".py",
   "mimetype": "text/x-python",
   "name": "python",
   "nbconvert_exporter": "python",
   "pygments_lexer": "ipython3",
   "version": "3.4.5"
  },
  "widgets": {
   "state": {},
   "version": "1.1.2"
  }
 },
 "nbformat": 4,
 "nbformat_minor": 1
}
