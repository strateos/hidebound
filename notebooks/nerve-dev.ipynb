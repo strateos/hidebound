{
 "cells": [
  {
   "cell_type": "code",
   "execution_count": 1,
   "metadata": {
    "collapsed": false,
    "run_control": {
     "frozen": false,
     "read_only": false
    }
   },
   "outputs": [
    {
     "name": "stdout",
     "output_type": "stream",
     "text": [
      "/Users/alex/Documents/projects/nerve/python\n",
      "/Users/alex/Documents/projects/nerve\n"
     ]
    }
   ],
   "source": [
    "import re\n",
    "import shutil\n",
    "import pandas as pd\n",
    "from pandas import DataFrame, Series\n",
    "import github3\n",
    "from github3 import login\n",
    "from git import Repo, GitCommandError\n",
    "import yaml\n",
    "from subprocess import Popen, PIPE, STDOUT, SubprocessError, check_output\n",
    "from configparser import ConfigParser\n",
    "from github3.repos.branch import Branch\n",
    "from github3.null import NullObject\n",
    "from schematics.models import Model, BaseType\n",
    "from schematics.types import StringType, IntType, BooleanType\n",
    "from schematics.types.compound import ListType, DictType\n",
    "from schematics.exceptions import ValidationError\n",
    "%cd ~/Documents/projects/nerve/python/\n",
    "from nerve.core.model import Nerve\n",
    "from nerve.core.client import Client\n",
    "from nerve.core.git import Git\n",
    "from nerve.core.git_lfs import GitLFS\n",
    "from nerve.core.utils import execute_subprocess\n",
    "from nerve.spec.specifications import *\n",
    "from nerve.test.test_project import *\n",
    "%cd ~/Documents/projects/nerve"
   ]
  },
  {
   "cell_type": "code",
   "execution_count": 4,
   "metadata": {
    "collapsed": false
   },
   "outputs": [
    {
     "data": {
      "text/plain": [
       "'proj001_vol001_desc_v001.png'"
      ]
     },
     "execution_count": 4,
     "metadata": {},
     "output_type": "execute_result"
    }
   ],
   "source": [
    "os.path.splitext"
   ]
  },
  {
   "cell_type": "code",
   "execution_count": 3,
   "metadata": {
    "collapsed": false
   },
   "outputs": [
    {
     "data": {
      "text/plain": [
       "['specification',\n",
       " 'project_name',\n",
       " 'project_id',\n",
       " 'url',\n",
       " 'notes',\n",
       " 'version',\n",
       " 'asset_name',\n",
       " 'asset_id',\n",
       " 'data',\n",
       " 'descriptor',\n",
       " 'dependencies']"
      ]
     },
     "execution_count": 3,
     "metadata": {},
     "output_type": "execute_result"
    }
   ],
   "source": [
    "v = Vol001({})\n",
    "v.keys()x\n",
    "v.import_data()"
   ]
  },
  {
   "cell_type": "code",
   "execution_count": 71,
   "metadata": {
    "collapsed": false,
    "scrolled": false
   },
   "outputs": [
    {
     "data": {
      "text/plain": [
       "{'assets': [collections.OrderedDict],\n",
       " 'deliverables': ['vol001', 'geo001'],\n",
       " 'extensions': ['obj', 'png'],\n",
       " 'gitignore': None,\n",
       " 'organization': 'nerve-test-organization',\n",
       " 'private': True,\n",
       " 'project_root': '/tmp',\n",
       " 'publish_exclude_patterns': [],\n",
       " 'publish_include_patterns': [],\n",
       " 'request_exclude_patterns': [],\n",
       " 'request_include_patterns': [],\n",
       " 'specification': 'config001',\n",
       " 'teams': {'biz': 'read', 'dev': 'write'},\n",
       " 'token': 'e17afcc8c42fe24536c14700c4931f0e7f252bb1',\n",
       " 'url_type': 'ssh',\n",
       " 'user_branch': 'alex',\n",
       " 'username': 'theNewFlesh'}"
      ]
     },
     "execution_count": 71,
     "metadata": {},
     "output_type": "execute_result"
    }
   ],
   "source": [
    "config_path = '/Users/alex/Documents/projects/nerve/python/nerve/resources/nerverc.yml'\n",
    "config = {}\n",
    "with open(config_path, 'r') as f:\n",
    "    config = yaml.load(f)\n",
    "\n",
    "del config['gitignore']\n",
    "n = Config001(config)\n",
    "# n.convert({'assets': 'banana'})\n",
    "n.import_data({'assets': OrderedDict})\n",
    "n.to_native()"
   ]
  },
  {
   "cell_type": "code",
   "execution_count": 48,
   "metadata": {
    "collapsed": false
   },
   "outputs": [],
   "source": [
    "def get_attrs(item):\n",
    "    schemattrs = [\n",
    "        '_data',\n",
    "        '_fields',\n",
    "        '_initial',\n",
    "        '_options',\n",
    "        '_serializables',\n",
    "        '_subclasses',\n",
    "        '_validator_functions'\n",
    "#         'allow_none',\n",
    "#         'atoms',\n",
    "#         'convert',\n",
    "#         'flatten',\n",
    "#         'from_flat',\n",
    "#         'get',\n",
    "#         'get_mock_object',\n",
    "#         'import_data',\n",
    "#         'items',\n",
    "#         'iter',\n",
    "#         'keys',\n",
    "#         'serialize',\n",
    "#         'to_native',\n",
    "#         'to_primitive',\n",
    "#         'validate',\n",
    "#         'values'\n",
    "    ]\n",
    "    return {k: getattr(item, k) for k in schemattrs}\n",
    "\n",
    "# get_attrs(n)"
   ]
  },
  {
   "cell_type": "code",
   "execution_count": 2,
   "metadata": {
    "collapsed": false,
    "run_control": {
     "frozen": false,
     "read_only": false
    }
   },
   "outputs": [
    {
     "ename": "AttributeError",
     "evalue": "'Nerverc001' object has no attribute '_data'",
     "output_type": "error",
     "traceback": [
      "\u001b[0;31m---------------------------------------------------------------------------\u001b[0m",
      "\u001b[0;31mAttributeError\u001b[0m                            Traceback (most recent call last)",
      "\u001b[0;32m<ipython-input-2-f8689bc955ee>\u001b[0m in \u001b[0;36m<module>\u001b[0;34m()\u001b[0m\n\u001b[1;32m      1\u001b[0m \u001b[0mconfig_path\u001b[0m \u001b[0;34m=\u001b[0m \u001b[0;34m'/Users/alex/Documents/projects/nerve/python/nerve/resources/nerverc.yml'\u001b[0m\u001b[0;34m\u001b[0m\u001b[0m\n\u001b[0;32m----> 2\u001b[0;31m \u001b[0mnerve\u001b[0m \u001b[0;34m=\u001b[0m \u001b[0mNerve\u001b[0m\u001b[0;34m(\u001b[0m\u001b[0mconfig_path\u001b[0m\u001b[0;34m)\u001b[0m\u001b[0;34m\u001b[0m\u001b[0m\n\u001b[0m\u001b[1;32m      3\u001b[0m \u001b[0mname\u001b[0m \u001b[0;34m=\u001b[0m \u001b[0;34m'nerve-test-repo-2'\u001b[0m\u001b[0;34m\u001b[0m\u001b[0m\n\u001b[1;32m      4\u001b[0m \u001b[0mproj\u001b[0m \u001b[0;34m=\u001b[0m \u001b[0mos\u001b[0m\u001b[0;34m.\u001b[0m\u001b[0mpath\u001b[0m\u001b[0;34m.\u001b[0m\u001b[0mjoin\u001b[0m\u001b[0;34m(\u001b[0m\u001b[0mnerve\u001b[0m\u001b[0;34m[\u001b[0m\u001b[0;34m'project-root'\u001b[0m\u001b[0;34m]\u001b[0m\u001b[0;34m,\u001b[0m \u001b[0mname\u001b[0m\u001b[0;34m)\u001b[0m\u001b[0;34m\u001b[0m\u001b[0m\n\u001b[1;32m      5\u001b[0m \u001b[0mconfig\u001b[0m \u001b[0;34m=\u001b[0m \u001b[0mnerve\u001b[0m\u001b[0;34m.\u001b[0m\u001b[0mconfig\u001b[0m\u001b[0;34m\u001b[0m\u001b[0m\n",
      "\u001b[0;32m/Users/alex/Documents/projects/nerve/python/nerve/core/model.py\u001b[0m in \u001b[0;36m__init__\u001b[0;34m(self, config)\u001b[0m\n\u001b[1;32m     47\u001b[0m             \u001b[0;32mwith\u001b[0m \u001b[0mopen\u001b[0m\u001b[0;34m(\u001b[0m\u001b[0mconfig\u001b[0m\u001b[0;34m,\u001b[0m \u001b[0;34m'r'\u001b[0m\u001b[0;34m)\u001b[0m \u001b[0;32mas\u001b[0m \u001b[0mf\u001b[0m\u001b[0;34m:\u001b[0m\u001b[0;34m\u001b[0m\u001b[0m\n\u001b[1;32m     48\u001b[0m                 \u001b[0mconfig\u001b[0m \u001b[0;34m=\u001b[0m \u001b[0myaml\u001b[0m\u001b[0;34m.\u001b[0m\u001b[0mload\u001b[0m\u001b[0;34m(\u001b[0m\u001b[0mf\u001b[0m\u001b[0;34m)\u001b[0m\u001b[0;34m\u001b[0m\u001b[0m\n\u001b[0;32m---> 49\u001b[0;31m         \u001b[0mconfig\u001b[0m \u001b[0;34m=\u001b[0m \u001b[0mNerverc001\u001b[0m\u001b[0;34m(\u001b[0m\u001b[0mconfig\u001b[0m\u001b[0;34m)\u001b[0m\u001b[0;34m\u001b[0m\u001b[0m\n\u001b[0m\u001b[1;32m     50\u001b[0m         \u001b[0mconfig\u001b[0m\u001b[0;34m.\u001b[0m\u001b[0mvalidate\u001b[0m\u001b[0;34m(\u001b[0m\u001b[0;34m)\u001b[0m\u001b[0;34m\u001b[0m\u001b[0m\n\u001b[1;32m     51\u001b[0m         \u001b[0mself\u001b[0m\u001b[0;34m.\u001b[0m\u001b[0m_config\u001b[0m \u001b[0;34m=\u001b[0m \u001b[0mconfig\u001b[0m\u001b[0;34m\u001b[0m\u001b[0m\n",
      "\u001b[0;32m/Users/alex/Documents/projects/nerve/python/nerve/spec/specifications.py\u001b[0m in \u001b[0;36m__init__\u001b[0;34m(self, *args, **kwargs)\u001b[0m\n\u001b[1;32m     10\u001b[0m \u001b[0;32mclass\u001b[0m \u001b[0mBaseModel\u001b[0m\u001b[0;34m(\u001b[0m\u001b[0mModel\u001b[0m\u001b[0;34m)\u001b[0m\u001b[0;34m:\u001b[0m\u001b[0;34m\u001b[0m\u001b[0m\n\u001b[1;32m     11\u001b[0m     \u001b[0;32mdef\u001b[0m \u001b[0m__init__\u001b[0m\u001b[0;34m(\u001b[0m\u001b[0mself\u001b[0m\u001b[0;34m,\u001b[0m \u001b[0;34m*\u001b[0m\u001b[0margs\u001b[0m\u001b[0;34m,\u001b[0m \u001b[0;34m**\u001b[0m\u001b[0mkwargs\u001b[0m\u001b[0;34m)\u001b[0m\u001b[0;34m:\u001b[0m\u001b[0;34m\u001b[0m\u001b[0m\n\u001b[0;32m---> 12\u001b[0;31m         \u001b[0mself\u001b[0m\u001b[0;34m.\u001b[0m\u001b[0mspecification\u001b[0m \u001b[0;34m=\u001b[0m \u001b[0mself\u001b[0m\u001b[0;34m.\u001b[0m\u001b[0m__class__\u001b[0m\u001b[0;34m.\u001b[0m\u001b[0m__name__\u001b[0m\u001b[0;34m.\u001b[0m\u001b[0mlower\u001b[0m\u001b[0;34m(\u001b[0m\u001b[0;34m)\u001b[0m\u001b[0;34m\u001b[0m\u001b[0m\n\u001b[0m\u001b[1;32m     13\u001b[0m         \u001b[0msuper\u001b[0m\u001b[0;34m(\u001b[0m\u001b[0;34m)\u001b[0m\u001b[0;34m.\u001b[0m\u001b[0m__init__\u001b[0m\u001b[0;34m(\u001b[0m\u001b[0;34m*\u001b[0m\u001b[0margs\u001b[0m\u001b[0;34m,\u001b[0m \u001b[0;34m**\u001b[0m\u001b[0mkwargs\u001b[0m\u001b[0;34m)\u001b[0m\u001b[0;34m\u001b[0m\u001b[0m\n\u001b[1;32m     14\u001b[0m \u001b[0;34m\u001b[0m\u001b[0m\n",
      "\u001b[0;32m/Applications/anaconda/envs/nerve-dev/lib/python3.4/site-packages/schematics-1.1.1-py3.4.egg/schematics/models.py\u001b[0m in \u001b[0;36m__set__\u001b[0;34m(self, instance, value)\u001b[0m\n\u001b[1;32m     68\u001b[0m                 isinstance(field, ModelType))):\n\u001b[1;32m     69\u001b[0m             \u001b[0mvalue\u001b[0m \u001b[0;34m=\u001b[0m \u001b[0mfield\u001b[0m\u001b[0;34m.\u001b[0m\u001b[0mmodel_class\u001b[0m\u001b[0;34m(\u001b[0m\u001b[0mvalue\u001b[0m\u001b[0;34m)\u001b[0m\u001b[0;34m\u001b[0m\u001b[0m\n\u001b[0;32m---> 70\u001b[0;31m         \u001b[0minstance\u001b[0m\u001b[0;34m.\u001b[0m\u001b[0m_data\u001b[0m\u001b[0;34m[\u001b[0m\u001b[0mself\u001b[0m\u001b[0;34m.\u001b[0m\u001b[0mname\u001b[0m\u001b[0;34m]\u001b[0m \u001b[0;34m=\u001b[0m \u001b[0mvalue\u001b[0m\u001b[0;34m\u001b[0m\u001b[0m\n\u001b[0m\u001b[1;32m     71\u001b[0m \u001b[0;34m\u001b[0m\u001b[0m\n\u001b[1;32m     72\u001b[0m     \u001b[0;32mdef\u001b[0m \u001b[0m__delete__\u001b[0m\u001b[0;34m(\u001b[0m\u001b[0mself\u001b[0m\u001b[0;34m,\u001b[0m \u001b[0minstance\u001b[0m\u001b[0;34m)\u001b[0m\u001b[0;34m:\u001b[0m\u001b[0;34m\u001b[0m\u001b[0m\n",
      "\u001b[0;31mAttributeError\u001b[0m: 'Nerverc001' object has no attribute '_data'"
     ]
    }
   ],
   "source": [
    "config_path = '/Users/alex/Documents/projects/nerve/python/nerve/resources/nerverc.yml'\n",
    "nerve = Nerve(config_path)\n",
    "name = 'nerve-test-repo-2'\n",
    "proj = os.path.join(nerve['project-root'], name)\n",
    "config = nerve.config\n",
    "repo = Git(proj)\n",
    "del config['gitignore']\n",
    "pprint(config)"
   ]
  },
  {
   "cell_type": "code",
   "execution_count": 3,
   "metadata": {
    "collapsed": false
   },
   "outputs": [],
   "source": [
    "# nerve.delete(name, True, False)\n",
    "# nerve.create(name)\n",
    "# nerve.clone(name)"
   ]
  },
  {
   "cell_type": "code",
   "execution_count": 11,
   "metadata": {
    "collapsed": false
   },
   "outputs": [
    {
     "data": {
      "text/plain": [
       "(None, None)"
      ]
     },
     "execution_count": 11,
     "metadata": {},
     "output_type": "execute_result"
    }
   ],
   "source": [
    "x = '''is_project_name\n",
    "is_project_id\n",
    "is_url\n",
    "is_version\n",
    "is_version\n",
    "is_asset_name\n",
    "is_asset_id\n",
    "is_data\n",
    "is_version\n",
    "is_username\n",
    "is_user_branch\n",
    "is_organization\n",
    "is_project_root\n",
    "is_token\n",
    "is_url_type\n",
    "is_private\n",
    "is_specification\n",
    "is_request_include_patterns\n",
    "is_request_exclude_patterns\n",
    "is_publish_include_patterns\n",
    "is_publish_exclude_patterns\n",
    "is_extensions\n",
    "is_assets\n",
    "is_deliverables\n",
    "is_teams\n",
    "is_gitignore'''\n",
    "x = x.split('\\n')\n",
    "x = sorted(list(set(x)))\n",
    "x = '\\n'.join(x)\n",
    "%pbcopy $x"
   ]
  },
  {
   "cell_type": "code",
   "execution_count": 8,
   "metadata": {
    "collapsed": false
   },
   "outputs": [
    {
     "data": {
      "text/plain": [
       "True"
      ]
     },
     "execution_count": 8,
     "metadata": {},
     "output_type": "execute_result"
    }
   ],
   "source": [
    "nerve._config['request-exclude-patterns'] = []\n",
    "nerve.request(name)"
   ]
  },
  {
   "cell_type": "code",
   "execution_count": 6,
   "metadata": {
    "collapsed": false
   },
   "outputs": [],
   "source": [
    "test_whole_project_cycle()"
   ]
  },
  {
   "cell_type": "code",
   "execution_count": 13,
   "metadata": {
    "collapsed": false
   },
   "outputs": [],
   "source": [
    "def patch(name, nerve, user, username):\n",
    "    path = '/Volumes/data/nerve-test-projects/' + user\n",
    "    if not os.path.exists(path):\n",
    "        os.mkdir(path)\n",
    "    nerve._config['project-root'] = '/Volumes/data/nerve-test-projects/' + user\n",
    "    nerve._config['user-branch'] = user\n",
    "    nerve._config['username'] = username\n",
    "    nerve.clone(name)\n",
    "\n",
    "branches = [\n",
    "#     ('alex', 'theNewFlesh'),\n",
    "    ('nerve-test-user', 'nerve-test-user')\n",
    "]\n",
    "for user, username in branches:\n",
    "    patch(name, nerve, user, username)"
   ]
  },
  {
   "cell_type": "code",
   "execution_count": 9,
   "metadata": {
    "collapsed": true
   },
   "outputs": [],
   "source": [
    "def create_command(branch, version, asset):\n",
    "    cmd = 'echo v{v} > {a}001/ntr_{a}_v{v}.txt; git add --all; git commit -m \"v{v}\";'\n",
    "#     cmd += ' git push origin {b}'\n",
    "    cmd = cmd.format(a=asset, b=branch, v=version)\n",
    "    return cmd\n",
    "\n",
    "def do(branch, versions, asset):\n",
    "    cmds = []    \n",
    "    cmds.append('git checkout {b}'.format(b=branch))\n",
    "    cmds.append('git pull origin dev:{b}'.format(b=branch))\n",
    "    for ver in versions:\n",
    "        cmds.append(create_command(branch, ver, asset))\n",
    "    cmds.append('git push origin {b}'.format(b=branch))\n",
    "    path = '/Users/alex/Documents/data/nerve-test-projects/' + branch + '/nerve-test-repo'\n",
    "#     os.chdir(path)\n",
    "    for cmd in cmds: \n",
    "        print(cmd)\n",
    "#         execute_subprocess(cmd)"
   ]
  },
  {
   "cell_type": "code",
   "execution_count": 10,
   "metadata": {
    "collapsed": false
   },
   "outputs": [
    {
     "name": "stdout",
     "output_type": "stream",
     "text": [
      "git checkout nerve-test-user\n",
      "git pull origin dev:nerve-test-user\n",
      "echo v001 > vol001/ntr_vol_v001.txt; git add --all; git commit -m \"v001\";\n",
      "echo v002 > vol001/ntr_vol_v002.txt; git add --all; git commit -m \"v002\";\n",
      "git push origin nerve-test-user\n"
     ]
    }
   ],
   "source": [
    "do('nerve-test-user', ['001', '002'], 'vol')\n",
    "# do('nerve-test-user', ['001', '002'], 'geo')\n",
    "# do('alex', ['003', '004'], 'vol')\n",
    "# do('nerve-test-user', ['003', '004'], 'geo')"
   ]
  },
  {
   "cell_type": "code",
   "execution_count": 7,
   "metadata": {
    "collapsed": false
   },
   "outputs": [
    {
     "name": "stdout",
     "output_type": "stream",
     "text": [
      "Switched to branch 'dev'\n",
      "Your branch is up-to-date with 'origin/dev'.\n",
      "Updating 6900604..390a4da\n",
      "Fast-forward (no commit created; -m option ignored)\n",
      " vol001/ntr_vol_v001.txt | 1 \u001b[32m+\u001b[m\n",
      " vol001/ntr_vol_v002.txt | 1 \u001b[32m+\u001b[m\n",
      " 2 files changed, 2 insertions(+)\n",
      " create mode 100644 vol001/ntr_vol_v001.txt\n",
      " create mode 100644 vol001/ntr_vol_v002.txt\n",
      "Total 0 (delta 0), reused 0 (delta 0)\n",
      "To git@github.com:nerve-test-organization/nerve-test-repo.git\n",
      "   6900604..390a4da  dev -> dev\n"
     ]
    }
   ],
   "source": [
    "!git checkout dev; git merge nerve-test-user -m 'blah'; git push origin dev; git checkout nerve-test-user"
   ]
  },
  {
   "cell_type": "code",
   "execution_count": 15,
   "metadata": {
    "collapsed": false
   },
   "outputs": [
    {
     "name": "stdout",
     "output_type": "stream",
     "text": [
      "git checkout alex\n",
      "git pull origin dev:alex\n",
      "echo v001 > geo001/ntr_geo_v001.txt; git add --all; git commit -m \"v001\";\n",
      "echo v002 > geo001/ntr_geo_v002.txt; git add --all; git commit -m \"v002\";\n",
      "git push origin alex\n"
     ]
    }
   ],
   "source": [
    "do('alex', ['001', '002'], 'geo')"
   ]
  },
  {
   "cell_type": "code",
   "execution_count": 10,
   "metadata": {
    "collapsed": false
   },
   "outputs": [
    {
     "name": "stdout",
     "output_type": "stream",
     "text": [
      "Switched to branch 'dev'\n",
      "Your branch is behind 'origin/dev' by 2 commits, and can be fast-forwarded.\n",
      "  (use \"git pull\" to update your local branch)\n",
      "Updating 6900604..39e8196\n",
      "Fast-forward (no commit created; -m option ignored)\n",
      " geo001/ntr_geo_v001.txt | 1 \u001b[32m+\u001b[m\n",
      " geo001/ntr_geo_v002.txt | 1 \u001b[32m+\u001b[m\n",
      " vol001/ntr_vol_v001.txt | 1 \u001b[32m+\u001b[m\n",
      " vol001/ntr_vol_v002.txt | 1 \u001b[32m+\u001b[m\n",
      " 4 files changed, 4 insertions(+)\n",
      " create mode 100644 geo001/ntr_geo_v001.txt\n",
      " create mode 100644 geo001/ntr_geo_v002.txt\n",
      " create mode 100644 vol001/ntr_vol_v001.txt\n",
      " create mode 100644 vol001/ntr_vol_v002.txt\n",
      "Total 0 (delta 0), reused 0 (delta 0)\n",
      "To git@github.com:nerve-test-organization/nerve-test-repo.git\n",
      "   390a4da..39e8196  dev -> dev\n",
      "Switched to branch 'alex'\n"
     ]
    }
   ],
   "source": [
    "!git checkout dev; git merge alex -m 'blah'; git push origin dev; git checkout alex"
   ]
  },
  {
   "cell_type": "code",
   "execution_count": 8,
   "metadata": {
    "collapsed": false
   },
   "outputs": [
    {
     "name": "stdout",
     "output_type": "stream",
     "text": [
      "git checkout alex\n",
      "echo v003 > vol001/ntr_vol_v003.txt; git add --all; git commit -m \"v003\";\n",
      "echo v004 > vol001/ntr_vol_v004.txt; git add --all; git commit -m \"v004\";\n",
      "git push origin alex\n",
      "git checkout dev\n",
      "echo v003 > geo001/ntr_geo_v003.txt; git add --all; git commit -m \"v003\";\n",
      "echo v004 > geo001/ntr_geo_v004.txt; git add --all; git commit -m \"v004\";\n",
      "git push origin dev\n"
     ]
    }
   ],
   "source": [
    "do('alex', ['003', '004'], 'vol')\n",
    "do('dev', ['003', '004'], 'geo')"
   ]
  },
  {
   "cell_type": "code",
   "execution_count": 17,
   "metadata": {
    "collapsed": false,
    "run_control": {
     "frozen": false,
     "read_only": false
    }
   },
   "outputs": [],
   "source": [
    "username = 'theNewFlesh'\n",
    "name = 'nerve-test-repo'\n",
    "token = 'e17afcc8c42fe24536c14700c4931f0e7f252bb1'\n",
    "client = login(username, token=token)\n",
    "orgname = 'nerve-test-organization'\n",
    "org = client.organization(orgname)\n",
    "repo = client.repository(orgname, name)\n",
    "# {team.id: team.name for team in org.teams()}"
   ]
  },
  {
   "cell_type": "code",
   "execution_count": 22,
   "metadata": {
    "collapsed": false
   },
   "outputs": [],
   "source": [
    "uri = 'git@github.com:nerve-test-organization/nerve-test-repo.git'\n",
    "path = '/Users/alex/Documents/data/nerve-test-projects/temp/nerve-test-repo'\n",
    "x = Repo.clone_from(uri, path, branch='dev')"
   ]
  },
  {
   "cell_type": "code",
   "execution_count": null,
   "metadata": {
    "collapsed": true
   },
   "outputs": [],
   "source": []
  }
 ],
 "metadata": {
  "kernelspec": {
   "display_name": "Python 3",
   "language": "python",
   "name": "python3"
  },
  "language_info": {
   "codemirror_mode": {
    "name": "ipython",
    "version": 3
   },
   "file_extension": ".py",
   "mimetype": "text/x-python",
   "name": "python",
   "nbconvert_exporter": "python",
   "pygments_lexer": "ipython3",
   "version": "3.4.5"
  }
 },
 "nbformat": 4,
 "nbformat_minor": 1
}
