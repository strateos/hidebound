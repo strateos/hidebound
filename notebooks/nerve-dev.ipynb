{
 "cells": [
  {
   "cell_type": "code",
   "execution_count": 1,
   "metadata": {
    "collapsed": false,
    "run_control": {
     "frozen": false,
     "read_only": false
    }
   },
   "outputs": [
    {
     "name": "stdout",
     "output_type": "stream",
     "text": [
      "/Users/alex/Documents/projects/nerve/python\n",
      "/Users/alex/Documents/projects/nerve\n"
     ]
    }
   ],
   "source": [
    "import re\n",
    "import shutil\n",
    "import pandas as pd\n",
    "from pandas import DataFrame, Series\n",
    "import github3\n",
    "from github3 import login\n",
    "from git import Repo, GitCommandError\n",
    "import yaml\n",
    "from subprocess import Popen, PIPE, STDOUT, SubprocessError, check_output\n",
    "from configparser import ConfigParser\n",
    "from github3.repos.branch import Branch\n",
    "from github3.null import NullObject\n",
    "from schematics.models import Model, BaseType\n",
    "from schematics.types import StringType, IntType, BooleanType\n",
    "from schematics.types.compound import ListType, DictType\n",
    "from schematics.exceptions import ValidationError\n",
    "%cd ~/Documents/projects/nerve/python/\n",
    "from nerve.core.model import Nerve\n",
    "from nerve.core.client import Client\n",
    "from nerve.core.utils import *\n",
    "from nerve.core.git import Git\n",
    "from nerve.core.git_lfs import GitLFS\n",
    "from nerve.core.utils import execute_subprocess, get_status\n",
    "from nerve.spec.specifications import *\n",
    "from nerve.spec.validators import *\n",
    "from nerve.spec.traits import *\n",
    "from nerve.spec import traits\n",
    "from nerve.test.test_project import *\n",
    "%cd ~/Documents/projects/nerve"
   ]
  },
  {
   "cell_type": "code",
   "execution_count": 2,
   "metadata": {
    "collapsed": false,
    "run_control": {
     "frozen": false,
     "read_only": false
    },
    "scrolled": false
   },
   "outputs": [],
   "source": [
    "# config_path = '/Users/alex/Documents/projects/nerve/python/nerve/resources/bad-nerverc.yml'\n",
    "config_path = '/Users/alex/Documents/projects/nerve/python/nerve/resources/nerverc.yml'\n",
    "# conf = yaml.load(open(config_path, 'r'))\n",
    "\n",
    "nerve = Nerve(config_path)\n",
    "name = 'nerve-test-repo-3'\n",
    "proj = os.path.join(nerve['project-root'], name)\n",
    "# nerve"
   ]
  },
  {
   "cell_type": "code",
   "execution_count": 3,
   "metadata": {
    "collapsed": false
   },
   "outputs": [
    {
     "data": {
      "text/plain": [
       "[]"
      ]
     },
     "execution_count": 3,
     "metadata": {},
     "output_type": "execute_result"
    }
   ],
   "source": [
    "list(nerve.status('nerve-test-repo'))"
   ]
  },
  {
   "cell_type": "code",
   "execution_count": 4,
   "metadata": {
    "collapsed": false
   },
   "outputs": [
    {
     "data": {
      "text/plain": [
       "config         {'user-branch': 'alex', 'status-states': [], '...\n",
       "project        {'url': '', 'version': 1, 'project-id': '0', '...\n",
       "name                                           nerve-test-repo-3\n",
       "path                                      /tmp/nerve-test-repo-3\n",
       "states                                                        []\n",
       "asset_types                                        [deliverable]\n",
       "branch                                                      alex\n",
       "verbosity                                                      0\n",
       "client_conf    {'specification': 'client', 'organization': 'n...\n",
       "dtype: object"
      ]
     },
     "execution_count": 4,
     "metadata": {},
     "output_type": "execute_result"
    }
   ],
   "source": [
    "x = nerve._get_info('nerve-test-repo-3', nerve.config)\n",
    "index = ['config', 'project', 'name', 'path', 'states', 'asset_types', 'branch', 'verbosity', 'client_conf']\n",
    "Series(x, index=index)"
   ]
  },
  {
   "cell_type": "code",
   "execution_count": 5,
   "metadata": {
    "collapsed": false
   },
   "outputs": [
    {
     "data": {
      "text/plain": [
       "True"
      ]
     },
     "execution_count": 5,
     "metadata": {},
     "output_type": "execute_result"
    }
   ],
   "source": [
    "nerve.delete(True, True, name=name)"
   ]
  },
  {
   "cell_type": "code",
   "execution_count": 6,
   "metadata": {
    "collapsed": false
   },
   "outputs": [
    {
     "data": {
      "text/plain": [
       "True"
      ]
     },
     "execution_count": 6,
     "metadata": {},
     "output_type": "execute_result"
    }
   ],
   "source": [
    "nerve.create('nerve-test-repo-3')"
   ]
  },
  {
   "cell_type": "code",
   "execution_count": 3,
   "metadata": {
    "collapsed": false,
    "run_control": {
     "frozen": false,
     "read_only": false
    }
   },
   "outputs": [
    {
     "data": {
      "text/plain": [
       "True"
      ]
     },
     "execution_count": 3,
     "metadata": {},
     "output_type": "execute_result"
    }
   ],
   "source": [
    "# nerve.delete(name, False, True)\n",
    "nerve.delete(name, True, False)\n",
    "# nerve.delete(name, True, True)\n",
    "nerve.create(name)"
   ]
  },
  {
   "cell_type": "code",
   "execution_count": 3,
   "metadata": {
    "collapsed": false,
    "run_control": {
     "frozen": false,
     "read_only": false
    }
   },
   "outputs": [
    {
     "data": {
      "text/plain": [
       "True"
      ]
     },
     "execution_count": 3,
     "metadata": {},
     "output_type": "execute_result"
    }
   ],
   "source": [
    "nerve.clone(name)\n",
    "# branch = 'alex'\n",
    "# project, branch = nerve._get_project_and_branch(name, branch)\n",
    "# client = nerve._get_client(name)\n",
    "# project, branch, client"
   ]
  },
  {
   "cell_type": "code",
   "execution_count": 4,
   "metadata": {
    "collapsed": false,
    "run_control": {
     "frozen": false,
     "read_only": false
    }
   },
   "outputs": [
    {
     "name": "stdout",
     "output_type": "stream",
     "text": [
      "vasc v002 vasculature_v002.mb\n",
      ".\n",
      "├── geo001\n",
      "├── maya001\n",
      "│   └── vasculature_v001.mb\n",
      "├── nerve-test-repo-2_meta.yml\n",
      "└── vol001\n",
      "    └── nerve-test-repo-2_vol001_desc_v001_-_-_-\n",
      "        ├── nerve-test-repo-2_vol001_desc_v001_-_-_0000.png\n",
      "        ├── nerve-test-repo-2_vol001_desc_v001_-_-_0001.png\n",
      "        └── nerve-test-repo-2_vol001_desc_v001_-_-_0002.png\n",
      "\n",
      "4 directories, 5 files\n"
     ]
    }
   ],
   "source": [
    "%%bash\n",
    "cd /tmp/nerve-test-repo-2/vol001/\n",
    "mkdir nerve-test-repo-2_vol001_desc_v001_-_-_-\n",
    "cd nerve-test-repo-2_vol001_desc_v001_-_-_-\n",
    "echo v001 0000 > nerve-test-repo-2_vol001_desc_v001_-_-_0000.png\n",
    "echo v001 0001 > nerve-test-repo-2_vol001_desc_v001_-_-_0001.png\n",
    "echo v001 0002 > nerve-test-repo-2_vol001_desc_v001_-_-_0002.png\n",
    "cd ../../maya001\n",
    "echo vasc v001 > vasculature_v001.mb\n",
    "echo vasc v002 vasculature_v002.mb\n",
    "cd ../\n",
    "tree"
   ]
  },
  {
   "cell_type": "code",
   "execution_count": 7,
   "metadata": {
    "collapsed": false,
    "run_control": {
     "frozen": false,
     "read_only": false
    }
   },
   "outputs": [
    {
     "name": "stdout",
     "output_type": "stream",
     "text": [
      "{'asset-id': None,\n",
      " 'asset-name': None,\n",
      " 'data': None,\n",
      " 'deliverable': True,\n",
      " 'dependencies': [],\n",
      " 'descriptor': None,\n",
      " 'notes': '',\n",
      " 'project-id': None,\n",
      " 'project-name': None,\n",
      " 'specification': 'vol001',\n",
      " 'url': None,\n",
      " 'version': None}\n"
     ]
    }
   ],
   "source": [
    "print(list(nerve.status(proj, verbosity=2))[0])"
   ]
  },
  {
   "cell_type": "code",
   "execution_count": 73,
   "metadata": {
    "collapsed": false
   },
   "outputs": [
    {
     "data": {
      "text/plain": [
       "'kiwi'"
      ]
     },
     "execution_count": 73,
     "metadata": {},
     "output_type": "execute_result"
    }
   ],
   "source": [
    "from functools import wraps\n",
    "\n",
    "def test(func):\n",
    "    @wraps\n",
    "    def decorator(**config):\n",
    "        print(config)\n",
    "        return func(**config)\n",
    "    return decorator\n",
    "\n",
    "class Test():\n",
    "    def __init__(self):\n",
    "        self.config = {'key': 'kiwi'}\n",
    "\n",
    "    def _get_config(self, config):\n",
    "        output = self.config\n",
    "        if config != {}:\n",
    "            output.update(config)\n",
    "#             try:\n",
    "#                 MetaData(output).validate()\n",
    "#             except ValidationError as e:\n",
    "#                 raise KeywordError(e)\n",
    "        return output\n",
    "        \n",
    "    def func(self, **config):\n",
    "        config = self._get_config(config)\n",
    "        return config['key']\n",
    "\n",
    "t = Test()\n",
    "t.func()#key='banana', banana='pickle')"
   ]
  },
  {
   "cell_type": "code",
   "execution_count": 74,
   "metadata": {
    "collapsed": false
   },
   "outputs": [
    {
     "data": {
      "text/plain": [
       "{'assets': ['maya001'],\n",
       " 'deliverables': ['vol001', 'geo001'],\n",
       " 'gitignore': ['__pycache__/',\n",
       "  '*.py[cod]',\n",
       "  '*.so',\n",
       "  '.Python',\n",
       "  'env/',\n",
       "  'build/',\n",
       "  'develop-eggs/',\n",
       "  'dist/',\n",
       "  'downloads/',\n",
       "  'eggs/',\n",
       "  '.eggs/',\n",
       "  'lib/',\n",
       "  'lib64/',\n",
       "  'parts/',\n",
       "  'sdist/',\n",
       "  'var/',\n",
       "  '*.egg-info/',\n",
       "  '.installed.cfg',\n",
       "  '*.egg',\n",
       "  '*.manifest',\n",
       "  '*.spec',\n",
       "  'pip-log.txt',\n",
       "  'pip-delete-this-directory.txt',\n",
       "  'htmlcov/',\n",
       "  '.tox/',\n",
       "  '.coverage',\n",
       "  '.coverage.*',\n",
       "  '.cache',\n",
       "  'nosetests.xml',\n",
       "  'coverage.xml',\n",
       "  '*,cover',\n",
       "  '*.mo',\n",
       "  '*.pot',\n",
       "  '*.log',\n",
       "  'docs/_build/',\n",
       "  'target/',\n",
       "  '.ipynb_checkpoints',\n",
       "  '.DS_Store',\n",
       "  'node_modules/'],\n",
       " 'lfs-extensions': ['obj', 'png'],\n",
       " 'organization': 'nerve-test-organization',\n",
       " 'private': True,\n",
       " 'project-root': '/tmp',\n",
       " 'project-specification': 'proj001',\n",
       " 'publish-exclude-patterns': [],\n",
       " 'publish-include-patterns': ['vol.*', 'geo.*'],\n",
       " 'request-exclude-patterns': [],\n",
       " 'request-include-patterns': ['vol.*'],\n",
       " 'specification': 'config001',\n",
       " 'teams': {'biz': 'read', 'dev': 'write'},\n",
       " 'token': 'e17afcc8c42fe24536c14700c4931f0e7f252bb1',\n",
       " 'url-type': 'ssh',\n",
       " 'user-branch': 'alex',\n",
       " 'username': 'theNewFlesh'}"
      ]
     },
     "execution_count": 74,
     "metadata": {},
     "output_type": "execute_result"
    }
   ],
   "source": [
    "Proj001()"
   ]
  },
  {
   "cell_type": "code",
   "execution_count": 4,
   "metadata": {
    "collapsed": false,
    "run_control": {
     "frozen": false,
     "read_only": false
    },
    "scrolled": false
   },
   "outputs": [],
   "source": [
    "x = nerve.publish(name, verbosity=2)\n",
    "x"
   ]
  },
  {
   "cell_type": "code",
   "execution_count": 6,
   "metadata": {
    "collapsed": false,
    "run_control": {
     "frozen": false,
     "read_only": false
    }
   },
   "outputs": [],
   "source": [
    "test_whole_project_cycle()"
   ]
  },
  {
   "cell_type": "code",
   "execution_count": 13,
   "metadata": {
    "collapsed": false,
    "run_control": {
     "frozen": false,
     "read_only": false
    }
   },
   "outputs": [],
   "source": [
    "def patch(name, nerve, user, username):\n",
    "    path = '/Volumes/data/nerve-test-projects/' + user\n",
    "    if not os.path.exists(path):\n",
    "        os.mkdir(path)\n",
    "    nerve._config['project-root'] = '/Volumes/data/nerve-test-projects/' + user\n",
    "    nerve._config['user-branch'] = user\n",
    "    nerve._config['username'] = username\n",
    "    nerve.clone(name)\n",
    "\n",
    "branches = [\n",
    "#     ('alex', 'theNewFlesh'),\n",
    "    ('nerve-test-user', 'nerve-test-user')\n",
    "]\n",
    "for user, username in branches:\n",
    "    patch(name, nerve, user, username)"
   ]
  },
  {
   "cell_type": "code",
   "execution_count": 9,
   "metadata": {
    "collapsed": true,
    "run_control": {
     "frozen": false,
     "read_only": false
    }
   },
   "outputs": [],
   "source": [
    "def create_command(branch, version, asset):\n",
    "    cmd = 'echo v{v} > {a}001/ntr_{a}_v{v}.txt; git add --all; git commit -m \"v{v}\";'\n",
    "#     cmd += ' git push origin {b}'\n",
    "    cmd = cmd.format(a=asset, b=branch, v=version)\n",
    "    return cmd\n",
    "\n",
    "def do(branch, versions, asset):\n",
    "    cmds = []    \n",
    "    cmds.append('git checkout {b}'.format(b=branch))\n",
    "    cmds.append('git pull origin dev:{b}'.format(b=branch))\n",
    "    for ver in versions:\n",
    "        cmds.append(create_command(branch, ver, asset))\n",
    "    cmds.append('git push origin {b}'.format(b=branch))\n",
    "    path = '/Users/alex/Documents/data/nerve-test-projects/' + branch + '/nerve-test-repo'\n",
    "#     os.chdir(path)\n",
    "    for cmd in cmds: \n",
    "        print(cmd)\n",
    "#         execute_subprocess(cmd)"
   ]
  },
  {
   "cell_type": "code",
   "execution_count": 10,
   "metadata": {
    "collapsed": false,
    "run_control": {
     "frozen": false,
     "read_only": false
    }
   },
   "outputs": [
    {
     "name": "stdout",
     "output_type": "stream",
     "text": [
      "git checkout nerve-test-user\n",
      "git pull origin dev:nerve-test-user\n",
      "echo v001 > vol001/ntr_vol_v001.txt; git add --all; git commit -m \"v001\";\n",
      "echo v002 > vol001/ntr_vol_v002.txt; git add --all; git commit -m \"v002\";\n",
      "git push origin nerve-test-user\n"
     ]
    }
   ],
   "source": [
    "do('nerve-test-user', ['001', '002'], 'vol')\n",
    "# do('nerve-test-user', ['001', '002'], 'geo')\n",
    "# do('alex', ['003', '004'], 'vol')\n",
    "# do('nerve-test-user', ['003', '004'], 'geo')"
   ]
  },
  {
   "cell_type": "code",
   "execution_count": 7,
   "metadata": {
    "collapsed": false,
    "run_control": {
     "frozen": false,
     "read_only": false
    }
   },
   "outputs": [
    {
     "name": "stdout",
     "output_type": "stream",
     "text": [
      "Switched to branch 'dev'\n",
      "Your branch is up-to-date with 'origin/dev'.\n",
      "Updating 6900604..390a4da\n",
      "Fast-forward (no commit created; -m option ignored)\n",
      " vol001/ntr_vol_v001.txt | 1 \u001b[32m+\u001b[m\n",
      " vol001/ntr_vol_v002.txt | 1 \u001b[32m+\u001b[m\n",
      " 2 files changed, 2 insertions(+)\n",
      " create mode 100644 vol001/ntr_vol_v001.txt\n",
      " create mode 100644 vol001/ntr_vol_v002.txt\n",
      "Total 0 (delta 0), reused 0 (delta 0)\n",
      "To git@github.com:nerve-test-organization/nerve-test-repo.git\n",
      "   6900604..390a4da  dev -> dev\n"
     ]
    }
   ],
   "source": [
    "!git checkout dev; git merge nerve-test-user -m 'blah'; git push origin dev; git checkout nerve-test-user"
   ]
  },
  {
   "cell_type": "code",
   "execution_count": 15,
   "metadata": {
    "collapsed": false,
    "run_control": {
     "frozen": false,
     "read_only": false
    }
   },
   "outputs": [
    {
     "name": "stdout",
     "output_type": "stream",
     "text": [
      "git checkout alex\n",
      "git pull origin dev:alex\n",
      "echo v001 > geo001/ntr_geo_v001.txt; git add --all; git commit -m \"v001\";\n",
      "echo v002 > geo001/ntr_geo_v002.txt; git add --all; git commit -m \"v002\";\n",
      "git push origin alex\n"
     ]
    }
   ],
   "source": [
    "do('alex', ['001', '002'], 'geo')"
   ]
  },
  {
   "cell_type": "code",
   "execution_count": 10,
   "metadata": {
    "collapsed": false,
    "run_control": {
     "frozen": false,
     "read_only": false
    }
   },
   "outputs": [
    {
     "name": "stdout",
     "output_type": "stream",
     "text": [
      "Switched to branch 'dev'\n",
      "Your branch is behind 'origin/dev' by 2 commits, and can be fast-forwarded.\n",
      "  (use \"git pull\" to update your local branch)\n",
      "Updating 6900604..39e8196\n",
      "Fast-forward (no commit created; -m option ignored)\n",
      " geo001/ntr_geo_v001.txt | 1 \u001b[32m+\u001b[m\n",
      " geo001/ntr_geo_v002.txt | 1 \u001b[32m+\u001b[m\n",
      " vol001/ntr_vol_v001.txt | 1 \u001b[32m+\u001b[m\n",
      " vol001/ntr_vol_v002.txt | 1 \u001b[32m+\u001b[m\n",
      " 4 files changed, 4 insertions(+)\n",
      " create mode 100644 geo001/ntr_geo_v001.txt\n",
      " create mode 100644 geo001/ntr_geo_v002.txt\n",
      " create mode 100644 vol001/ntr_vol_v001.txt\n",
      " create mode 100644 vol001/ntr_vol_v002.txt\n",
      "Total 0 (delta 0), reused 0 (delta 0)\n",
      "To git@github.com:nerve-test-organization/nerve-test-repo.git\n",
      "   390a4da..39e8196  dev -> dev\n",
      "Switched to branch 'alex'\n"
     ]
    }
   ],
   "source": [
    "!git checkout dev; git merge alex -m 'blah'; git push origin dev; git checkout alex"
   ]
  },
  {
   "cell_type": "code",
   "execution_count": 8,
   "metadata": {
    "collapsed": false,
    "run_control": {
     "frozen": false,
     "read_only": false
    }
   },
   "outputs": [
    {
     "name": "stdout",
     "output_type": "stream",
     "text": [
      "git checkout alex\n",
      "echo v003 > vol001/ntr_vol_v003.txt; git add --all; git commit -m \"v003\";\n",
      "echo v004 > vol001/ntr_vol_v004.txt; git add --all; git commit -m \"v004\";\n",
      "git push origin alex\n",
      "git checkout dev\n",
      "echo v003 > geo001/ntr_geo_v003.txt; git add --all; git commit -m \"v003\";\n",
      "echo v004 > geo001/ntr_geo_v004.txt; git add --all; git commit -m \"v004\";\n",
      "git push origin dev\n"
     ]
    }
   ],
   "source": [
    "do('alex', ['003', '004'], 'vol')\n",
    "do('dev', ['003', '004'], 'geo')"
   ]
  },
  {
   "cell_type": "code",
   "execution_count": 17,
   "metadata": {
    "collapsed": false,
    "run_control": {
     "frozen": false,
     "read_only": false
    }
   },
   "outputs": [],
   "source": [
    "username = 'theNewFlesh'\n",
    "name = 'nerve-test-repo'\n",
    "token = 'e17afcc8c42fe24536c14700c4931f0e7f252bb1'\n",
    "client = login(username, token=token)\n",
    "orgname = 'nerve-test-organization'\n",
    "org = client.organization(orgname)\n",
    "repo = client.repository(orgname, name)\n",
    "# {team.id: team.name for team in org.teams()}"
   ]
  },
  {
   "cell_type": "code",
   "execution_count": 22,
   "metadata": {
    "collapsed": false,
    "run_control": {
     "frozen": false,
     "read_only": false
    }
   },
   "outputs": [],
   "source": [
    "uri = 'git@github.com:nerve-test-organization/nerve-test-repo.git'\n",
    "path = '/Users/alex/Documents/data/nerve-test-projects/temp/nerve-test-repo'\n",
    "x = Repo.clone_from(uri, path, branch='dev')"
   ]
  },
  {
   "cell_type": "code",
   "execution_count": null,
   "metadata": {
    "collapsed": true,
    "run_control": {
     "frozen": false,
     "read_only": false
    }
   },
   "outputs": [],
   "source": []
  }
 ],
 "metadata": {
  "kernelspec": {
   "display_name": "Python 3",
   "language": "python",
   "name": "python3"
  },
  "language_info": {
   "codemirror_mode": {
    "name": "ipython",
    "version": 3
   },
   "file_extension": ".py",
   "mimetype": "text/x-python",
   "name": "python",
   "nbconvert_exporter": "python",
   "pygments_lexer": "ipython3",
   "version": "3.4.5"
  },
  "widgets": {
   "state": {},
   "version": "1.1.2"
  }
 },
 "nbformat": 4,
 "nbformat_minor": 1
}
