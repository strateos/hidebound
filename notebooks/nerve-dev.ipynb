{
 "cells": [
  {
   "cell_type": "code",
   "execution_count": 1,
   "metadata": {
    "collapsed": false,
    "run_control": {
     "frozen": false,
     "read_only": false
    }
   },
   "outputs": [
    {
     "name": "stdout",
     "output_type": "stream",
     "text": [
      "/Users/alex/Documents/projects/nerve/python\n",
      "/Users/alex/Documents/projects/nerve\n"
     ]
    }
   ],
   "source": [
    "import re\n",
    "import shutil\n",
    "import pandas as pd\n",
    "from pandas import DataFrame, Series\n",
    "import github3\n",
    "from github3 import login\n",
    "from git import Repo, GitCommandError\n",
    "import yaml\n",
    "from subprocess import Popen, PIPE, STDOUT, SubprocessError, check_output\n",
    "from configparser import ConfigParser\n",
    "from github3.repos.branch import Branch\n",
    "from github3.null import NullObject\n",
    "from schematics.models import Model, BaseType\n",
    "from schematics.types import StringType, IntType, BooleanType\n",
    "from schematics.types.compound import ListType, DictType\n",
    "from schematics.exceptions import ValidationError\n",
    "%cd ~/Documents/projects/nerve/python/\n",
    "from nerve.core.model import Nerve\n",
    "from nerve.core.client import Client\n",
    "from nerve.core.utils import *\n",
    "from nerve.core.git import Git\n",
    "from nerve.core.git_lfs import GitLFS\n",
    "from nerve.core.utils import execute_subprocess\n",
    "from nerve.spec.specifications import *\n",
    "from nerve.spec.validators import *\n",
    "from nerve.spec.traits import *\n",
    "from nerve.spec import traits\n",
    "from nerve.test.test_project import *\n",
    "%cd ~/Documents/projects/nerve"
   ]
  },
  {
   "cell_type": "code",
   "execution_count": 2,
   "metadata": {
    "collapsed": false,
    "run_control": {
     "frozen": false,
     "read_only": false
    }
   },
   "outputs": [
    {
     "name": "stdout",
     "output_type": "stream",
     "text": [
      "{'assets': ['maya001'],\n",
      " 'deliverables': ['vol001', 'geo001'],\n",
      " 'extensions': ['obj', 'png'],\n",
      " 'organization': 'nerve-test-organization',\n",
      " 'private': True,\n",
      " 'project-root': '/tmp',\n",
      " 'publish-exclude-patterns': [],\n",
      " 'publish-include-patterns': ['vol.*', 'geo.*'],\n",
      " 'request-exclude-patterns': [],\n",
      " 'request-include-patterns': ['vol.*'],\n",
      " 'specification': 'config001',\n",
      " 'teams': {'biz': 'read', 'dev': 'write'},\n",
      " 'token': 'e17afcc8c42fe24536c14700c4931f0e7f252bb1',\n",
      " 'url-type': 'ssh',\n",
      " 'user-branch': 'alex',\n",
      " 'username': 'theNewFlesh'}\n"
     ]
    }
   ],
   "source": [
    "config_path = '/Users/alex/Documents/projects/nerve/python/nerve/resources/nerverc.yml'\n",
    "nerve = Nerve(config_path)\n",
    "name = 'nerve-test-repo-2'\n",
    "proj = os.path.join(nerve['project-root'], name)\n",
    "config = nerve.config\n",
    "# repo = Git(proj)\n",
    "del config['gitignore']\n",
    "pprint(config)"
   ]
  },
  {
   "cell_type": "code",
   "execution_count": 4,
   "metadata": {
    "collapsed": false
   },
   "outputs": [
    {
     "data": {
      "text/plain": [
       "{'asset-id': None,\n",
       " 'asset-name': None,\n",
       " 'data': None,\n",
       " 'deliverable': True,\n",
       " 'dependencies': [],\n",
       " 'descriptor': None,\n",
       " 'notes': '',\n",
       " 'project-id': None,\n",
       " 'project-name': None,\n",
       " 'specification': 'vol001',\n",
       " 'url': None,\n",
       " 'version': None}"
      ]
     },
     "execution_count": 4,
     "metadata": {},
     "output_type": "execute_result"
    }
   ],
   "source": [
    "x = list(nerve.status(proj))[0]\n",
    "x.data"
   ]
  },
  {
   "cell_type": "code",
   "execution_count": 3,
   "metadata": {
    "collapsed": false,
    "run_control": {
     "frozen": false,
     "read_only": false
    }
   },
   "outputs": [],
   "source": [
    "# nerve.delete(name, True, False)\n",
    "# nerve.create(name)\n",
    "# nerve.clone(name)"
   ]
  },
  {
   "cell_type": "code",
   "execution_count": 8,
   "metadata": {
    "collapsed": false,
    "run_control": {
     "frozen": false,
     "read_only": false
    }
   },
   "outputs": [
    {
     "data": {
      "text/plain": [
       "True"
      ]
     },
     "execution_count": 8,
     "metadata": {},
     "output_type": "execute_result"
    }
   ],
   "source": [
    "nerve._config['request-exclude-patterns'] = []\n",
    "nerve.request(name)"
   ]
  },
  {
   "cell_type": "code",
   "execution_count": 6,
   "metadata": {
    "collapsed": false,
    "run_control": {
     "frozen": false,
     "read_only": false
    }
   },
   "outputs": [],
   "source": [
    "test_whole_project_cycle()"
   ]
  },
  {
   "cell_type": "code",
   "execution_count": 13,
   "metadata": {
    "collapsed": false,
    "run_control": {
     "frozen": false,
     "read_only": false
    }
   },
   "outputs": [],
   "source": [
    "def patch(name, nerve, user, username):\n",
    "    path = '/Volumes/data/nerve-test-projects/' + user\n",
    "    if not os.path.exists(path):\n",
    "        os.mkdir(path)\n",
    "    nerve._config['project-root'] = '/Volumes/data/nerve-test-projects/' + user\n",
    "    nerve._config['user-branch'] = user\n",
    "    nerve._config['username'] = username\n",
    "    nerve.clone(name)\n",
    "\n",
    "branches = [\n",
    "#     ('alex', 'theNewFlesh'),\n",
    "    ('nerve-test-user', 'nerve-test-user')\n",
    "]\n",
    "for user, username in branches:\n",
    "    patch(name, nerve, user, username)"
   ]
  },
  {
   "cell_type": "code",
   "execution_count": 9,
   "metadata": {
    "collapsed": true,
    "run_control": {
     "frozen": false,
     "read_only": false
    }
   },
   "outputs": [],
   "source": [
    "def create_command(branch, version, asset):\n",
    "    cmd = 'echo v{v} > {a}001/ntr_{a}_v{v}.txt; git add --all; git commit -m \"v{v}\";'\n",
    "#     cmd += ' git push origin {b}'\n",
    "    cmd = cmd.format(a=asset, b=branch, v=version)\n",
    "    return cmd\n",
    "\n",
    "def do(branch, versions, asset):\n",
    "    cmds = []    \n",
    "    cmds.append('git checkout {b}'.format(b=branch))\n",
    "    cmds.append('git pull origin dev:{b}'.format(b=branch))\n",
    "    for ver in versions:\n",
    "        cmds.append(create_command(branch, ver, asset))\n",
    "    cmds.append('git push origin {b}'.format(b=branch))\n",
    "    path = '/Users/alex/Documents/data/nerve-test-projects/' + branch + '/nerve-test-repo'\n",
    "#     os.chdir(path)\n",
    "    for cmd in cmds: \n",
    "        print(cmd)\n",
    "#         execute_subprocess(cmd)"
   ]
  },
  {
   "cell_type": "code",
   "execution_count": 10,
   "metadata": {
    "collapsed": false,
    "run_control": {
     "frozen": false,
     "read_only": false
    }
   },
   "outputs": [
    {
     "name": "stdout",
     "output_type": "stream",
     "text": [
      "git checkout nerve-test-user\n",
      "git pull origin dev:nerve-test-user\n",
      "echo v001 > vol001/ntr_vol_v001.txt; git add --all; git commit -m \"v001\";\n",
      "echo v002 > vol001/ntr_vol_v002.txt; git add --all; git commit -m \"v002\";\n",
      "git push origin nerve-test-user\n"
     ]
    }
   ],
   "source": [
    "do('nerve-test-user', ['001', '002'], 'vol')\n",
    "# do('nerve-test-user', ['001', '002'], 'geo')\n",
    "# do('alex', ['003', '004'], 'vol')\n",
    "# do('nerve-test-user', ['003', '004'], 'geo')"
   ]
  },
  {
   "cell_type": "code",
   "execution_count": 7,
   "metadata": {
    "collapsed": false,
    "run_control": {
     "frozen": false,
     "read_only": false
    }
   },
   "outputs": [
    {
     "name": "stdout",
     "output_type": "stream",
     "text": [
      "Switched to branch 'dev'\n",
      "Your branch is up-to-date with 'origin/dev'.\n",
      "Updating 6900604..390a4da\n",
      "Fast-forward (no commit created; -m option ignored)\n",
      " vol001/ntr_vol_v001.txt | 1 \u001b[32m+\u001b[m\n",
      " vol001/ntr_vol_v002.txt | 1 \u001b[32m+\u001b[m\n",
      " 2 files changed, 2 insertions(+)\n",
      " create mode 100644 vol001/ntr_vol_v001.txt\n",
      " create mode 100644 vol001/ntr_vol_v002.txt\n",
      "Total 0 (delta 0), reused 0 (delta 0)\n",
      "To git@github.com:nerve-test-organization/nerve-test-repo.git\n",
      "   6900604..390a4da  dev -> dev\n"
     ]
    }
   ],
   "source": [
    "!git checkout dev; git merge nerve-test-user -m 'blah'; git push origin dev; git checkout nerve-test-user"
   ]
  },
  {
   "cell_type": "code",
   "execution_count": 15,
   "metadata": {
    "collapsed": false,
    "run_control": {
     "frozen": false,
     "read_only": false
    }
   },
   "outputs": [
    {
     "name": "stdout",
     "output_type": "stream",
     "text": [
      "git checkout alex\n",
      "git pull origin dev:alex\n",
      "echo v001 > geo001/ntr_geo_v001.txt; git add --all; git commit -m \"v001\";\n",
      "echo v002 > geo001/ntr_geo_v002.txt; git add --all; git commit -m \"v002\";\n",
      "git push origin alex\n"
     ]
    }
   ],
   "source": [
    "do('alex', ['001', '002'], 'geo')"
   ]
  },
  {
   "cell_type": "code",
   "execution_count": 10,
   "metadata": {
    "collapsed": false,
    "run_control": {
     "frozen": false,
     "read_only": false
    }
   },
   "outputs": [
    {
     "name": "stdout",
     "output_type": "stream",
     "text": [
      "Switched to branch 'dev'\n",
      "Your branch is behind 'origin/dev' by 2 commits, and can be fast-forwarded.\n",
      "  (use \"git pull\" to update your local branch)\n",
      "Updating 6900604..39e8196\n",
      "Fast-forward (no commit created; -m option ignored)\n",
      " geo001/ntr_geo_v001.txt | 1 \u001b[32m+\u001b[m\n",
      " geo001/ntr_geo_v002.txt | 1 \u001b[32m+\u001b[m\n",
      " vol001/ntr_vol_v001.txt | 1 \u001b[32m+\u001b[m\n",
      " vol001/ntr_vol_v002.txt | 1 \u001b[32m+\u001b[m\n",
      " 4 files changed, 4 insertions(+)\n",
      " create mode 100644 geo001/ntr_geo_v001.txt\n",
      " create mode 100644 geo001/ntr_geo_v002.txt\n",
      " create mode 100644 vol001/ntr_vol_v001.txt\n",
      " create mode 100644 vol001/ntr_vol_v002.txt\n",
      "Total 0 (delta 0), reused 0 (delta 0)\n",
      "To git@github.com:nerve-test-organization/nerve-test-repo.git\n",
      "   390a4da..39e8196  dev -> dev\n",
      "Switched to branch 'alex'\n"
     ]
    }
   ],
   "source": [
    "!git checkout dev; git merge alex -m 'blah'; git push origin dev; git checkout alex"
   ]
  },
  {
   "cell_type": "code",
   "execution_count": 8,
   "metadata": {
    "collapsed": false,
    "run_control": {
     "frozen": false,
     "read_only": false
    }
   },
   "outputs": [
    {
     "name": "stdout",
     "output_type": "stream",
     "text": [
      "git checkout alex\n",
      "echo v003 > vol001/ntr_vol_v003.txt; git add --all; git commit -m \"v003\";\n",
      "echo v004 > vol001/ntr_vol_v004.txt; git add --all; git commit -m \"v004\";\n",
      "git push origin alex\n",
      "git checkout dev\n",
      "echo v003 > geo001/ntr_geo_v003.txt; git add --all; git commit -m \"v003\";\n",
      "echo v004 > geo001/ntr_geo_v004.txt; git add --all; git commit -m \"v004\";\n",
      "git push origin dev\n"
     ]
    }
   ],
   "source": [
    "do('alex', ['003', '004'], 'vol')\n",
    "do('dev', ['003', '004'], 'geo')"
   ]
  },
  {
   "cell_type": "code",
   "execution_count": 17,
   "metadata": {
    "collapsed": false,
    "run_control": {
     "frozen": false,
     "read_only": false
    }
   },
   "outputs": [],
   "source": [
    "username = 'theNewFlesh'\n",
    "name = 'nerve-test-repo'\n",
    "token = 'e17afcc8c42fe24536c14700c4931f0e7f252bb1'\n",
    "client = login(username, token=token)\n",
    "orgname = 'nerve-test-organization'\n",
    "org = client.organization(orgname)\n",
    "repo = client.repository(orgname, name)\n",
    "# {team.id: team.name for team in org.teams()}"
   ]
  },
  {
   "cell_type": "code",
   "execution_count": 22,
   "metadata": {
    "collapsed": false,
    "run_control": {
     "frozen": false,
     "read_only": false
    }
   },
   "outputs": [],
   "source": [
    "uri = 'git@github.com:nerve-test-organization/nerve-test-repo.git'\n",
    "path = '/Users/alex/Documents/data/nerve-test-projects/temp/nerve-test-repo'\n",
    "x = Repo.clone_from(uri, path, branch='dev')"
   ]
  }
 ],
 "metadata": {
  "kernelspec": {
   "display_name": "Python 3",
   "language": "python",
   "name": "python3"
  },
  "language_info": {
   "codemirror_mode": {
    "name": "ipython",
    "version": 3
   },
   "file_extension": ".py",
   "mimetype": "text/x-python",
   "name": "python",
   "nbconvert_exporter": "python",
   "pygments_lexer": "ipython3",
   "version": "3.4.5"
  },
  "widgets": {
   "state": {},
   "version": "1.1.2"
  }
 },
 "nbformat": 4,
 "nbformat_minor": 1
}
