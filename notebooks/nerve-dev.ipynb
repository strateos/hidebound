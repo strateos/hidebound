{
 "cells": [
  {
   "cell_type": "code",
   "execution_count": 1,
   "metadata": {
    "collapsed": false
   },
   "outputs": [
    {
     "name": "stdout",
     "output_type": "stream",
     "text": [
      "/Users/alex/Documents/projects/nerve/python\n"
     ]
    }
   ],
   "source": [
    "import re\n",
    "import shutil\n",
    "from github3 import login\n",
    "from git import Repo\n",
    "import yaml\n",
    "from subprocess import Popen, PIPE, STDOUT, SubprocessError, check_output\n",
    "from configparser import ConfigParser\n",
    "%cd ~/Documents/projects/nerve/python/\n",
    "from nerve.core.model import Nerve\n",
    "from nerve.core.git import Git\n",
    "from nerve.core.git_lfs import GitLFS\n",
    "from nerve.core.utils import execute_subprocess"
   ]
  },
  {
   "cell_type": "code",
   "execution_count": 2,
   "metadata": {
    "collapsed": false
   },
   "outputs": [],
   "source": [
    "config_path = '/Users/alex/Documents/projects/nerve/python/nerve/resources/nerverc.yml'\n",
    "nerve = Nerve(config_path)\n",
    "name = 'nerve-test-repo'\n",
    "proj = os.path.join(nerve._config['project-root'], name)\n",
    "\n",
    "token = nerve._config['token']\n",
    "username = nerve._config['username']\n",
    "\n",
    "client = nerve._client\n",
    "orgname = nerve._config['organization']\n",
    "org = client.organization(orgname)\n",
    "repo = client.repository(orgname, name)\n",
    "\n",
    "repo.delete()\n",
    "shutil.rmtree(proj)"
   ]
  },
  {
   "cell_type": "code",
   "execution_count": 3,
   "metadata": {
    "collapsed": false
   },
   "outputs": [
    {
     "data": {
      "text/plain": [
       "True"
      ]
     },
     "execution_count": 3,
     "metadata": {},
     "output_type": "execute_result"
    }
   ],
   "source": [
    "nerve.create(name)\n",
    "# nerve.clone(name)"
   ]
  },
  {
   "cell_type": "code",
   "execution_count": 7,
   "metadata": {
    "collapsed": false
   },
   "outputs": [
    {
     "name": "stdout",
     "output_type": "stream",
     "text": [
      "{'state': 'added', 'staged': True, 'filepath': 'test/test-file.txt'}\n",
      "{'state': 'added', 'staged': True, 'filepath': 'vol001/ntr_vol_v001.obj'}\n",
      "{'state': 'added', 'staged': True, 'filepath': 'vol001/ntr_vol_v002.obj'}\n",
      "{'state': 'added', 'staged': True, 'filepath': 'vol001/ntr_vol_v003.obj'}\n"
     ]
    },
    {
     "data": {
      "text/plain": [
       "[None, None, None, None]"
      ]
     },
     "execution_count": 7,
     "metadata": {},
     "output_type": "execute_result"
    }
   ],
   "source": [
    "g = Git(proj)\n",
    "list(map(print, g.status(\n",
    "    path_re='.*', states=['added']\n",
    ")))"
   ]
  },
  {
   "cell_type": "code",
   "execution_count": 195,
   "metadata": {
    "collapsed": false
   },
   "outputs": [],
   "source": [
    "from json import dumps\n",
    "\n",
    "# fixed in develop branch of gihub3\n",
    "def add_repository(self, repository, permission=''):\n",
    "    \"\"\"Add ``repository`` to this team.\n",
    "    :param str repository: (required), form: 'user/repo'\n",
    "    :param str permission: (optional), ('pull', 'push', 'admin')\n",
    "    :returns: bool\n",
    "    \"\"\"\n",
    "    data = {'permission': permission}\n",
    "    url = self._build_url('repos', repository, base_url=self._api)\n",
    "    return self._boolean(self._put(url, data=dumps(data)), 204, 404)\n",
    "\n",
    "org = client.organization('nerve-test-organization')\n",
    "\n",
    "r = list(org.repositories())[0]\n",
    "teams = ['biz', 'dev']\n",
    "for team in filter(lambda x: x.name in teams, org.teams()):\n",
    "    add_repository(team, r.full_name, permission='pull')"
   ]
  }
 ],
 "metadata": {
  "kernelspec": {
   "display_name": "Python 3",
   "language": "python",
   "name": "python3"
  },
  "language_info": {
   "codemirror_mode": {
    "name": "ipython",
    "version": 3
   },
   "file_extension": ".py",
   "mimetype": "text/x-python",
   "name": "python",
   "nbconvert_exporter": "python",
   "pygments_lexer": "ipython3",
   "version": "3.4.5"
  }
 },
 "nbformat": 4,
 "nbformat_minor": 1
}
