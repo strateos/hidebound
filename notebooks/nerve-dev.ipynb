{
 "cells": [
  {
   "cell_type": "code",
   "execution_count": 1,
   "metadata": {
    "collapsed": false
   },
   "outputs": [
    {
     "name": "stdout",
     "output_type": "stream",
     "text": [
      "/Users/alex/Documents/projects/nerve/python\n"
     ]
    }
   ],
   "source": [
    "import re\n",
    "import shutil\n",
    "from github3 import login\n",
    "from git import Repo\n",
    "import yaml\n",
    "from subprocess import Popen, PIPE, STDOUT, SubprocessError, check_output\n",
    "from configparser import ConfigParser\n",
    "%cd ~/Documents/projects/nerve/python/\n",
    "from nerve.core.model import Nerve"
   ]
  },
  {
   "cell_type": "code",
   "execution_count": 4,
   "metadata": {
    "collapsed": false
   },
   "outputs": [],
   "source": [
    "config_path = '/Users/alex/Documents/projects/nerve/python/nerve/resources/nerverc.yml'\n",
    "nerve = Nerve(config_path)\n",
    "name = 'nerve-test-repo'\n",
    "# token = nerve._config['token']\n",
    "# username = nerve._config['username']\n",
    "\n",
    "# client = nerve._client\n",
    "# orgname = nerve._config['organization']\n",
    "# org = client.organization(orgname)\n",
    "\n",
    "# repo = client.repository(orgname, name)\n",
    "# repo.delete()\n",
    "proj = os.path.join(nerve._config['project_dir'], name)\n",
    "shutil.rmtree(proj)"
   ]
  },
  {
   "cell_type": "code",
   "execution_count": 5,
   "metadata": {
    "collapsed": false
   },
   "outputs": [],
   "source": [
    "# x = nerve.create(name)\n",
    "nerve.clone('nerve-test-repo')"
   ]
  },
  {
   "cell_type": "code",
   "execution_count": 195,
   "metadata": {
    "collapsed": false
   },
   "outputs": [],
   "source": [
    "from json import dumps\n",
    "\n",
    "# fixed in develop branch of gihub3\n",
    "def add_repository(self, repository, permission=''):\n",
    "    \"\"\"Add ``repository`` to this team.\n",
    "    :param str repository: (required), form: 'user/repo'\n",
    "    :param str permission: (optional), ('pull', 'push', 'admin')\n",
    "    :returns: bool\n",
    "    \"\"\"\n",
    "    data = {'permission': permission}\n",
    "    url = self._build_url('repos', repository, base_url=self._api)\n",
    "    return self._boolean(self._put(url, data=dumps(data)), 204, 404)\n",
    "\n",
    "org = client.organization('nerve-test-organization')\n",
    "\n",
    "r = list(org.repositories())[0]\n",
    "teams = ['biz', 'dev']\n",
    "for team in filter(lambda x: x.name in teams, org.teams()):\n",
    "    add_repository(team, r.full_name, permission='pull')"
   ]
  },
  {
   "cell_type": "code",
   "execution_count": 12,
   "metadata": {
    "collapsed": true
   },
   "outputs": [],
   "source": [
    "from github3.null import NullObject"
   ]
  },
  {
   "cell_type": "code",
   "execution_count": 14,
   "metadata": {
    "collapsed": false
   },
   "outputs": [
    {
     "data": {
      "text/plain": [
       "github3.repos.branch.Branch"
      ]
     },
     "execution_count": 14,
     "metadata": {},
     "output_type": "execute_result"
    }
   ],
   "source": [
    "x = repo.branch('dev')\n",
    "x.__class__\n",
    "# isinstance(x, NullObject)"
   ]
  },
  {
   "cell_type": "code",
   "execution_count": 215,
   "metadata": {
    "collapsed": false
   },
   "outputs": [],
   "source": [
    "# name = 'nerve-test-repo'\n",
    "# owner = nerve._config['username']\n",
    "# x = org.repositories(owner, name)\n",
    "# client.repository(client.name, name)"
   ]
  },
  {
   "cell_type": "code",
   "execution_count": 254,
   "metadata": {
    "collapsed": false
   },
   "outputs": [
    {
     "data": {
      "text/plain": [
       "<Repository [nerve-test-organization/nerve-test-repo]>"
      ]
     },
     "execution_count": 254,
     "metadata": {},
     "output_type": "execute_result"
    }
   ],
   "source": [
    "orgname = 'nerve-test-organization'\n",
    "org = login(orgname, token=nerve._config['token'])\n",
    "repo = org.repository(orgname, 'nerve-test-repo')\n",
    "repo.ssh_url"
   ]
  }
 ],
 "metadata": {
  "kernelspec": {
   "display_name": "Python 3",
   "language": "python",
   "name": "python3"
  },
  "language_info": {
   "codemirror_mode": {
    "name": "ipython",
    "version": 3
   },
   "file_extension": ".py",
   "mimetype": "text/x-python",
   "name": "python",
   "nbconvert_exporter": "python",
   "pygments_lexer": "ipython3",
   "version": "3.4.5"
  }
 },
 "nbformat": 4,
 "nbformat_minor": 1
}
