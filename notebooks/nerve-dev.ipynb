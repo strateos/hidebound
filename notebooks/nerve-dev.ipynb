{
 "cells": [
  {
   "cell_type": "code",
   "execution_count": 8,
   "metadata": {
    "collapsed": false,
    "run_control": {
     "frozen": false,
     "read_only": false
    }
   },
   "outputs": [
    {
     "name": "stdout",
     "output_type": "stream",
     "text": [
      "/Users/alex/Documents/projects/nerve/python\n",
      "/Users/alex/Documents/projects/nerve\n"
     ]
    }
   ],
   "source": [
    "import re\n",
    "import shutil\n",
    "import github3\n",
    "from github3 import login\n",
    "from git import Repo, GitCommandError\n",
    "import yaml\n",
    "from subprocess import Popen, PIPE, STDOUT, SubprocessError, check_output\n",
    "from configparser import ConfigParser\n",
    "%cd ~/Documents/projects/nerve/python/\n",
    "from nerve.core.model import Nerve\n",
    "from nerve.core.client import Client\n",
    "from nerve.core.git import Git\n",
    "from nerve.core.git_lfs import GitLFS\n",
    "from nerve.core.utils import execute_subprocess\n",
    "from nerve.test.test_project import *\n",
    "%cd ~/Documents/projects/nerve"
   ]
  },
  {
   "cell_type": "code",
   "execution_count": 16,
   "metadata": {
    "collapsed": false,
    "run_control": {
     "frozen": false,
     "read_only": false
    }
   },
   "outputs": [
    {
     "name": "stdout",
     "output_type": "stream",
     "text": [
      "{'assets': ['maya'],\n",
      " 'deliverables': ['vol001', 'geo001'],\n",
      " 'extensions': ['obj', 'png'],\n",
      " 'organization': 'nerve-test-organization',\n",
      " 'private': True,\n",
      " 'project-root': '/private/tmp',\n",
      " 'publish-exclude-patterns': None,\n",
      " 'publish-include-patterns': ['geo.*'],\n",
      " 'request-exclude-patterns': None,\n",
      " 'request-include-patterns': ['vol.*'],\n",
      " 'specification': 'proj001',\n",
      " 'teams': {'biz': 'read', 'dev': 'write'},\n",
      " 'token': 'e17afcc8c42fe24536c14700c4931f0e7f252bb1',\n",
      " 'url-type': 'ssh',\n",
      " 'user-branch': 'alex',\n",
      " 'username': 'theNewFlesh'}\n"
     ]
    }
   ],
   "source": [
    "config_path = '/Users/alex/Documents/projects/nerve/python/nerve/resources/nerverc.yml'\n",
    "nerve = Nerve(config_path)\n",
    "name = 'nerve-test-repo-2'\n",
    "proj = os.path.join(nerve['project-root'], name)\n",
    "working_dir = '/Volumes/data/nerve-test-projects/nerve-test-repo-2'\n",
    "config = nerve.config\n",
    "del config['gitignore']\n",
    "pprint(config)"
   ]
  },
  {
   "cell_type": "code",
   "execution_count": 17,
   "metadata": {
    "collapsed": false
   },
   "outputs": [
    {
     "name": "stderr",
     "output_type": "stream",
     "text": [
      "ERROR:root:Internal Python error in the inspect module.\n",
      "Below is the traceback from this internal error.\n",
      "\n"
     ]
    },
    {
     "name": "stdout",
     "output_type": "stream",
     "text": [
      "Traceback (most recent call last):\n",
      "  File \"/Applications/anaconda/envs/nerve-dev/lib/python3.4/site-packages/IPython/core/interactiveshell.py\", line 2881, in run_code\n",
      "    exec(code_obj, self.user_global_ns, self.user_ns)\n",
      "  File \"<ipython-input-17-efee4d34e0b2>\", line 1, in <module>\n",
      "    test_whole_project_cycle()\n",
      "  File \"/Users/alex/Documents/projects/nerve/python/nerve/test/test_project.py\", line 7, in test_whole_project_cycle\n",
      "    config = os.path.join(os.getcwd(), 'python', 'nerve', 'resources', 'nerverc.yml')\n",
      "FileNotFoundError: [Errno 2] No such file or directory\n",
      "\n",
      "During handling of the above exception, another exception occurred:\n",
      "\n",
      "Traceback (most recent call last):\n",
      "  File \"/Applications/anaconda/envs/nerve-dev/lib/python3.4/site-packages/IPython/core/interactiveshell.py\", line 1821, in showtraceback\n",
      "    stb = value._render_traceback_()\n",
      "AttributeError: 'FileNotFoundError' object has no attribute '_render_traceback_'\n",
      "\n",
      "During handling of the above exception, another exception occurred:\n",
      "\n",
      "Traceback (most recent call last):\n",
      "  File \"/Applications/anaconda/envs/nerve-dev/lib/python3.4/site-packages/IPython/core/ultratb.py\", line 1132, in get_records\n",
      "    return _fixed_getinnerframes(etb, number_of_lines_of_context, tb_offset)\n",
      "  File \"/Applications/anaconda/envs/nerve-dev/lib/python3.4/site-packages/IPython/core/ultratb.py\", line 313, in wrapped\n",
      "    return f(*args, **kwargs)\n",
      "  File \"/Applications/anaconda/envs/nerve-dev/lib/python3.4/site-packages/IPython/core/ultratb.py\", line 358, in _fixed_getinnerframes\n",
      "    records = fix_frame_records_filenames(inspect.getinnerframes(etb, context))\n",
      "  File \"/Applications/anaconda/envs/nerve-dev/lib/python3.4/inspect.py\", line 1338, in getinnerframes\n",
      "    framelist.append((tb.tb_frame,) + getframeinfo(tb, context))\n",
      "  File \"/Applications/anaconda/envs/nerve-dev/lib/python3.4/inspect.py\", line 1298, in getframeinfo\n",
      "    filename = getsourcefile(frame) or getfile(frame)\n",
      "  File \"/Applications/anaconda/envs/nerve-dev/lib/python3.4/inspect.py\", line 583, in getsourcefile\n",
      "    if getattr(getmodule(object, filename), '__loader__', None) is not None:\n",
      "  File \"/Applications/anaconda/envs/nerve-dev/lib/python3.4/inspect.py\", line 612, in getmodule\n",
      "    file = getabsfile(object, _filename)\n",
      "  File \"/Applications/anaconda/envs/nerve-dev/lib/python3.4/inspect.py\", line 596, in getabsfile\n",
      "    return os.path.normcase(os.path.abspath(_filename))\n",
      "  File \"/Applications/anaconda/envs/nerve-dev/lib/python3.4/posixpath.py\", line 361, in abspath\n",
      "    cwd = os.getcwd()\n",
      "FileNotFoundError: [Errno 2] No such file or directory\n"
     ]
    },
    {
     "ename": "FileNotFoundError",
     "evalue": "[Errno 2] No such file or directory",
     "output_type": "error",
     "traceback": [
      "\u001b[0;31m---------------------------------------------------------------------------\u001b[0m"
     ]
    }
   ],
   "source": [
    "test_whole_project_cycle()"
   ]
  },
  {
   "cell_type": "code",
   "execution_count": 12,
   "metadata": {
    "collapsed": false
   },
   "outputs": [
    {
     "name": "stdout",
     "output_type": "stream",
     "text": [
      "shell-init: error retrieving current directory: getcwd: cannot access parent directories: No such file or directory\r\n",
      "lrwxr-xr-x@ 1 root  wheel  11 Mar 21  2016 \u001b[35m\u001b[40m/tmp\u001b[m\u001b[m@ -> private/tmp\r\n"
     ]
    }
   ],
   "source": []
  },
  {
   "cell_type": "code",
   "execution_count": 13,
   "metadata": {
    "collapsed": false
   },
   "outputs": [],
   "source": [
    "def patch(name, nerve, user, username):\n",
    "    path = '/Volumes/data/nerve-test-projects/' + user\n",
    "    if not os.path.exists(path):\n",
    "        os.mkdir(path)\n",
    "    nerve._config['project-root'] = '/Volumes/data/nerve-test-projects/' + user\n",
    "    nerve._config['user-branch'] = user\n",
    "    nerve._config['username'] = username\n",
    "    nerve.clone(name)\n",
    "\n",
    "branches = [\n",
    "#     ('alex', 'theNewFlesh'),\n",
    "    ('nerve-test-user', 'nerve-test-user')\n",
    "]\n",
    "for user, username in branches:\n",
    "    patch(name, nerve, user, username)"
   ]
  },
  {
   "cell_type": "code",
   "execution_count": 9,
   "metadata": {
    "collapsed": true
   },
   "outputs": [],
   "source": [
    "def create_command(branch, version, asset):\n",
    "    cmd = 'echo v{v} > {a}001/ntr_{a}_v{v}.txt; git add --all; git commit -m \"v{v}\";'\n",
    "#     cmd += ' git push origin {b}'\n",
    "    cmd = cmd.format(a=asset, b=branch, v=version)\n",
    "    return cmd\n",
    "\n",
    "def do(branch, versions, asset):\n",
    "    cmds = []    \n",
    "    cmds.append('git checkout {b}'.format(b=branch))\n",
    "    cmds.append('git pull origin dev:{b}'.format(b=branch))\n",
    "    for ver in versions:\n",
    "        cmds.append(create_command(branch, ver, asset))\n",
    "    cmds.append('git push origin {b}'.format(b=branch))\n",
    "    path = '/Users/alex/Documents/data/nerve-test-projects/' + branch + '/nerve-test-repo'\n",
    "#     os.chdir(path)\n",
    "    for cmd in cmds: \n",
    "        print(cmd)\n",
    "#         execute_subprocess(cmd)"
   ]
  },
  {
   "cell_type": "code",
   "execution_count": 10,
   "metadata": {
    "collapsed": false
   },
   "outputs": [
    {
     "name": "stdout",
     "output_type": "stream",
     "text": [
      "git checkout nerve-test-user\n",
      "git pull origin dev:nerve-test-user\n",
      "echo v001 > vol001/ntr_vol_v001.txt; git add --all; git commit -m \"v001\";\n",
      "echo v002 > vol001/ntr_vol_v002.txt; git add --all; git commit -m \"v002\";\n",
      "git push origin nerve-test-user\n"
     ]
    }
   ],
   "source": [
    "do('nerve-test-user', ['001', '002'], 'vol')\n",
    "# do('nerve-test-user', ['001', '002'], 'geo')\n",
    "# do('alex', ['003', '004'], 'vol')\n",
    "# do('nerve-test-user', ['003', '004'], 'geo')"
   ]
  },
  {
   "cell_type": "code",
   "execution_count": 7,
   "metadata": {
    "collapsed": false
   },
   "outputs": [
    {
     "name": "stdout",
     "output_type": "stream",
     "text": [
      "Switched to branch 'dev'\n",
      "Your branch is up-to-date with 'origin/dev'.\n",
      "Updating 6900604..390a4da\n",
      "Fast-forward (no commit created; -m option ignored)\n",
      " vol001/ntr_vol_v001.txt | 1 \u001b[32m+\u001b[m\n",
      " vol001/ntr_vol_v002.txt | 1 \u001b[32m+\u001b[m\n",
      " 2 files changed, 2 insertions(+)\n",
      " create mode 100644 vol001/ntr_vol_v001.txt\n",
      " create mode 100644 vol001/ntr_vol_v002.txt\n",
      "Total 0 (delta 0), reused 0 (delta 0)\n",
      "To git@github.com:nerve-test-organization/nerve-test-repo.git\n",
      "   6900604..390a4da  dev -> dev\n"
     ]
    }
   ],
   "source": [
    "!git checkout dev; git merge nerve-test-user -m 'blah'; git push origin dev; git checkout nerve-test-user"
   ]
  },
  {
   "cell_type": "code",
   "execution_count": 15,
   "metadata": {
    "collapsed": false
   },
   "outputs": [
    {
     "name": "stdout",
     "output_type": "stream",
     "text": [
      "git checkout alex\n",
      "git pull origin dev:alex\n",
      "echo v001 > geo001/ntr_geo_v001.txt; git add --all; git commit -m \"v001\";\n",
      "echo v002 > geo001/ntr_geo_v002.txt; git add --all; git commit -m \"v002\";\n",
      "git push origin alex\n"
     ]
    }
   ],
   "source": [
    "do('alex', ['001', '002'], 'geo')"
   ]
  },
  {
   "cell_type": "code",
   "execution_count": 10,
   "metadata": {
    "collapsed": false
   },
   "outputs": [
    {
     "name": "stdout",
     "output_type": "stream",
     "text": [
      "Switched to branch 'dev'\n",
      "Your branch is behind 'origin/dev' by 2 commits, and can be fast-forwarded.\n",
      "  (use \"git pull\" to update your local branch)\n",
      "Updating 6900604..39e8196\n",
      "Fast-forward (no commit created; -m option ignored)\n",
      " geo001/ntr_geo_v001.txt | 1 \u001b[32m+\u001b[m\n",
      " geo001/ntr_geo_v002.txt | 1 \u001b[32m+\u001b[m\n",
      " vol001/ntr_vol_v001.txt | 1 \u001b[32m+\u001b[m\n",
      " vol001/ntr_vol_v002.txt | 1 \u001b[32m+\u001b[m\n",
      " 4 files changed, 4 insertions(+)\n",
      " create mode 100644 geo001/ntr_geo_v001.txt\n",
      " create mode 100644 geo001/ntr_geo_v002.txt\n",
      " create mode 100644 vol001/ntr_vol_v001.txt\n",
      " create mode 100644 vol001/ntr_vol_v002.txt\n",
      "Total 0 (delta 0), reused 0 (delta 0)\n",
      "To git@github.com:nerve-test-organization/nerve-test-repo.git\n",
      "   390a4da..39e8196  dev -> dev\n",
      "Switched to branch 'alex'\n"
     ]
    }
   ],
   "source": [
    "!git checkout dev; git merge alex -m 'blah'; git push origin dev; git checkout alex"
   ]
  },
  {
   "cell_type": "code",
   "execution_count": 8,
   "metadata": {
    "collapsed": false
   },
   "outputs": [
    {
     "name": "stdout",
     "output_type": "stream",
     "text": [
      "git checkout alex\n",
      "echo v003 > vol001/ntr_vol_v003.txt; git add --all; git commit -m \"v003\";\n",
      "echo v004 > vol001/ntr_vol_v004.txt; git add --all; git commit -m \"v004\";\n",
      "git push origin alex\n",
      "git checkout dev\n",
      "echo v003 > geo001/ntr_geo_v003.txt; git add --all; git commit -m \"v003\";\n",
      "echo v004 > geo001/ntr_geo_v004.txt; git add --all; git commit -m \"v004\";\n",
      "git push origin dev\n"
     ]
    }
   ],
   "source": [
    "do('alex', ['003', '004'], 'vol')\n",
    "do('dev', ['003', '004'], 'geo')"
   ]
  },
  {
   "cell_type": "code",
   "execution_count": 17,
   "metadata": {
    "collapsed": false,
    "run_control": {
     "frozen": false,
     "read_only": false
    }
   },
   "outputs": [],
   "source": [
    "username = 'theNewFlesh'\n",
    "name = 'nerve-test-repo'\n",
    "token = 'e17afcc8c42fe24536c14700c4931f0e7f252bb1'\n",
    "client = login(username, token=token)\n",
    "orgname = 'nerve-test-organization'\n",
    "org = client.organization(orgname)\n",
    "repo = client.repository(orgname, name)\n",
    "# {team.id: team.name for team in org.teams()}"
   ]
  },
  {
   "cell_type": "code",
   "execution_count": 22,
   "metadata": {
    "collapsed": false
   },
   "outputs": [],
   "source": [
    "uri = 'git@github.com:nerve-test-organization/nerve-test-repo.git'\n",
    "path = '/Users/alex/Documents/data/nerve-test-projects/temp/nerve-test-repo'\n",
    "x = Repo.clone_from(uri, path, branch='dev')"
   ]
  },
  {
   "cell_type": "code",
   "execution_count": null,
   "metadata": {
    "collapsed": true
   },
   "outputs": [],
   "source": []
  }
 ],
 "metadata": {
  "kernelspec": {
   "display_name": "Python 3",
   "language": "python",
   "name": "python3"
  },
  "language_info": {
   "codemirror_mode": {
    "name": "ipython",
    "version": 3
   },
   "file_extension": ".py",
   "mimetype": "text/x-python",
   "name": "python",
   "nbconvert_exporter": "python",
   "pygments_lexer": "ipython3",
   "version": "3.4.5"
  }
 },
 "nbformat": 4,
 "nbformat_minor": 1
}
