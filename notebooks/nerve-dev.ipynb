{
 "cells": [
  {
   "cell_type": "code",
   "execution_count": 1,
   "metadata": {
    "collapsed": false,
    "run_control": {
     "frozen": false,
     "read_only": false
    }
   },
   "outputs": [
    {
     "name": "stdout",
     "output_type": "stream",
     "text": [
      "/Users/alex/Documents/projects/stitch/python\n",
      "/Users/alex/Documents/projects/nerve/python\n",
      "/private/tmp/ntr002\n"
     ]
    }
   ],
   "source": [
    "import re\n",
    "import shutil\n",
    "import pandas as pd\n",
    "from pandas import DataFrame, Series\n",
    "import github3\n",
    "from github3 import login\n",
    "from git import Repo, GitCommandError\n",
    "import yaml\n",
    "from subprocess import Popen, PIPE, STDOUT, SubprocessError, check_output\n",
    "from configparser import ConfigParser\n",
    "from github3.repos.branch import Branch\n",
    "from github3.null import NullObject\n",
    "from schematics.models import Model, BaseType\n",
    "from schematics.types import StringType, IntType, BooleanType\n",
    "from schematics.types.compound import ListType, DictType\n",
    "from schematics.exceptions import ValidationError\n",
    "%cd ~/Documents/projects/stitch/python/\n",
    "from stitch.core.stitch_frame import StitchFrame\n",
    "%cd ~/Documents/projects/nerve/python/\n",
    "from nerve.core.model import Nerve\n",
    "from nerve.core.client import Client\n",
    "from nerve.core.utils import *\n",
    "from nerve.core.git import Git\n",
    "from nerve.core.git_lfs import GitLFS\n",
    "from nerve.core.metadata import Metadata\n",
    "from nerve.core.utils import execute_subprocess, get_status\n",
    "from nerve.core.api import *\n",
    "from nerve.spec.specifications import *\n",
    "from nerve.spec.validators import *\n",
    "from nerve.spec.traits import *\n",
    "from nerve.spec import traits\n",
    "from nerve.test.test_suite import *\n",
    "%cd /tmp/ntr002"
   ]
  },
  {
   "cell_type": "code",
   "execution_count": 3,
   "metadata": {
    "collapsed": false,
    "run_control": {
     "frozen": false,
     "read_only": false
    }
   },
   "outputs": [
    {
     "data": {
      "text/plain": [
       "{'deliverables': ['vol001', 'geo001'],\n",
       " 'gitignore': ['__pycache__/',\n",
       "  '*.py[cod]',\n",
       "  '*.so',\n",
       "  '.Python',\n",
       "  'env/',\n",
       "  'build/',\n",
       "  'develop-eggs/',\n",
       "  'dist/',\n",
       "  'downloads/',\n",
       "  'eggs/',\n",
       "  '.eggs/',\n",
       "  'lib/',\n",
       "  'lib64/',\n",
       "  'parts/',\n",
       "  'sdist/',\n",
       "  'var/',\n",
       "  '*.egg-info/',\n",
       "  '.installed.cfg',\n",
       "  '*.egg',\n",
       "  '*.manifest',\n",
       "  '*.spec',\n",
       "  'pip-log.txt',\n",
       "  'htmlcov/',\n",
       "  '.tox/',\n",
       "  '.coverage',\n",
       "  '.coverage.*',\n",
       "  '.cache',\n",
       "  'nosetests.xml',\n",
       "  'coverage.xml',\n",
       "  '*,cover',\n",
       "  '*.mo',\n",
       "  '*.pot',\n",
       "  '*.log',\n",
       "  'docs/_build/',\n",
       "  'target/',\n",
       "  '.ipynb_checkpoints',\n",
       "  '.DS_Store',\n",
       "  'node_modules/'],\n",
       " 'lfs-extensions': ['obj', 'png', 'mb'],\n",
       " 'nondeliverables': ['maya001'],\n",
       " 'notes': '',\n",
       " 'private': True,\n",
       " 'project-name': 'ntr002',\n",
       " 'specification': 'proj001',\n",
       " 'teams': {'biz': 'read', 'dev': 'write'},\n",
       " 'version': None}"
      ]
     },
     "execution_count": 3,
     "metadata": {},
     "output_type": "execute_result"
    }
   ],
   "source": [
    "admin = NerveAdmin()\n",
    "info = admin._nerve._get_info('ntr002')\n",
    "info.project"
   ]
  },
  {
   "cell_type": "code",
   "execution_count": 4,
   "metadata": {
    "collapsed": false,
    "run_control": {
     "frozen": false,
     "read_only": false
    }
   },
   "outputs": [
    {
     "data": {
      "text/plain": [
       "True"
      ]
     },
     "execution_count": 4,
     "metadata": {},
     "output_type": "execute_result"
    }
   ],
   "source": [
    "admin.delete('ntr002', True, True)"
   ]
  },
  {
   "cell_type": "code",
   "execution_count": 5,
   "metadata": {
    "collapsed": false,
    "run_control": {
     "frozen": false,
     "read_only": false
    }
   },
   "outputs": [
    {
     "data": {
      "text/plain": [
       "True"
      ]
     },
     "execution_count": 5,
     "metadata": {},
     "output_type": "execute_result"
    }
   ],
   "source": [
    "admin.create('ntr002', 'some note from the admin about the project')\n",
    "admin.clone('ntr002')"
   ]
  },
  {
   "cell_type": "code",
   "execution_count": 6,
   "metadata": {
    "collapsed": false,
    "run_control": {
     "frozen": false,
     "read_only": false
    }
   },
   "outputs": [
    {
     "name": "stdout",
     "output_type": "stream",
     "text": [
      ".\n",
      "├── geo001\n",
      "├── maya001\n",
      "│   ├── ntr002_maya001_kdny_v001.mb\n",
      "│   └── ntr002_maya001_vasc_v001.mb\n",
      "├── ntr002_proj001_meta.yml\n",
      "└── vol001\n",
      "    └── ntr002_vol001_desc_v001_-_-_-\n",
      "        ├── ntr002_vol001_desc_v001_-_-_0000.png\n",
      "        ├── ntr002_vol001_desc_v001_-_-_0001.png\n",
      "        └── ntr002_vol001_desc_v001_-_-_0002.png\n",
      "\n",
      "4 directories, 6 files\n"
     ]
    }
   ],
   "source": [
    "%%bash\n",
    "rm -rf /tmp/ntr002-new\n",
    "cp -R /tmp/ntr002/ /tmp/ntr002-old\n",
    "cd /tmp/ntr002/\n",
    "mkdir vol001/ntr002_vol001_desc_v001_-_-_-\n",
    "echo v001 sdjfkh 0000 > vol001/ntr002_vol001_desc_v001_-_-_-/ntr002_vol001_desc_v001_-_-_0000.png\n",
    "echo v001 jyelkh 0001 > vol001/ntr002_vol001_desc_v001_-_-_-/ntr002_vol001_desc_v001_-_-_0001.png\n",
    "echo v001 lwekfj 0002 > vol001/ntr002_vol001_desc_v001_-_-_-/ntr002_vol001_desc_v001_-_-_0002.png\n",
    "echo vasc v001 > maya001/ntr002_maya001_vasc_v001.mb\n",
    "echo kidney v001 > maya001/ntr002_maya001_kdny_v001.mb\n",
    "tree"
   ]
  },
  {
   "cell_type": "code",
   "execution_count": 4,
   "metadata": {
    "collapsed": false
   },
   "outputs": [],
   "source": [
    "%%bash\n",
    "cd /tmp/ntr002/\n",
    "mkdir vol001/ntr002_vol001_desc_v002_-_-_-\n",
    "echo v002 sdjfkh 0000 > vol001/ntr002_vol001_desc_v002_-_-_-/ntr002_vol001_desc_v002_-_-_0000.png\n",
    "echo v002 jyelkh 0001 > vol001/ntr002_vol001_desc_v002_-_-_-/ntr002_vol001_desc_v002_-_-_0001.png\n",
    "echo v002 lwekfj 0002 > vol001/ntr002_vol001_desc_v002_-_-_-/ntr002_vol001_desc_v002_-_-_0002.png\n",
    "echo vasc v002 > maya001/ntr002_maya001_vasc_v002.mb\n",
    "echo kidney v002 > maya001/ntr002_maya001_kdny_v002.mb\n",
    "tree"
   ]
  },
  {
   "cell_type": "code",
   "execution_count": 7,
   "metadata": {
    "collapsed": false,
    "run_control": {
     "frozen": false,
     "read_only": false
    },
    "scrolled": false
   },
   "outputs": [
    {
     "data": {
      "text/html": [
       "<div>\n",
       "<table border=\"1\" class=\"dataframe\">\n",
       "  <thead>\n",
       "    <tr style=\"text-align: right;\">\n",
       "      <th></th>\n",
       "      <th>0</th>\n",
       "      <th>1</th>\n",
       "      <th>2</th>\n",
       "    </tr>\n",
       "  </thead>\n",
       "  <tbody>\n",
       "    <tr>\n",
       "      <th>asset-id</th>\n",
       "      <td>9b1838a8-1f4e-47aa-9584-51...</td>\n",
       "      <td>b15b4690-cb1f-4c23-aa48-55...</td>\n",
       "      <td>03c11c2e-fad2-419c-b5e3-f1...</td>\n",
       "    </tr>\n",
       "    <tr>\n",
       "      <th>asset-name</th>\n",
       "      <td>ntr002_maya001_kdny_v001</td>\n",
       "      <td>ntr002_maya001_vasc_v001</td>\n",
       "      <td>ntr002_vol001_desc_v001_-_-_-</td>\n",
       "    </tr>\n",
       "    <tr>\n",
       "      <th>asset-type</th>\n",
       "      <td>nondeliverable</td>\n",
       "      <td>nondeliverable</td>\n",
       "      <td>deliverable</td>\n",
       "    </tr>\n",
       "    <tr>\n",
       "      <th>data</th>\n",
       "      <td>None</td>\n",
       "      <td>None</td>\n",
       "      <td>None</td>\n",
       "    </tr>\n",
       "    <tr>\n",
       "      <th>dependencies</th>\n",
       "      <td>NaN</td>\n",
       "      <td>NaN</td>\n",
       "      <td>[]</td>\n",
       "    </tr>\n",
       "    <tr>\n",
       "      <th>descriptor</th>\n",
       "      <td>NaN</td>\n",
       "      <td>NaN</td>\n",
       "      <td>desc</td>\n",
       "    </tr>\n",
       "    <tr>\n",
       "      <th>notes</th>\n",
       "      <td></td>\n",
       "      <td></td>\n",
       "      <td></td>\n",
       "    </tr>\n",
       "    <tr>\n",
       "      <th>project-id</th>\n",
       "      <td>73967966</td>\n",
       "      <td>73967966</td>\n",
       "      <td>73967966</td>\n",
       "    </tr>\n",
       "    <tr>\n",
       "      <th>project-name</th>\n",
       "      <td>ntr002</td>\n",
       "      <td>ntr002</td>\n",
       "      <td>ntr002</td>\n",
       "    </tr>\n",
       "    <tr>\n",
       "      <th>project-url</th>\n",
       "      <td>git@github.com:nerve-test-...</td>\n",
       "      <td>git@github.com:nerve-test-...</td>\n",
       "      <td>git@github.com:nerve-test-...</td>\n",
       "    </tr>\n",
       "    <tr>\n",
       "      <th>specification</th>\n",
       "      <td>maya001</td>\n",
       "      <td>maya001</td>\n",
       "      <td>vol001</td>\n",
       "    </tr>\n",
       "    <tr>\n",
       "      <th>version</th>\n",
       "      <td>NaN</td>\n",
       "      <td>NaN</td>\n",
       "      <td>1</td>\n",
       "    </tr>\n",
       "  </tbody>\n",
       "</table>\n",
       "</div>"
      ],
      "text/plain": [
       "                                           0                              1                              2\n",
       "asset-id       9b1838a8-1f4e-47aa-9584-51...  b15b4690-cb1f-4c23-aa48-55...  03c11c2e-fad2-419c-b5e3-f1...\n",
       "asset-name          ntr002_maya001_kdny_v001       ntr002_maya001_vasc_v001  ntr002_vol001_desc_v001_-_-_-\n",
       "asset-type                    nondeliverable                 nondeliverable                    deliverable\n",
       "data                                    None                           None                           None\n",
       "dependencies                             NaN                            NaN                             []\n",
       "descriptor                               NaN                            NaN                           desc\n",
       "notes                                                                                                     \n",
       "project-id                          73967966                       73967966                       73967966\n",
       "project-name                          ntr002                         ntr002                         ntr002\n",
       "project-url    git@github.com:nerve-test-...  git@github.com:nerve-test-...  git@github.com:nerve-test-...\n",
       "specification                        maya001                        maya001                         vol001\n",
       "version                                  NaN                            NaN                              1"
      ]
     },
     "execution_count": 7,
     "metadata": {},
     "output_type": "execute_result"
    }
   ],
   "source": [
    "os.chdir('/tmp/ntr002')\n",
    "stat = list(admin.status())\n",
    "data = None\n",
    "if len(stat) > 0:\n",
    "    data = DataFrame(list(stat)).applymap(lambda x: x.data)\n",
    "    data = StitchFrame(data).flatten(prefix=False).to_dataframe().T\n",
    "data"
   ]
  },
  {
   "cell_type": "code",
   "execution_count": 8,
   "metadata": {
    "collapsed": false,
    "run_control": {
     "frozen": false,
     "read_only": false
    }
   },
   "outputs": [
    {
     "data": {
      "text/plain": [
       "True"
      ]
     },
     "execution_count": 8,
     "metadata": {},
     "output_type": "execute_result"
    }
   ],
   "source": [
    "admin.publish('some note from the alex', verbosity=2)"
   ]
  },
  {
   "cell_type": "code",
   "execution_count": 9,
   "metadata": {
    "collapsed": true
   },
   "outputs": [],
   "source": [
    "%%bash\n",
    "mv /tmp/ntr002 /tmp/ntr002-new\n",
    "mv /tmp/ntr002-old/ /tmp/ntr002"
   ]
  },
  {
   "cell_type": "code",
   "execution_count": 10,
   "metadata": {
    "collapsed": false
   },
   "outputs": [
    {
     "data": {
      "text/plain": [
       "True"
      ]
     },
     "execution_count": 10,
     "metadata": {},
     "output_type": "execute_result"
    }
   ],
   "source": [
    "admin = NerveAdmin()\n",
    "admin.request()"
   ]
  },
  {
   "cell_type": "code",
   "execution_count": null,
   "metadata": {
    "collapsed": true
   },
   "outputs": [],
   "source": []
  }
 ],
 "metadata": {
  "kernelspec": {
   "display_name": "Python 3",
   "language": "python",
   "name": "python3"
  },
  "language_info": {
   "codemirror_mode": {
    "name": "ipython",
    "version": 3
   },
   "file_extension": ".py",
   "mimetype": "text/x-python",
   "name": "python",
   "nbconvert_exporter": "python",
   "pygments_lexer": "ipython3",
   "version": "3.4.5"
  },
  "widgets": {
   "state": {},
   "version": "1.1.2"
  }
 },
 "nbformat": 4,
 "nbformat_minor": 1
}
